{
 "cells": [
  {
   "cell_type": "markdown",
   "metadata": {},
   "source": [
    "## Work\n",
    "1. 請嘗試將 preproc_x 替換成以每筆資料的 min/max 進行標準化至 -1 ~ 1 間，再進行訓練\n",
    "2. 請嘗試將 mlp 疊更深 (e.g 5~10 層)，進行訓練後觀察 learning curve 的走勢\n",
    "3. (optional) 請改用 GPU 進行訓練 (如果你有 GPU 的話)，比較使用 CPU 與 GPU 的訓練速度"
   ]
  },
  {
   "cell_type": "code",
   "execution_count": 6,
   "metadata": {},
   "outputs": [
    {
     "data": {
      "text/plain": [
       "'\\nYour code here (optional)\\n確認硬體資源\\n'"
      ]
     },
     "execution_count": 6,
     "metadata": {},
     "output_type": "execute_result"
    }
   ],
   "source": [
    "## \n",
    "\"\"\"\n",
    "Your code here (optional)\n",
    "確認硬體資源\n",
    "\"\"\"\n"
   ]
  },
  {
   "cell_type": "code",
   "execution_count": 11,
   "metadata": {},
   "outputs": [],
   "source": [
    "import os\n",
    "import keras\n",
    "os.environ[\"KMP_DUPLICATE_LIB_OK\"]=\"TRUE\"\n",
    "\n",
    "import numpy as np\n",
    "\n",
    "# 請嘗試設定 GPU：os.environ\n"
   ]
  },
  {
   "cell_type": "code",
   "execution_count": 12,
   "metadata": {},
   "outputs": [],
   "source": [
    "train, test = keras.datasets.cifar10.load_data()"
   ]
  },
  {
   "cell_type": "code",
   "execution_count": 13,
   "metadata": {},
   "outputs": [],
   "source": [
    "## 資料前處理\n",
    "def preproc_x(x, flatten = True):\n",
    "    if flatten == True:\n",
    "        x = x.reshape((len(x), -1))\n",
    "    #normalize to -1 & 1\n",
    "    xmin = np.min(x)\n",
    "    xmax = np.max(x)\n",
    "    x = -1 + 2.0 * (x - xmin) / (xmax - xmin)\n",
    "    return x\n",
    "\n",
    "def preproc_y(y,num_classes = 10):\n",
    "    y = keras.utils.to_categorical(y,num_classes)\n",
    "    return y"
   ]
  },
  {
   "cell_type": "code",
   "execution_count": 14,
   "metadata": {},
   "outputs": [],
   "source": [
    "x_train, y_train = train\n",
    "x_test, y_test = test\n",
    "\n",
    "# Preproc the inputs\n",
    "x_train = preproc_x(x_train)\n",
    "x_test = preproc_x(x_test)\n",
    "\n",
    "# Preprc the outputs\n",
    "y_train = preproc_y(y_train)\n",
    "y_test = preproc_y(y_test)"
   ]
  },
  {
   "cell_type": "code",
   "execution_count": 15,
   "metadata": {},
   "outputs": [],
   "source": [
    "\"\"\"Code Here\n",
    "建立你的神經網路\n",
    "\"\"\"\n",
    "def build_mlp(input_shape, output_units = 10, num_neurons = [512,512,256,256,128,128]):\n",
    "    \n",
    "    input_layer = keras.layers.Input(input_shape)\n",
    "    for i,n_units in enumerate(num_neurons):\n",
    "        \n",
    "        if i == 0:\n",
    "            x = keras.layers.Dense(units = n_units, activation = 'relu')(input_layer)\n",
    "        else:\n",
    "            x = keras.layers.Dense(units = n_units, activation = 'relu')(x)\n",
    "    \n",
    "    output_layer = keras.layers.Dense(units = output_units, activation = 'softmax')(x)\n",
    "    model = keras.models.Model(inputs = [input_layer], outputs = [output_layer])\n",
    "    \n",
    "    return model"
   ]
  },
  {
   "cell_type": "code",
   "execution_count": 17,
   "metadata": {},
   "outputs": [
    {
     "name": "stdout",
     "output_type": "stream",
     "text": [
      "WARNING:tensorflow:From /anaconda3/envs/notebook/lib/python3.7/site-packages/tensorflow/python/framework/op_def_library.py:263: colocate_with (from tensorflow.python.framework.ops) is deprecated and will be removed in a future version.\n",
      "Instructions for updating:\n",
      "Colocations handled automatically by placer.\n",
      "_________________________________________________________________\n",
      "Layer (type)                 Output Shape              Param #   \n",
      "=================================================================\n",
      "input_1 (InputLayer)         (None, 3072)              0         \n",
      "_________________________________________________________________\n",
      "dense_1 (Dense)              (None, 512)               1573376   \n",
      "_________________________________________________________________\n",
      "dense_2 (Dense)              (None, 512)               262656    \n",
      "_________________________________________________________________\n",
      "dense_3 (Dense)              (None, 256)               131328    \n",
      "_________________________________________________________________\n",
      "dense_4 (Dense)              (None, 256)               65792     \n",
      "_________________________________________________________________\n",
      "dense_5 (Dense)              (None, 128)               32896     \n",
      "_________________________________________________________________\n",
      "dense_6 (Dense)              (None, 128)               16512     \n",
      "_________________________________________________________________\n",
      "dense_7 (Dense)              (None, 10)                1290      \n",
      "=================================================================\n",
      "Total params: 2,083,850\n",
      "Trainable params: 2,083,850\n",
      "Non-trainable params: 0\n",
      "_________________________________________________________________\n"
     ]
    }
   ],
   "source": [
    "model = build_mlp(x_train.shape[1:])\n",
    "model.summary()"
   ]
  },
  {
   "cell_type": "code",
   "execution_count": 18,
   "metadata": {},
   "outputs": [],
   "source": [
    "## 超參數設定\n",
    "LEARNING_RATE = 0.001\n",
    "EPOCHS = 100\n",
    "BATCH_SIZE = 256"
   ]
  },
  {
   "cell_type": "code",
   "execution_count": 19,
   "metadata": {},
   "outputs": [],
   "source": [
    "optimizer = keras.optimizers.Adam(lr=LEARNING_RATE)\n",
    "model.compile(loss=\"categorical_crossentropy\", metrics=[\"accuracy\"], optimizer=optimizer)"
   ]
  },
  {
   "cell_type": "code",
   "execution_count": 20,
   "metadata": {},
   "outputs": [
    {
     "name": "stdout",
     "output_type": "stream",
     "text": [
      "WARNING:tensorflow:From /anaconda3/envs/notebook/lib/python3.7/site-packages/tensorflow/python/ops/math_ops.py:3066: to_int32 (from tensorflow.python.ops.math_ops) is deprecated and will be removed in a future version.\n",
      "Instructions for updating:\n",
      "Use tf.cast instead.\n",
      "Train on 50000 samples, validate on 10000 samples\n",
      "Epoch 1/100\n",
      "50000/50000 [==============================] - 97s 2ms/step - loss: 1.6835 - acc: 0.3984 - val_loss: 1.5146 - val_acc: 0.4618\n",
      "Epoch 2/100\n",
      "50000/50000 [==============================] - 61s 1ms/step - loss: 1.4542 - acc: 0.4845 - val_loss: 1.4613 - val_acc: 0.4840\n",
      "Epoch 3/100\n",
      "50000/50000 [==============================] - 64s 1ms/step - loss: 1.3345 - acc: 0.5270 - val_loss: 1.3988 - val_acc: 0.5121\n",
      "Epoch 4/100\n",
      "50000/50000 [==============================] - 57s 1ms/step - loss: 1.2348 - acc: 0.5635 - val_loss: 1.3620 - val_acc: 0.5193\n",
      "Epoch 5/100\n",
      "50000/50000 [==============================] - 63s 1ms/step - loss: 1.1415 - acc: 0.5959 - val_loss: 1.3502 - val_acc: 0.5247\n",
      "Epoch 6/100\n",
      "50000/50000 [==============================] - 62s 1ms/step - loss: 1.0676 - acc: 0.6212 - val_loss: 1.3418 - val_acc: 0.5436\n",
      "Epoch 7/100\n",
      "50000/50000 [==============================] - 65s 1ms/step - loss: 0.9795 - acc: 0.6517 - val_loss: 1.3854 - val_acc: 0.5307\n",
      "Epoch 8/100\n",
      "50000/50000 [==============================] - 64s 1ms/step - loss: 0.8997 - acc: 0.6794 - val_loss: 1.4206 - val_acc: 0.5361\n",
      "Epoch 9/100\n",
      "50000/50000 [==============================] - 63s 1ms/step - loss: 0.8244 - acc: 0.7073 - val_loss: 1.4530 - val_acc: 0.5386\n",
      "Epoch 10/100\n",
      "50000/50000 [==============================] - 61s 1ms/step - loss: 0.7494 - acc: 0.7325 - val_loss: 1.4993 - val_acc: 0.5356\n",
      "Epoch 11/100\n",
      "50000/50000 [==============================] - 64s 1ms/step - loss: 0.6787 - acc: 0.7591 - val_loss: 1.5785 - val_acc: 0.5371\n",
      "Epoch 12/100\n",
      "50000/50000 [==============================] - 64s 1ms/step - loss: 0.6111 - acc: 0.7802 - val_loss: 1.6017 - val_acc: 0.5464\n",
      "Epoch 13/100\n",
      "50000/50000 [==============================] - 64s 1ms/step - loss: 0.5446 - acc: 0.8036 - val_loss: 1.7522 - val_acc: 0.5302\n",
      "Epoch 14/100\n",
      "50000/50000 [==============================] - 61s 1ms/step - loss: 0.5016 - acc: 0.8219 - val_loss: 1.8366 - val_acc: 0.5400\n",
      "Epoch 15/100\n",
      "50000/50000 [==============================] - 63s 1ms/step - loss: 0.4377 - acc: 0.8466 - val_loss: 1.9033 - val_acc: 0.5437\n",
      "Epoch 16/100\n",
      "50000/50000 [==============================] - 63s 1ms/step - loss: 0.4097 - acc: 0.8556 - val_loss: 1.9463 - val_acc: 0.5478\n",
      "Epoch 17/100\n",
      "50000/50000 [==============================] - 66s 1ms/step - loss: 0.3628 - acc: 0.8724 - val_loss: 2.0978 - val_acc: 0.5353\n",
      "Epoch 18/100\n",
      "50000/50000 [==============================] - 63s 1ms/step - loss: 0.3311 - acc: 0.8863 - val_loss: 2.1774 - val_acc: 0.5262\n",
      "Epoch 19/100\n",
      "50000/50000 [==============================] - 65s 1ms/step - loss: 0.2985 - acc: 0.8946 - val_loss: 2.2139 - val_acc: 0.5394\n",
      "Epoch 20/100\n",
      "50000/50000 [==============================] - 63s 1ms/step - loss: 0.2767 - acc: 0.9044 - val_loss: 2.3061 - val_acc: 0.5365\n",
      "Epoch 21/100\n",
      "50000/50000 [==============================] - 62s 1ms/step - loss: 0.2710 - acc: 0.9058 - val_loss: 2.4725 - val_acc: 0.5401\n",
      "Epoch 22/100\n",
      "50000/50000 [==============================] - 64s 1ms/step - loss: 0.2410 - acc: 0.9173 - val_loss: 2.4641 - val_acc: 0.5300\n",
      "Epoch 23/100\n",
      "50000/50000 [==============================] - 64s 1ms/step - loss: 0.2231 - acc: 0.9226 - val_loss: 2.5540 - val_acc: 0.5352\n",
      "Epoch 24/100\n",
      "50000/50000 [==============================] - 57s 1ms/step - loss: 0.2191 - acc: 0.9242 - val_loss: 2.6782 - val_acc: 0.5375\n",
      "Epoch 25/100\n",
      "50000/50000 [==============================] - 53s 1ms/step - loss: 0.1908 - acc: 0.9340 - val_loss: 2.7029 - val_acc: 0.5421\n",
      "Epoch 26/100\n",
      "50000/50000 [==============================] - 53s 1ms/step - loss: 0.1865 - acc: 0.9352 - val_loss: 2.7648 - val_acc: 0.5445\n",
      "Epoch 27/100\n",
      "50000/50000 [==============================] - 54s 1ms/step - loss: 0.1767 - acc: 0.9414 - val_loss: 2.6818 - val_acc: 0.5320\n",
      "Epoch 28/100\n",
      "50000/50000 [==============================] - 49s 974us/step - loss: 0.1663 - acc: 0.9438 - val_loss: 2.8309 - val_acc: 0.5397\n",
      "Epoch 29/100\n",
      "50000/50000 [==============================] - 53s 1ms/step - loss: 0.1645 - acc: 0.9444 - val_loss: 2.9562 - val_acc: 0.5394\n",
      "Epoch 30/100\n",
      "50000/50000 [==============================] - 54s 1ms/step - loss: 0.1695 - acc: 0.9425 - val_loss: 2.8586 - val_acc: 0.5386\n",
      "Epoch 31/100\n",
      "50000/50000 [==============================] - 52s 1ms/step - loss: 0.1526 - acc: 0.9483 - val_loss: 2.9510 - val_acc: 0.5417\n",
      "Epoch 32/100\n",
      "50000/50000 [==============================] - 54s 1ms/step - loss: 0.1596 - acc: 0.9461 - val_loss: 2.9223 - val_acc: 0.5316\n",
      "Epoch 33/100\n",
      "50000/50000 [==============================] - 54s 1ms/step - loss: 0.1499 - acc: 0.9491 - val_loss: 2.8433 - val_acc: 0.5404\n",
      "Epoch 34/100\n",
      "50000/50000 [==============================] - 53s 1ms/step - loss: 0.1216 - acc: 0.9594 - val_loss: 3.0238 - val_acc: 0.5438\n",
      "Epoch 35/100\n",
      "50000/50000 [==============================] - 52s 1ms/step - loss: 0.1291 - acc: 0.9554 - val_loss: 3.0650 - val_acc: 0.5351\n",
      "Epoch 36/100\n",
      "50000/50000 [==============================] - 56s 1ms/step - loss: 0.1263 - acc: 0.9578 - val_loss: 3.1623 - val_acc: 0.5328\n",
      "Epoch 37/100\n",
      "50000/50000 [==============================] - 56s 1ms/step - loss: 0.1206 - acc: 0.9606 - val_loss: 3.1916 - val_acc: 0.5358\n",
      "Epoch 38/100\n",
      "50000/50000 [==============================] - 52s 1ms/step - loss: 0.1291 - acc: 0.9566 - val_loss: 3.0334 - val_acc: 0.5369\n",
      "Epoch 39/100\n",
      "50000/50000 [==============================] - 48s 956us/step - loss: 0.1192 - acc: 0.9601 - val_loss: 3.1500 - val_acc: 0.5401\n",
      "Epoch 40/100\n",
      "50000/50000 [==============================] - 47s 940us/step - loss: 0.1174 - acc: 0.9605 - val_loss: 3.1892 - val_acc: 0.5386\n",
      "Epoch 41/100\n",
      "50000/50000 [==============================] - 49s 971us/step - loss: 0.1130 - acc: 0.9625 - val_loss: 3.2251 - val_acc: 0.5368\n",
      "Epoch 42/100\n",
      "50000/50000 [==============================] - 50s 992us/step - loss: 0.1215 - acc: 0.9596 - val_loss: 2.9581 - val_acc: 0.5388\n",
      "Epoch 43/100\n",
      "50000/50000 [==============================] - 52s 1ms/step - loss: 0.1002 - acc: 0.9665 - val_loss: 3.0972 - val_acc: 0.5419\n",
      "Epoch 44/100\n",
      "50000/50000 [==============================] - 51s 1ms/step - loss: 0.0978 - acc: 0.9684 - val_loss: 3.3788 - val_acc: 0.5325\n",
      "Epoch 45/100\n",
      "50000/50000 [==============================] - 50s 1ms/step - loss: 0.1084 - acc: 0.9633 - val_loss: 3.2866 - val_acc: 0.5401\n",
      "Epoch 46/100\n",
      "50000/50000 [==============================] - 51s 1ms/step - loss: 0.1067 - acc: 0.9645 - val_loss: 3.1976 - val_acc: 0.5330\n",
      "Epoch 47/100\n",
      "50000/50000 [==============================] - 51s 1ms/step - loss: 0.1040 - acc: 0.9657 - val_loss: 3.0224 - val_acc: 0.5352\n",
      "Epoch 48/100\n",
      "50000/50000 [==============================] - 48s 968us/step - loss: 0.0979 - acc: 0.9671 - val_loss: 3.3638 - val_acc: 0.5389\n",
      "Epoch 49/100\n",
      "50000/50000 [==============================] - 53s 1ms/step - loss: 0.0925 - acc: 0.9692 - val_loss: 3.1833 - val_acc: 0.5350\n",
      "Epoch 50/100\n",
      "50000/50000 [==============================] - 49s 989us/step - loss: 0.0950 - acc: 0.9687 - val_loss: 3.2249 - val_acc: 0.5363\n",
      "Epoch 51/100\n",
      "50000/50000 [==============================] - 49s 988us/step - loss: 0.0975 - acc: 0.9685 - val_loss: 3.3750 - val_acc: 0.5345\n",
      "Epoch 52/100\n",
      "50000/50000 [==============================] - 50s 1ms/step - loss: 0.1008 - acc: 0.9664 - val_loss: 3.1726 - val_acc: 0.5394\n",
      "Epoch 53/100\n",
      "50000/50000 [==============================] - 51s 1ms/step - loss: 0.0824 - acc: 0.9733 - val_loss: 3.2910 - val_acc: 0.5349\n",
      "Epoch 54/100\n",
      "50000/50000 [==============================] - 50s 1ms/step - loss: 0.0838 - acc: 0.9729 - val_loss: 3.3767 - val_acc: 0.5342\n",
      "Epoch 55/100\n",
      "50000/50000 [==============================] - 52s 1ms/step - loss: 0.0837 - acc: 0.9734 - val_loss: 3.3593 - val_acc: 0.5380\n",
      "Epoch 56/100\n",
      "50000/50000 [==============================] - 53s 1ms/step - loss: 0.0896 - acc: 0.9710 - val_loss: 3.2811 - val_acc: 0.5371\n",
      "Epoch 57/100\n"
     ]
    },
    {
     "name": "stdout",
     "output_type": "stream",
     "text": [
      "50000/50000 [==============================] - 50s 1ms/step - loss: 0.0719 - acc: 0.9772 - val_loss: 3.3615 - val_acc: 0.5375\n",
      "Epoch 58/100\n",
      "50000/50000 [==============================] - 50s 997us/step - loss: 0.0978 - acc: 0.9683 - val_loss: 3.1313 - val_acc: 0.5407\n",
      "Epoch 59/100\n",
      "50000/50000 [==============================] - 52s 1ms/step - loss: 0.0725 - acc: 0.9770 - val_loss: 3.4280 - val_acc: 0.5286\n",
      "Epoch 60/100\n",
      "50000/50000 [==============================] - 50s 992us/step - loss: 0.0904 - acc: 0.9705 - val_loss: 3.2431 - val_acc: 0.5339\n",
      "Epoch 61/100\n",
      "50000/50000 [==============================] - 48s 969us/step - loss: 0.0816 - acc: 0.9725 - val_loss: 3.3018 - val_acc: 0.5395\n",
      "Epoch 62/100\n",
      "50000/50000 [==============================] - 49s 970us/step - loss: 0.0749 - acc: 0.9762 - val_loss: 3.4232 - val_acc: 0.5371\n",
      "Epoch 63/100\n",
      "50000/50000 [==============================] - 51s 1ms/step - loss: 0.0826 - acc: 0.9732 - val_loss: 3.2582 - val_acc: 0.5296\n",
      "Epoch 64/100\n",
      "50000/50000 [==============================] - 48s 959us/step - loss: 0.0685 - acc: 0.9783 - val_loss: 3.4925 - val_acc: 0.5344\n",
      "Epoch 65/100\n",
      "50000/50000 [==============================] - 41s 816us/step - loss: 0.0668 - acc: 0.9784 - val_loss: 3.6854 - val_acc: 0.5427\n",
      "Epoch 66/100\n",
      "50000/50000 [==============================] - 40s 809us/step - loss: 0.0883 - acc: 0.9723 - val_loss: 3.3240 - val_acc: 0.5309\n",
      "Epoch 67/100\n",
      "50000/50000 [==============================] - 38s 765us/step - loss: 0.0656 - acc: 0.9797 - val_loss: 3.3952 - val_acc: 0.5327\n",
      "Epoch 68/100\n",
      "50000/50000 [==============================] - 40s 803us/step - loss: 0.0647 - acc: 0.9798 - val_loss: 3.5079 - val_acc: 0.5344\n",
      "Epoch 69/100\n",
      "50000/50000 [==============================] - 40s 798us/step - loss: 0.0793 - acc: 0.9752 - val_loss: 3.2263 - val_acc: 0.5360\n",
      "Epoch 70/100\n",
      "50000/50000 [==============================] - 41s 814us/step - loss: 0.0670 - acc: 0.9792 - val_loss: 3.3059 - val_acc: 0.5378\n",
      "Epoch 71/100\n",
      "50000/50000 [==============================] - 45s 896us/step - loss: 0.0642 - acc: 0.9796 - val_loss: 3.3940 - val_acc: 0.5466\n",
      "Epoch 72/100\n",
      "50000/50000 [==============================] - 40s 806us/step - loss: 0.0666 - acc: 0.9793 - val_loss: 3.3722 - val_acc: 0.5359\n",
      "Epoch 73/100\n",
      "50000/50000 [==============================] - 33s 653us/step - loss: 0.0737 - acc: 0.9760 - val_loss: 3.4207 - val_acc: 0.5486\n",
      "Epoch 74/100\n",
      "50000/50000 [==============================] - 41s 811us/step - loss: 0.0650 - acc: 0.9799 - val_loss: 3.4168 - val_acc: 0.5384\n",
      "Epoch 75/100\n",
      "50000/50000 [==============================] - 38s 758us/step - loss: 0.0575 - acc: 0.9816 - val_loss: 3.4357 - val_acc: 0.5334\n",
      "Epoch 76/100\n",
      "50000/50000 [==============================] - 40s 793us/step - loss: 0.0650 - acc: 0.9795 - val_loss: 3.3776 - val_acc: 0.5469\n",
      "Epoch 77/100\n",
      "50000/50000 [==============================] - 38s 761us/step - loss: 0.0595 - acc: 0.9805 - val_loss: 3.4332 - val_acc: 0.5360\n",
      "Epoch 78/100\n",
      "50000/50000 [==============================] - 38s 757us/step - loss: 0.0662 - acc: 0.9782 - val_loss: 3.5494 - val_acc: 0.5411\n",
      "Epoch 79/100\n",
      "50000/50000 [==============================] - 39s 770us/step - loss: 0.0616 - acc: 0.9813 - val_loss: 3.4423 - val_acc: 0.5417\n",
      "Epoch 80/100\n",
      "50000/50000 [==============================] - 39s 776us/step - loss: 0.0721 - acc: 0.9776 - val_loss: 3.3899 - val_acc: 0.5397\n",
      "Epoch 81/100\n",
      "50000/50000 [==============================] - 36s 726us/step - loss: 0.0602 - acc: 0.9807 - val_loss: 3.4140 - val_acc: 0.5387\n",
      "Epoch 82/100\n",
      "50000/50000 [==============================] - 36s 723us/step - loss: 0.0594 - acc: 0.9810 - val_loss: 3.3714 - val_acc: 0.5452\n",
      "Epoch 83/100\n",
      "50000/50000 [==============================] - 36s 720us/step - loss: 0.0597 - acc: 0.9804 - val_loss: 3.4528 - val_acc: 0.5355\n",
      "Epoch 84/100\n",
      "50000/50000 [==============================] - 30s 603us/step - loss: 0.0550 - acc: 0.9819 - val_loss: 3.5087 - val_acc: 0.5402\n",
      "Epoch 85/100\n",
      "50000/50000 [==============================] - 38s 764us/step - loss: 0.0603 - acc: 0.9810 - val_loss: 3.3982 - val_acc: 0.5466\n",
      "Epoch 86/100\n",
      "50000/50000 [==============================] - 38s 751us/step - loss: 0.0604 - acc: 0.9817 - val_loss: 3.4657 - val_acc: 0.5332\n",
      "Epoch 87/100\n",
      "50000/50000 [==============================] - 37s 747us/step - loss: 0.0604 - acc: 0.9813 - val_loss: 3.4948 - val_acc: 0.5374\n",
      "Epoch 88/100\n",
      "50000/50000 [==============================] - 39s 782us/step - loss: 0.0545 - acc: 0.9828 - val_loss: 3.6978 - val_acc: 0.5360\n",
      "Epoch 89/100\n",
      "50000/50000 [==============================] - 38s 764us/step - loss: 0.0641 - acc: 0.9805 - val_loss: 3.3828 - val_acc: 0.5423\n",
      "Epoch 90/100\n",
      "50000/50000 [==============================] - 41s 823us/step - loss: 0.0503 - acc: 0.9846 - val_loss: 3.6065 - val_acc: 0.5407\n",
      "Epoch 91/100\n",
      "50000/50000 [==============================] - 40s 798us/step - loss: 0.0559 - acc: 0.9828 - val_loss: 3.4166 - val_acc: 0.5403\n",
      "Epoch 92/100\n",
      "50000/50000 [==============================] - 38s 762us/step - loss: 0.0445 - acc: 0.9858 - val_loss: 3.6355 - val_acc: 0.5421\n",
      "Epoch 93/100\n",
      "50000/50000 [==============================] - 39s 774us/step - loss: 0.0609 - acc: 0.9812 - val_loss: 3.4869 - val_acc: 0.5365\n",
      "Epoch 94/100\n",
      "50000/50000 [==============================] - 41s 813us/step - loss: 0.0551 - acc: 0.9836 - val_loss: 3.4413 - val_acc: 0.5407\n",
      "Epoch 95/100\n",
      "50000/50000 [==============================] - 36s 721us/step - loss: 0.0535 - acc: 0.9833 - val_loss: 3.5322 - val_acc: 0.5418\n",
      "Epoch 96/100\n",
      "50000/50000 [==============================] - 42s 843us/step - loss: 0.0513 - acc: 0.9834 - val_loss: 3.6323 - val_acc: 0.5345\n",
      "Epoch 97/100\n",
      "50000/50000 [==============================] - 42s 833us/step - loss: 0.0489 - acc: 0.9852 - val_loss: 3.6159 - val_acc: 0.5431\n",
      "Epoch 98/100\n",
      "50000/50000 [==============================] - 40s 794us/step - loss: 0.0561 - acc: 0.9823 - val_loss: 3.3062 - val_acc: 0.5422\n",
      "Epoch 99/100\n",
      "50000/50000 [==============================] - 41s 829us/step - loss: 0.0541 - acc: 0.9838 - val_loss: 3.6107 - val_acc: 0.5471\n",
      "Epoch 100/100\n",
      "50000/50000 [==============================] - 41s 813us/step - loss: 0.0472 - acc: 0.9853 - val_loss: 3.5945 - val_acc: 0.5460\n"
     ]
    },
    {
     "data": {
      "text/plain": [
       "<keras.callbacks.History at 0x10926ae10>"
      ]
     },
     "execution_count": 20,
     "metadata": {},
     "output_type": "execute_result"
    }
   ],
   "source": [
    "model.fit(x_train, y_train, \n",
    "          epochs=EPOCHS, \n",
    "          batch_size=BATCH_SIZE, \n",
    "          validation_data=(x_test, y_test), \n",
    "          shuffle=True)"
   ]
  },
  {
   "cell_type": "code",
   "execution_count": 22,
   "metadata": {},
   "outputs": [
    {
     "data": {
      "image/png": "[encoded data removed]",
      "text/plain": [
       "<Figure size 432x288 with 1 Axes>"
      ]
     },
     "metadata": {
      "needs_background": "light"
     },
     "output_type": "display_data"
    },
    {
     "data": {
      "image/png": "[encoded data removed]",
      "text/plain": [
       "<Figure size 432x288 with 1 Axes>"
      ]
     },
     "metadata": {
      "needs_background": "light"
     },
     "output_type": "display_data"
    }
   ],
   "source": [
    "import matplotlib.pyplot as plt\n",
    "\n",
    "\n",
    "train_loss = model.history.history[\"loss\"]\n",
    "valid_loss = model.history.history[\"val_loss\"]\n",
    "\n",
    "train_acc = model.history.history[\"acc\"]\n",
    "valid_acc = model.history.history[\"val_acc\"]\n",
    "\n",
    "plt.plot(range(len(train_loss)), train_loss, label=\"train loss\")\n",
    "plt.plot(range(len(valid_loss)), valid_loss, label=\"valid loss\")\n",
    "plt.legend()\n",
    "plt.title(\"Loss\")\n",
    "plt.show()\n",
    "\n",
    "plt.plot(range(len(train_acc)), train_acc, label=\"train accuracy\")\n",
    "plt.plot(range(len(valid_acc)), valid_acc, label=\"valid accuracy\")\n",
    "plt.legend()\n",
    "plt.title(\"Accuracy\")\n",
    "plt.show()"
   ]
  },
  {
   "cell_type": "code",
   "execution_count": null,
   "metadata": {},
   "outputs": [],
   "source": []
  }
 ],
 "metadata": {
  "kernelspec": {
   "display_name": "Python 3",
   "language": "python",
   "name": "python3"
  },
  "language_info": {
   "codemirror_mode": {
    "name": "ipython",
    "version": 3
   },
   "file_extension": ".py",
   "mimetype": "text/x-python",
   "name": "python",
   "nbconvert_exporter": "python",
   "pygments_lexer": "ipython3",
   "version": "3.7.3"
  }
 },
 "nbformat": 4,
 "nbformat_minor": 2
}

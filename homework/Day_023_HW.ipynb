{
 "cells": [
  {
   "cell_type": "markdown",
   "metadata": {
    "collapsed": true
   },
   "source": [
    "# 作業 : (Kaggle)鐵達尼生存預測\n",
    "https://www.kaggle.com/c/titanic"
   ]
  },
  {
   "cell_type": "markdown",
   "metadata": {},
   "source": [
    "# [作業目標]\n",
    "- 試著模仿範例寫法, 在鐵達尼生存預測中, 觀察均值編碼的效果"
   ]
  },
  {
   "cell_type": "markdown",
   "metadata": {},
   "source": [
    "# [作業重點]\n",
    "- 仿造範例, 完成標籤編碼與均值編碼搭配邏輯斯迴歸的預測\n",
    "- 觀察標籤編碼與均值編碼在特徵數量 / 邏輯斯迴歸分數 / 邏輯斯迴歸時間上, 分別有什麼影響 (In[3], Out[3], In[4], Out[4]) "
   ]
  },
  {
   "cell_type": "markdown",
   "metadata": {
    "collapsed": true
   },
   "source": [
    "# 作業1\n",
    "* 請仿照範例，將鐵達尼範例中的類別型特徵改用均值編碼實作一次"
   ]
  },
  {
   "cell_type": "code",
   "execution_count": 1,
   "metadata": {},
   "outputs": [
    {
     "data": {
      "text/html": [
       "<div>\n",
       "<style scoped>\n",
       "    .dataframe tbody tr th:only-of-type {\n",
       "        vertical-align: middle;\n",
       "    }\n",
       "\n",
       "    .dataframe tbody tr th {\n",
       "        vertical-align: top;\n",
       "    }\n",
       "\n",
       "    .dataframe thead th {\n",
       "        text-align: right;\n",
       "    }\n",
       "</style>\n",
       "<table border=\"1\" class=\"dataframe\">\n",
       "  <thead>\n",
       "    <tr style=\"text-align: right;\">\n",
       "      <th></th>\n",
       "      <th>Pclass</th>\n",
       "      <th>Name</th>\n",
       "      <th>Sex</th>\n",
       "      <th>Age</th>\n",
       "      <th>SibSp</th>\n",
       "      <th>Parch</th>\n",
       "      <th>Ticket</th>\n",
       "      <th>Fare</th>\n",
       "      <th>Cabin</th>\n",
       "      <th>Embarked</th>\n",
       "    </tr>\n",
       "  </thead>\n",
       "  <tbody>\n",
       "    <tr>\n",
       "      <th>0</th>\n",
       "      <td>3</td>\n",
       "      <td>Braund, Mr. Owen Harris</td>\n",
       "      <td>male</td>\n",
       "      <td>22.0</td>\n",
       "      <td>1</td>\n",
       "      <td>0</td>\n",
       "      <td>A/5 21171</td>\n",
       "      <td>7.2500</td>\n",
       "      <td>NaN</td>\n",
       "      <td>S</td>\n",
       "    </tr>\n",
       "    <tr>\n",
       "      <th>1</th>\n",
       "      <td>1</td>\n",
       "      <td>Cumings, Mrs. John Bradley (Florence Briggs Th...</td>\n",
       "      <td>female</td>\n",
       "      <td>38.0</td>\n",
       "      <td>1</td>\n",
       "      <td>0</td>\n",
       "      <td>PC 17599</td>\n",
       "      <td>71.2833</td>\n",
       "      <td>C85</td>\n",
       "      <td>C</td>\n",
       "    </tr>\n",
       "    <tr>\n",
       "      <th>2</th>\n",
       "      <td>3</td>\n",
       "      <td>Heikkinen, Miss. Laina</td>\n",
       "      <td>female</td>\n",
       "      <td>26.0</td>\n",
       "      <td>0</td>\n",
       "      <td>0</td>\n",
       "      <td>STON/O2. 3101282</td>\n",
       "      <td>7.9250</td>\n",
       "      <td>NaN</td>\n",
       "      <td>S</td>\n",
       "    </tr>\n",
       "    <tr>\n",
       "      <th>3</th>\n",
       "      <td>1</td>\n",
       "      <td>Futrelle, Mrs. Jacques Heath (Lily May Peel)</td>\n",
       "      <td>female</td>\n",
       "      <td>35.0</td>\n",
       "      <td>1</td>\n",
       "      <td>0</td>\n",
       "      <td>113803</td>\n",
       "      <td>53.1000</td>\n",
       "      <td>C123</td>\n",
       "      <td>S</td>\n",
       "    </tr>\n",
       "    <tr>\n",
       "      <th>4</th>\n",
       "      <td>3</td>\n",
       "      <td>Allen, Mr. William Henry</td>\n",
       "      <td>male</td>\n",
       "      <td>35.0</td>\n",
       "      <td>0</td>\n",
       "      <td>0</td>\n",
       "      <td>373450</td>\n",
       "      <td>8.0500</td>\n",
       "      <td>NaN</td>\n",
       "      <td>S</td>\n",
       "    </tr>\n",
       "  </tbody>\n",
       "</table>\n",
       "</div>"
      ],
      "text/plain": [
       "   Pclass                                               Name     Sex   Age  \\\n",
       "0       3                            Braund, Mr. Owen Harris    male  22.0   \n",
       "1       1  Cumings, Mrs. John Bradley (Florence Briggs Th...  female  38.0   \n",
       "2       3                             Heikkinen, Miss. Laina  female  26.0   \n",
       "3       1       Futrelle, Mrs. Jacques Heath (Lily May Peel)  female  35.0   \n",
       "4       3                           Allen, Mr. William Henry    male  35.0   \n",
       "\n",
       "   SibSp  Parch            Ticket     Fare Cabin Embarked  \n",
       "0      1      0         A/5 21171   7.2500   NaN        S  \n",
       "1      1      0          PC 17599  71.2833   C85        C  \n",
       "2      0      0  STON/O2. 3101282   7.9250   NaN        S  \n",
       "3      1      0            113803  53.1000  C123        S  \n",
       "4      0      0            373450   8.0500   NaN        S  "
      ]
     },
     "execution_count": 1,
     "metadata": {},
     "output_type": "execute_result"
    }
   ],
   "source": [
    "# 做完特徵工程前的所有準備 (與前範例相同)\n",
    "import pandas as pd\n",
    "import numpy as np\n",
    "import copy, time\n",
    "from sklearn.preprocessing import MinMaxScaler\n",
    "from sklearn.model_selection import cross_val_score\n",
    "from sklearn.linear_model import LogisticRegression\n",
    "from sklearn.preprocessing import LabelEncoder\n",
    "\n",
    "data_path = 'data/'\n",
    "df_train = pd.read_csv(data_path + 'titanic_train.csv')\n",
    "df_test = pd.read_csv(data_path + 'titanic_test.csv')\n",
    "\n",
    "train_Y = df_train['Survived']\n",
    "ids = df_test['PassengerId']\n",
    "df_train = df_train.drop(['PassengerId', 'Survived'] , axis=1)\n",
    "df_test = df_test.drop(['PassengerId'] , axis=1)\n",
    "df = pd.concat([df_train,df_test])\n",
    "df.head()"
   ]
  },
  {
   "cell_type": "code",
   "execution_count": 2,
   "metadata": {},
   "outputs": [
    {
     "name": "stdout",
     "output_type": "stream",
     "text": [
      "5 Numeric Features : ['Name', 'Sex', 'Ticket', 'Cabin', 'Embarked']\n",
      "\n"
     ]
    },
    {
     "data": {
      "text/html": [
       "<div>\n",
       "<style scoped>\n",
       "    .dataframe tbody tr th:only-of-type {\n",
       "        vertical-align: middle;\n",
       "    }\n",
       "\n",
       "    .dataframe tbody tr th {\n",
       "        vertical-align: top;\n",
       "    }\n",
       "\n",
       "    .dataframe thead th {\n",
       "        text-align: right;\n",
       "    }\n",
       "</style>\n",
       "<table border=\"1\" class=\"dataframe\">\n",
       "  <thead>\n",
       "    <tr style=\"text-align: right;\">\n",
       "      <th></th>\n",
       "      <th>Name</th>\n",
       "      <th>Sex</th>\n",
       "      <th>Ticket</th>\n",
       "      <th>Cabin</th>\n",
       "      <th>Embarked</th>\n",
       "    </tr>\n",
       "  </thead>\n",
       "  <tbody>\n",
       "    <tr>\n",
       "      <th>0</th>\n",
       "      <td>Braund, Mr. Owen Harris</td>\n",
       "      <td>male</td>\n",
       "      <td>A/5 21171</td>\n",
       "      <td>None</td>\n",
       "      <td>S</td>\n",
       "    </tr>\n",
       "    <tr>\n",
       "      <th>1</th>\n",
       "      <td>Cumings, Mrs. John Bradley (Florence Briggs Th...</td>\n",
       "      <td>female</td>\n",
       "      <td>PC 17599</td>\n",
       "      <td>C85</td>\n",
       "      <td>C</td>\n",
       "    </tr>\n",
       "    <tr>\n",
       "      <th>2</th>\n",
       "      <td>Heikkinen, Miss. Laina</td>\n",
       "      <td>female</td>\n",
       "      <td>STON/O2. 3101282</td>\n",
       "      <td>None</td>\n",
       "      <td>S</td>\n",
       "    </tr>\n",
       "    <tr>\n",
       "      <th>3</th>\n",
       "      <td>Futrelle, Mrs. Jacques Heath (Lily May Peel)</td>\n",
       "      <td>female</td>\n",
       "      <td>113803</td>\n",
       "      <td>C123</td>\n",
       "      <td>S</td>\n",
       "    </tr>\n",
       "    <tr>\n",
       "      <th>4</th>\n",
       "      <td>Allen, Mr. William Henry</td>\n",
       "      <td>male</td>\n",
       "      <td>373450</td>\n",
       "      <td>None</td>\n",
       "      <td>S</td>\n",
       "    </tr>\n",
       "  </tbody>\n",
       "</table>\n",
       "</div>"
      ],
      "text/plain": [
       "                                                Name     Sex  \\\n",
       "0                            Braund, Mr. Owen Harris    male   \n",
       "1  Cumings, Mrs. John Bradley (Florence Briggs Th...  female   \n",
       "2                             Heikkinen, Miss. Laina  female   \n",
       "3       Futrelle, Mrs. Jacques Heath (Lily May Peel)  female   \n",
       "4                           Allen, Mr. William Henry    male   \n",
       "\n",
       "             Ticket Cabin Embarked  \n",
       "0         A/5 21171  None        S  \n",
       "1          PC 17599   C85        C  \n",
       "2  STON/O2. 3101282  None        S  \n",
       "3            113803  C123        S  \n",
       "4            373450  None        S  "
      ]
     },
     "execution_count": 2,
     "metadata": {},
     "output_type": "execute_result"
    }
   ],
   "source": [
    "#只取類別值 (object) 型欄位, 存於 object_features 中\n",
    "object_features = []\n",
    "for dtype, feature in zip(df.dtypes, df.columns):\n",
    "    if dtype == 'object':\n",
    "        object_features.append(feature)\n",
    "print(f'{len(object_features)} Numeric Features : {object_features}\\n')\n",
    "\n",
    "# 只留類別型欄位\n",
    "df = df[object_features]\n",
    "df = df.fillna('None')\n",
    "train_num = train_Y.shape[0]\n",
    "df.head()"
   ]
  },
  {
   "cell_type": "markdown",
   "metadata": {
    "collapsed": true
   },
   "source": [
    "# 作業2\n",
    "* 觀察鐵達尼生存預測中，均值編碼與標籤編碼兩者比較，哪一個效果比較好? 可能的原因是什麼?  \n",
    "均值編碼 + 邏輯斯迴歸的效果比較好。可能是因為鐵達尼生存預測中的類別特徵與目標有明顯相關性的緣故。"
   ]
  },
  {
   "cell_type": "code",
   "execution_count": 16,
   "metadata": {},
   "outputs": [
    {
     "name": "stdout",
     "output_type": "stream",
     "text": [
      "shape : (891, 5)\n",
      "score : 0.780004837244799\n",
      "time : 0.02341318130493164 sec\n"
     ]
    },
    {
     "name": "stderr",
     "output_type": "stream",
     "text": [
      "/anaconda3/lib/python3.7/site-packages/sklearn/linear_model/logistic.py:433: FutureWarning: Default solver will be changed to 'lbfgs' in 0.22. Specify a solver to silence this warning.\n",
      "  FutureWarning)\n",
      "/anaconda3/lib/python3.7/site-packages/sklearn/linear_model/logistic.py:433: FutureWarning: Default solver will be changed to 'lbfgs' in 0.22. Specify a solver to silence this warning.\n",
      "  FutureWarning)\n",
      "/anaconda3/lib/python3.7/site-packages/sklearn/linear_model/logistic.py:433: FutureWarning: Default solver will be changed to 'lbfgs' in 0.22. Specify a solver to silence this warning.\n",
      "  FutureWarning)\n",
      "/anaconda3/lib/python3.7/site-packages/sklearn/linear_model/logistic.py:433: FutureWarning: Default solver will be changed to 'lbfgs' in 0.22. Specify a solver to silence this warning.\n",
      "  FutureWarning)\n",
      "/anaconda3/lib/python3.7/site-packages/sklearn/linear_model/logistic.py:433: FutureWarning: Default solver will be changed to 'lbfgs' in 0.22. Specify a solver to silence this warning.\n",
      "  FutureWarning)\n"
     ]
    }
   ],
   "source": [
    "# 對照組 : 標籤編碼 + 邏輯斯迴歸\n",
    "df_temp = pd.DataFrame()\n",
    "for c in df.columns:\n",
    "    df_temp[c] = LabelEncoder().fit_transform(df[c])\n",
    "train_X = df_temp[:train_num]\n",
    "estimator = LogisticRegression()\n",
    "start = time.time()\n",
    "print(f'shape : {train_X.shape}')\n",
    "print(f'score : {cross_val_score(estimator, train_X, train_Y, cv=5).mean()}')\n",
    "print(f'time : {time.time() - start} sec')"
   ]
  },
  {
   "cell_type": "code",
   "execution_count": 17,
   "metadata": {},
   "outputs": [],
   "source": [
    "# 均值編碼 + 邏輯斯迴歸\n",
    "data = pd.concat([df[:train_num], train_Y], axis=1)\n"
   ]
  },
  {
   "cell_type": "code",
   "execution_count": 18,
   "metadata": {},
   "outputs": [
    {
     "data": {
      "text/plain": [
       "CA. 2343             7\n",
       "1601                 7\n",
       "347082               7\n",
       "3101295              6\n",
       "CA 2144              6\n",
       "347088               6\n",
       "382652               5\n",
       "S.O.C. 14879         5\n",
       "4133                 4\n",
       "PC 17757             4\n",
       "W./C. 6608           4\n",
       "2666                 4\n",
       "LINE                 4\n",
       "113760               4\n",
       "17421                4\n",
       "347077               4\n",
       "19950                4\n",
       "349909               4\n",
       "113781               4\n",
       "35273                3\n",
       "29106                3\n",
       "PC 17582             3\n",
       "248727               3\n",
       "24160                3\n",
       "C.A. 31921           3\n",
       "230080               3\n",
       "110152               3\n",
       "PC 17755             3\n",
       "345773               3\n",
       "C.A. 34651           3\n",
       "                    ..\n",
       "236853               1\n",
       "13214                1\n",
       "113051               1\n",
       "7267                 1\n",
       "315096               1\n",
       "345781               1\n",
       "223596               1\n",
       "349204               1\n",
       "248706               1\n",
       "349240               1\n",
       "234686               1\n",
       "A/4. 20589           1\n",
       "350407               1\n",
       "348124               1\n",
       "29751                1\n",
       "13049                1\n",
       "348123               1\n",
       "345780               1\n",
       "14313                1\n",
       "STON/O 2. 3101285    1\n",
       "SC/PARIS 2133        1\n",
       "2628                 1\n",
       "13213                1\n",
       "STON/O 2. 3101286    1\n",
       "234604               1\n",
       "111426               1\n",
       "219533               1\n",
       "SC/PARIS 2149        1\n",
       "C.A. 31026           1\n",
       "347067               1\n",
       "Name: Ticket, Length: 681, dtype: int64"
      ]
     },
     "execution_count": 18,
     "metadata": {},
     "output_type": "execute_result"
    }
   ],
   "source": [
    "data['Ticket'].value_counts()"
   ]
  },
  {
   "cell_type": "code",
   "execution_count": 19,
   "metadata": {},
   "outputs": [
    {
     "data": {
      "text/plain": [
       "Anderson, Mr. Harry                                   1\n",
       "Reynaldo, Ms. Encarnacion                             1\n",
       "Hocking, Mr. Richard George                           1\n",
       "Aks, Mrs. Sam (Leah Rosen)                            1\n",
       "Wilhelms, Mr. Charles                                 1\n",
       "Jenkin, Mr. Stephen Curnow                            1\n",
       "Hawksford, Mr. Walter James                           1\n",
       "Serepeca, Miss. Augusta                               1\n",
       "Laleff, Mr. Kristo                                    1\n",
       "Pickard, Mr. Berk (Berk Trembisky)                    1\n",
       "Boulos, Miss. Nourelain                               1\n",
       "Staneff, Mr. Ivan                                     1\n",
       "Coleridge, Mr. Reginald Charles                       1\n",
       "Herman, Miss. Alice                                   1\n",
       "Milling, Mr. Jacob Christian                          1\n",
       "Hansen, Mr. Claus Peter                               1\n",
       "Spencer, Mrs. William Augustus (Marie Eugenie)        1\n",
       "Goldenberg, Mr. Samuel L                              1\n",
       "Maisner, Mr. Simon                                    1\n",
       "Cardeza, Mr. Thomas Drake Martinez                    1\n",
       "Hoyt, Mrs. Frederick Maxfield (Jane Anne Forby)       1\n",
       "Wiseman, Mr. Phillippe                                1\n",
       "Olsvigen, Mr. Thor Anderson                           1\n",
       "Andersson, Mr. August Edvard (\"Wennerstrom\")          1\n",
       "Stoytcheff, Mr. Ilia                                  1\n",
       "O'Connor, Mr. Maurice                                 1\n",
       "Gustafsson, Mr. Johan Birger                          1\n",
       "Stahelin-Maeglin, Dr. Max                             1\n",
       "Watt, Mrs. James (Elizabeth \"Bessie\" Inglis Milne)    1\n",
       "Rush, Mr. Alfred George John                          1\n",
       "                                                     ..\n",
       "Baclini, Mrs. Solomon (Latifa Qurban)                 1\n",
       "Jonkoff, Mr. Lalio                                    1\n",
       "Ling, Mr. Lee                                         1\n",
       "Clarke, Mrs. Charles V (Ada Maria Winfield)           1\n",
       "Lefebre, Master. Henry Forbes                         1\n",
       "Gale, Mr. Shadrach                                    1\n",
       "Turja, Miss. Anna Sofia                               1\n",
       "Garside, Miss. Ethel                                  1\n",
       "Sage, Mr. Douglas Bullen                              1\n",
       "Davidson, Mr. Thornton                                1\n",
       "Stanley, Mr. Edward Roland                            1\n",
       "Brewe, Dr. Arthur Jackson                             1\n",
       "Williams, Mr. Charles Eugene                          1\n",
       "Lines, Miss. Mary Conover                             1\n",
       "Novel, Mr. Mansouer                                   1\n",
       "Kvillner, Mr. Johan Henrik Johannesson                1\n",
       "Panula, Master. Eino Viljami                          1\n",
       "Moussa, Mrs. (Mantoura Boulos)                        1\n",
       "Dahlberg, Miss. Gerda Ulrika                          1\n",
       "Johansson, Mr. Karl Johan                             1\n",
       "Skoog, Miss. Mabel                                    1\n",
       "Bourke, Miss. Mary                                    1\n",
       "Goldsmith, Mrs. Frank John (Emily Alice Brown)        1\n",
       "Brown, Mrs. James Joseph (Margaret Tobin)             1\n",
       "Leitch, Miss. Jessie Wills                            1\n",
       "Henry, Miss. Delia                                    1\n",
       "Bishop, Mr. Dickinson H                               1\n",
       "Natsch, Mr. Charles H                                 1\n",
       "Newell, Miss. Madeleine                               1\n",
       "Calic, Mr. Petar                                      1\n",
       "Name: Name, Length: 891, dtype: int64"
      ]
     },
     "execution_count": 19,
     "metadata": {},
     "output_type": "execute_result"
    }
   ],
   "source": [
    "data['Name'].value_counts()"
   ]
  },
  {
   "cell_type": "code",
   "execution_count": 20,
   "metadata": {},
   "outputs": [
    {
     "data": {
      "text/plain": [
       "None           687\n",
       "B96 B98          4\n",
       "G6               4\n",
       "C23 C25 C27      4\n",
       "D                3\n",
       "F33              3\n",
       "E101             3\n",
       "C22 C26          3\n",
       "F2               3\n",
       "D36              2\n",
       "B35              2\n",
       "B58 B60          2\n",
       "B49              2\n",
       "E44              2\n",
       "C83              2\n",
       "C92              2\n",
       "C123             2\n",
       "D26              2\n",
       "E8               2\n",
       "B18              2\n",
       "B51 B53 B55      2\n",
       "E24              2\n",
       "D17              2\n",
       "C2               2\n",
       "C78              2\n",
       "B28              2\n",
       "C93              2\n",
       "C126             2\n",
       "D33              2\n",
       "D35              2\n",
       "              ... \n",
       "A36              1\n",
       "C82              1\n",
       "B78              1\n",
       "B42              1\n",
       "A20              1\n",
       "D7               1\n",
       "D6               1\n",
       "B94              1\n",
       "B101             1\n",
       "C47              1\n",
       "A31              1\n",
       "B19              1\n",
       "D49              1\n",
       "C87              1\n",
       "D56              1\n",
       "C110             1\n",
       "B3               1\n",
       "E36              1\n",
       "D11              1\n",
       "D10 D12          1\n",
       "B41              1\n",
       "D30              1\n",
       "C91              1\n",
       "B69              1\n",
       "B79              1\n",
       "D9               1\n",
       "D21              1\n",
       "C103             1\n",
       "C128             1\n",
       "C32              1\n",
       "Name: Cabin, Length: 148, dtype: int64"
      ]
     },
     "execution_count": 20,
     "metadata": {},
     "output_type": "execute_result"
    }
   ],
   "source": [
    "data['Cabin'].value_counts()"
   ]
  },
  {
   "cell_type": "code",
   "execution_count": 21,
   "metadata": {},
   "outputs": [
    {
     "name": "stdout",
     "output_type": "stream",
     "text": [
      "shape : (891, 5)\n",
      "score : 0.8350366889413987\n",
      "time : 0.01616811752319336 sec\n"
     ]
    },
    {
     "name": "stderr",
     "output_type": "stream",
     "text": [
      "/anaconda3/lib/python3.7/site-packages/sklearn/linear_model/logistic.py:433: FutureWarning: Default solver will be changed to 'lbfgs' in 0.22. Specify a solver to silence this warning.\n",
      "  FutureWarning)\n",
      "/anaconda3/lib/python3.7/site-packages/sklearn/linear_model/logistic.py:433: FutureWarning: Default solver will be changed to 'lbfgs' in 0.22. Specify a solver to silence this warning.\n",
      "  FutureWarning)\n",
      "/anaconda3/lib/python3.7/site-packages/sklearn/linear_model/logistic.py:433: FutureWarning: Default solver will be changed to 'lbfgs' in 0.22. Specify a solver to silence this warning.\n",
      "  FutureWarning)\n",
      "/anaconda3/lib/python3.7/site-packages/sklearn/linear_model/logistic.py:433: FutureWarning: Default solver will be changed to 'lbfgs' in 0.22. Specify a solver to silence this warning.\n",
      "  FutureWarning)\n",
      "/anaconda3/lib/python3.7/site-packages/sklearn/linear_model/logistic.py:433: FutureWarning: Default solver will be changed to 'lbfgs' in 0.22. Specify a solver to silence this warning.\n",
      "  FutureWarning)\n"
     ]
    }
   ],
   "source": [
    "\n",
    "for c in df.columns:\n",
    "    mean_df = data.groupby([c])['Survived'].mean().reset_index()\n",
    "    mean_df.columns = [c, f'{c}_mean']\n",
    "    data = pd.merge(data, mean_df, on=c, how='left')\n",
    "    data = data.drop([c] , axis=1)\n",
    "data = data.drop(['Survived', 'Name_mean', 'Ticket_mean'] , axis=1)\n",
    "estimator = LogisticRegression()\n",
    "start = time.time()\n",
    "print(f'shape : {train_X.shape}')\n",
    "print(f'score : {cross_val_score(estimator, data, train_Y, cv=5).mean()}')\n",
    "print(f'time : {time.time() - start} sec')"
   ]
  },
  {
   "cell_type": "code",
   "execution_count": null,
   "metadata": {},
   "outputs": [],
   "source": []
  }
 ],
 "metadata": {
  "kernelspec": {
   "display_name": "Python 3",
   "language": "python",
   "name": "python3"
  },
  "language_info": {
   "codemirror_mode": {
    "name": "ipython",
    "version": 3
   },
   "file_extension": ".py",
   "mimetype": "text/x-python",
   "name": "python",
   "nbconvert_exporter": "python",
   "pygments_lexer": "ipython3",
   "version": "3.7.1"
  }
 },
 "nbformat": 4,
 "nbformat_minor": 2
}

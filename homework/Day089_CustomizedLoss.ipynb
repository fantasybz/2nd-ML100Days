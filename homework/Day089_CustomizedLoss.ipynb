{
  "nbformat": 4,
  "nbformat_minor": 0,
  "metadata": {
    "kernelspec": {
      "name": "python3",
      "display_name": "Python 3"
    },
    "language_info": {
      "codemirror_mode": {
        "name": "ipython",
        "version": 3
      },
      "file_extension": ".py",
      "mimetype": "text/x-python",
      "name": "python",
      "nbconvert_exporter": "python",
      "pygments_lexer": "ipython3",
      "version": "3.6.5"
    },
    "colab": {
      "name": "Day089_CustomizedLoss.ipynb",
      "version": "0.3.2",
      "provenance": []
    },
    "accelerator": "GPU"
  },
  "cells": [
    {
      "cell_type": "markdown",
      "metadata": {
        "id": "aaeShRMMme4N",
        "colab_type": "text"
      },
      "source": [
        "## 範例重點\n",
        "* 學習如何在 keras 中撰寫自定義的 loss function\n",
        "* 知道如何在訓練時使用自定義的 loss function"
      ]
    },
    {
      "cell_type": "code",
      "metadata": {
        "id": "nSizwqFsme4P",
        "colab_type": "code",
        "colab": {
          "base_uri": "https://localhost:8080/",
          "height": 34
        },
        "outputId": "2e31b2c9-ab37-4512-ed07-788bc0d5067d"
      },
      "source": [
        "import os\n",
        "import keras\n",
        "\n",
        "# 本範例不需使用 GPU, 將 GPU 設定為 \"無\"\n",
        "#os.environ[\"CUDA_VISIBLE_DEVICES\"] = \"\""
      ],
      "execution_count": 1,
      "outputs": [
        {
          "output_type": "stream",
          "text": [
            "Using TensorFlow backend.\n"
          ],
          "name": "stderr"
        }
      ]
    },
    {
      "cell_type": "code",
      "metadata": {
        "id": "BltqsA6pme4S",
        "colab_type": "code",
        "colab": {
          "base_uri": "https://localhost:8080/",
          "height": 51
        },
        "outputId": "7be5d91f-a202-4852-e997-86302c98efe1"
      },
      "source": [
        "train, test = keras.datasets.cifar10.load_data()"
      ],
      "execution_count": 2,
      "outputs": [
        {
          "output_type": "stream",
          "text": [
            "Downloading data from https://www.cs.toronto.edu/~kriz/cifar-10-python.tar.gz\n",
            "170500096/170498071 [==============================] - 11s 0us/step\n"
          ],
          "name": "stdout"
        }
      ]
    },
    {
      "cell_type": "code",
      "metadata": {
        "id": "iQ_azDF4me4U",
        "colab_type": "code",
        "colab": {}
      },
      "source": [
        "## 資料前處理\n",
        "def preproc_x(x, flatten=True):\n",
        "    x = x / 255.\n",
        "    if flatten:\n",
        "        x = x.reshape((len(x), -1))\n",
        "    return x\n",
        "\n",
        "def preproc_y(y, num_classes=10):\n",
        "    if y.shape[-1] == 1:\n",
        "        y = keras.utils.to_categorical(y, num_classes)\n",
        "    return y    "
      ],
      "execution_count": 0,
      "outputs": []
    },
    {
      "cell_type": "code",
      "metadata": {
        "id": "h6UgO-4jme4W",
        "colab_type": "code",
        "colab": {}
      },
      "source": [
        "x_train, y_train = train\n",
        "x_test, y_test = test\n",
        "\n",
        "# 資料前處理 - X 標準化\n",
        "x_train = preproc_x(x_train)\n",
        "x_test = preproc_x(x_test)\n",
        "\n",
        "# 資料前處理 -Y 轉成 onehot\n",
        "y_train = preproc_y(y_train)\n",
        "y_test = preproc_y(y_test)"
      ],
      "execution_count": 0,
      "outputs": []
    },
    {
      "cell_type": "code",
      "metadata": {
        "id": "TFo2xUfKme4Y",
        "colab_type": "code",
        "colab": {}
      },
      "source": [
        "from keras.layers import BatchNormalization\n",
        "\n",
        "\"\"\"\n",
        "建立神經網路，並加入 BN layer\n",
        "\"\"\"\n",
        "def build_mlp(input_shape, output_units=10, num_neurons=[512, 256, 128]):\n",
        "    input_layer = keras.layers.Input(input_shape)\n",
        "    \n",
        "    for i, n_units in enumerate(num_neurons):\n",
        "        if i == 0:\n",
        "            x = keras.layers.Dense(units=n_units, \n",
        "                                   activation=\"relu\", \n",
        "                                   name=\"hidden_layer\"+str(i+1))(input_layer)\n",
        "            x = BatchNormalization()(x)\n",
        "        else:\n",
        "            x = keras.layers.Dense(units=n_units, \n",
        "                                   activation=\"relu\", \n",
        "                                   name=\"hidden_layer\"+str(i+1))(x)\n",
        "            x = BatchNormalization()(x)\n",
        "    \n",
        "    out = keras.layers.Dense(units=output_units, activation=\"softmax\", name=\"output\")(x)\n",
        "    \n",
        "    model = keras.models.Model(inputs=[input_layer], outputs=[out])\n",
        "    return model"
      ],
      "execution_count": 0,
      "outputs": []
    },
    {
      "cell_type": "code",
      "metadata": {
        "id": "xQ34Fxe5me4Z",
        "colab_type": "code",
        "colab": {}
      },
      "source": [
        "## 超參數設定\n",
        "LEARNING_RATE = 1e-3\n",
        "EPOCHS = 50\n",
        "BATCH_SIZE = 1024\n",
        "MOMENTUM = 0.95"
      ],
      "execution_count": 0,
      "outputs": []
    },
    {
      "cell_type": "code",
      "metadata": {
        "id": "yXQOswyMme4c",
        "colab_type": "code",
        "colab": {}
      },
      "source": [
        "import tensorflow as tf\n",
        "import keras.backend as K\n",
        "\n",
        "\"\"\"\n",
        "# 撰寫自定義的 loss function: focal loss (https://blog.csdn.net/u014380165/article/details/77019084)\n",
        "\"\"\"\n",
        "def focal_loss(gamma=2., alpha=4.):\n",
        "    gamma = float(gamma)\n",
        "    alpha = float(alpha)\n",
        "    def focal_loss_fixed(y_true, y_pred):\n",
        "        \"\"\"Focal loss for multi-classification\n",
        "        FL(p_t)=-alpha(1-p_t)^{gamma}ln(p_t)\n",
        "        \"\"\"\n",
        "        epsilon = 1e-8\n",
        "        y_true = tf.convert_to_tensor(y_true, tf.float32)\n",
        "        y_pred = tf.convert_to_tensor(y_pred, tf.float32)\n",
        "\n",
        "        model_out = tf.add(y_pred, epsilon)\n",
        "        ce = tf.multiply(y_true, -tf.log(model_out))\n",
        "        weight = tf.multiply(y_true, tf.pow(tf.subtract(1., model_out), gamma))\n",
        "        fl = tf.multiply(alpha, tf.multiply(weight, ce))\n",
        "        reduced_fl = tf.reduce_max(fl, axis=1)\n",
        "        return tf.reduce_mean(reduced_fl)\n",
        "    return focal_loss_fixed"
      ],
      "execution_count": 0,
      "outputs": []
    },
    {
      "cell_type": "code",
      "metadata": {
        "scrolled": true,
        "id": "J3v8Tj_Mme4e",
        "colab_type": "code",
        "colab": {
          "base_uri": "https://localhost:8080/",
          "height": 1000
        },
        "outputId": "05ca3d73-5b36-4f44-fb8b-0d388972f741"
      },
      "source": [
        "model = build_mlp(input_shape=x_train.shape[1:])\n",
        "model.summary()\n",
        "optimizer = keras.optimizers.SGD(lr=LEARNING_RATE, nesterov=True, momentum=MOMENTUM)\n",
        "\"\"\"\n",
        "# 在 compile 時，使用自定義的 loss function\n",
        "\"\"\"\n",
        "model.compile(loss=focal_loss(), metrics=[\"accuracy\"], optimizer=optimizer)\n",
        "\n",
        "model.fit(x_train, y_train, \n",
        "          epochs=EPOCHS, \n",
        "          batch_size=BATCH_SIZE, \n",
        "          validation_data=(x_test, y_test), \n",
        "          shuffle=True\n",
        "         )\n",
        "\n",
        "# Collect results\n",
        "train_loss = model.history.history[\"loss\"]\n",
        "valid_loss = model.history.history[\"val_loss\"]\n",
        "train_acc = model.history.history[\"acc\"]\n",
        "valid_acc = model.history.history[\"val_acc\"]\n",
        "\n",
        "#valid_f1sc = model.history.history['val_f1sc']"
      ],
      "execution_count": 9,
      "outputs": [
        {
          "output_type": "stream",
          "text": [
            "_________________________________________________________________\n",
            "Layer (type)                 Output Shape              Param #   \n",
            "=================================================================\n",
            "input_2 (InputLayer)         (None, 3072)              0         \n",
            "_________________________________________________________________\n",
            "hidden_layer1 (Dense)        (None, 512)               1573376   \n",
            "_________________________________________________________________\n",
            "batch_normalization_4 (Batch (None, 512)               2048      \n",
            "_________________________________________________________________\n",
            "hidden_layer2 (Dense)        (None, 256)               131328    \n",
            "_________________________________________________________________\n",
            "batch_normalization_5 (Batch (None, 256)               1024      \n",
            "_________________________________________________________________\n",
            "hidden_layer3 (Dense)        (None, 128)               32896     \n",
            "_________________________________________________________________\n",
            "batch_normalization_6 (Batch (None, 128)               512       \n",
            "_________________________________________________________________\n",
            "output (Dense)               (None, 10)                1290      \n",
            "=================================================================\n",
            "Total params: 1,742,474\n",
            "Trainable params: 1,740,682\n",
            "Non-trainable params: 1,792\n",
            "_________________________________________________________________\n",
            "Train on 50000 samples, validate on 10000 samples\n",
            "Epoch 1/50\n",
            "50000/50000 [==============================] - 3s 54us/step - loss: 6.0501 - acc: 0.3304 - val_loss: 6.9352 - val_acc: 0.3154\n",
            "Epoch 2/50\n",
            "50000/50000 [==============================] - 2s 37us/step - loss: 4.4305 - acc: 0.4388 - val_loss: 4.9472 - val_acc: 0.3920\n",
            "Epoch 3/50\n",
            "50000/50000 [==============================] - 2s 37us/step - loss: 3.9969 - acc: 0.4800 - val_loss: 4.5892 - val_acc: 0.4217\n",
            "Epoch 4/50\n",
            "50000/50000 [==============================] - 2s 37us/step - loss: 3.7286 - acc: 0.5043 - val_loss: 4.3125 - val_acc: 0.4400\n",
            "Epoch 5/50\n",
            "50000/50000 [==============================] - 2s 37us/step - loss: 3.5073 - acc: 0.5277 - val_loss: 4.2300 - val_acc: 0.4426\n",
            "Epoch 6/50\n",
            "50000/50000 [==============================] - 2s 37us/step - loss: 3.3155 - acc: 0.5478 - val_loss: 4.2427 - val_acc: 0.4525\n",
            "Epoch 7/50\n",
            "50000/50000 [==============================] - 2s 37us/step - loss: 3.1540 - acc: 0.5644 - val_loss: 4.2520 - val_acc: 0.4581\n",
            "Epoch 8/50\n",
            "50000/50000 [==============================] - 2s 37us/step - loss: 2.9880 - acc: 0.5817 - val_loss: 4.0497 - val_acc: 0.4577\n",
            "Epoch 9/50\n",
            "50000/50000 [==============================] - 2s 37us/step - loss: 2.8496 - acc: 0.5974 - val_loss: 4.0493 - val_acc: 0.4753\n",
            "Epoch 10/50\n",
            "50000/50000 [==============================] - 2s 37us/step - loss: 2.7181 - acc: 0.6103 - val_loss: 3.9624 - val_acc: 0.4749\n",
            "Epoch 11/50\n",
            "50000/50000 [==============================] - 2s 37us/step - loss: 2.5762 - acc: 0.6268 - val_loss: 4.2063 - val_acc: 0.4610\n",
            "Epoch 12/50\n",
            "50000/50000 [==============================] - 2s 37us/step - loss: 2.4422 - acc: 0.6436 - val_loss: 4.2910 - val_acc: 0.4437\n",
            "Epoch 13/50\n",
            "50000/50000 [==============================] - 2s 37us/step - loss: 2.3241 - acc: 0.6571 - val_loss: 4.0249 - val_acc: 0.4786\n",
            "Epoch 14/50\n",
            "50000/50000 [==============================] - 2s 37us/step - loss: 2.2057 - acc: 0.6702 - val_loss: 4.0270 - val_acc: 0.4835\n",
            "Epoch 15/50\n",
            "50000/50000 [==============================] - 2s 37us/step - loss: 2.0899 - acc: 0.6836 - val_loss: 4.0293 - val_acc: 0.4860\n",
            "Epoch 16/50\n",
            "50000/50000 [==============================] - 2s 36us/step - loss: 1.9736 - acc: 0.6969 - val_loss: 4.3811 - val_acc: 0.4512\n",
            "Epoch 17/50\n",
            "50000/50000 [==============================] - 2s 37us/step - loss: 1.8622 - acc: 0.7107 - val_loss: 4.1152 - val_acc: 0.4728\n",
            "Epoch 18/50\n",
            "50000/50000 [==============================] - 2s 37us/step - loss: 1.7496 - acc: 0.7239 - val_loss: 4.1955 - val_acc: 0.4818\n",
            "Epoch 19/50\n",
            "50000/50000 [==============================] - 2s 37us/step - loss: 1.6387 - acc: 0.7390 - val_loss: 4.3883 - val_acc: 0.4624\n",
            "Epoch 20/50\n",
            "50000/50000 [==============================] - 2s 37us/step - loss: 1.5400 - acc: 0.7532 - val_loss: 4.3548 - val_acc: 0.4849\n",
            "Epoch 21/50\n",
            "50000/50000 [==============================] - 2s 37us/step - loss: 1.4309 - acc: 0.7680 - val_loss: 4.4901 - val_acc: 0.4802\n",
            "Epoch 22/50\n",
            "50000/50000 [==============================] - 2s 37us/step - loss: 1.3354 - acc: 0.7803 - val_loss: 4.4944 - val_acc: 0.4712\n",
            "Epoch 23/50\n",
            "50000/50000 [==============================] - 2s 37us/step - loss: 1.2511 - acc: 0.7907 - val_loss: 4.4856 - val_acc: 0.4755\n",
            "Epoch 24/50\n",
            "50000/50000 [==============================] - 2s 37us/step - loss: 1.1621 - acc: 0.8041 - val_loss: 4.9172 - val_acc: 0.4711\n",
            "Epoch 25/50\n",
            "50000/50000 [==============================] - 2s 37us/step - loss: 1.0659 - acc: 0.8210 - val_loss: 4.6710 - val_acc: 0.4757\n",
            "Epoch 26/50\n",
            "50000/50000 [==============================] - 2s 36us/step - loss: 0.9853 - acc: 0.8301 - val_loss: 5.0496 - val_acc: 0.4714\n",
            "Epoch 27/50\n",
            "50000/50000 [==============================] - 2s 37us/step - loss: 0.9031 - acc: 0.8452 - val_loss: 4.9493 - val_acc: 0.4668\n",
            "Epoch 28/50\n",
            "50000/50000 [==============================] - 2s 37us/step - loss: 0.8346 - acc: 0.8557 - val_loss: 4.8555 - val_acc: 0.4774\n",
            "Epoch 29/50\n",
            "50000/50000 [==============================] - 2s 36us/step - loss: 0.7626 - acc: 0.8657 - val_loss: 4.9673 - val_acc: 0.4700\n",
            "Epoch 30/50\n",
            "50000/50000 [==============================] - 2s 37us/step - loss: 0.7041 - acc: 0.8785 - val_loss: 5.1546 - val_acc: 0.4715\n",
            "Epoch 31/50\n",
            "50000/50000 [==============================] - 2s 37us/step - loss: 0.6381 - acc: 0.8901 - val_loss: 5.1741 - val_acc: 0.4772\n",
            "Epoch 32/50\n",
            "50000/50000 [==============================] - 2s 37us/step - loss: 0.5868 - acc: 0.8969 - val_loss: 5.3653 - val_acc: 0.4656\n",
            "Epoch 33/50\n",
            "50000/50000 [==============================] - 2s 37us/step - loss: 0.5303 - acc: 0.9088 - val_loss: 5.3990 - val_acc: 0.4686\n",
            "Epoch 34/50\n",
            "50000/50000 [==============================] - 2s 37us/step - loss: 0.4771 - acc: 0.9171 - val_loss: 5.3964 - val_acc: 0.4791\n",
            "Epoch 35/50\n",
            "50000/50000 [==============================] - 2s 37us/step - loss: 0.4300 - acc: 0.9277 - val_loss: 5.5352 - val_acc: 0.4735\n",
            "Epoch 36/50\n",
            "50000/50000 [==============================] - 2s 37us/step - loss: 0.3859 - acc: 0.9364 - val_loss: 5.5736 - val_acc: 0.4697\n",
            "Epoch 37/50\n",
            "50000/50000 [==============================] - 2s 37us/step - loss: 0.3533 - acc: 0.9415 - val_loss: 5.6973 - val_acc: 0.4711\n",
            "Epoch 38/50\n",
            "50000/50000 [==============================] - 2s 37us/step - loss: 0.3223 - acc: 0.9461 - val_loss: 5.7462 - val_acc: 0.4736\n",
            "Epoch 39/50\n",
            "50000/50000 [==============================] - 2s 37us/step - loss: 0.2826 - acc: 0.9553 - val_loss: 5.8059 - val_acc: 0.4723\n",
            "Epoch 40/50\n",
            "50000/50000 [==============================] - 2s 37us/step - loss: 0.2538 - acc: 0.9616 - val_loss: 5.9196 - val_acc: 0.4708\n",
            "Epoch 41/50\n",
            "50000/50000 [==============================] - 2s 37us/step - loss: 0.2299 - acc: 0.9655 - val_loss: 5.9287 - val_acc: 0.4817\n",
            "Epoch 42/50\n",
            "50000/50000 [==============================] - 2s 36us/step - loss: 0.2098 - acc: 0.9696 - val_loss: 5.9981 - val_acc: 0.4781\n",
            "Epoch 43/50\n",
            "50000/50000 [==============================] - 2s 37us/step - loss: 0.1915 - acc: 0.9734 - val_loss: 6.0201 - val_acc: 0.4739\n",
            "Epoch 44/50\n",
            "50000/50000 [==============================] - 2s 37us/step - loss: 0.1686 - acc: 0.9780 - val_loss: 6.1763 - val_acc: 0.4745\n",
            "Epoch 45/50\n",
            "50000/50000 [==============================] - 2s 37us/step - loss: 0.1553 - acc: 0.9796 - val_loss: 6.3727 - val_acc: 0.4794\n",
            "Epoch 46/50\n",
            "50000/50000 [==============================] - 2s 37us/step - loss: 0.1494 - acc: 0.9808 - val_loss: 6.3158 - val_acc: 0.4731\n",
            "Epoch 47/50\n",
            "50000/50000 [==============================] - 2s 37us/step - loss: 0.1295 - acc: 0.9850 - val_loss: 6.3066 - val_acc: 0.4729\n",
            "Epoch 48/50\n",
            "50000/50000 [==============================] - 2s 37us/step - loss: 0.1152 - acc: 0.9877 - val_loss: 6.3171 - val_acc: 0.4784\n",
            "Epoch 49/50\n",
            "50000/50000 [==============================] - 2s 37us/step - loss: 0.1035 - acc: 0.9901 - val_loss: 6.4629 - val_acc: 0.4678\n",
            "Epoch 50/50\n",
            "50000/50000 [==============================] - 2s 37us/step - loss: 0.0974 - acc: 0.9908 - val_loss: 6.5111 - val_acc: 0.4824\n"
          ],
          "name": "stdout"
        }
      ]
    },
    {
      "cell_type": "code",
      "metadata": {
        "id": "BOqPqHOsme4g",
        "colab_type": "code",
        "colab": {
          "base_uri": "https://localhost:8080/",
          "height": 545
        },
        "outputId": "4b45554d-e61f-4a72-dbb5-29db7778b6d6"
      },
      "source": [
        "import matplotlib.pyplot as plt\n",
        "%matplotlib inline\n",
        "\n",
        "plt.plot(range(len(train_loss)), train_loss, label=\"train loss\")\n",
        "plt.plot(range(len(valid_loss)), valid_loss, label=\"valid loss\")\n",
        "plt.legend()\n",
        "plt.title(\"Loss\")\n",
        "plt.show()\n",
        "\n",
        "plt.plot(range(len(train_acc)), train_acc, label=\"train accuracy\")\n",
        "plt.plot(range(len(valid_acc)), valid_acc, label=\"valid accuracy\")\n",
        "plt.legend()\n",
        "plt.title(\"Accuracy\")\n",
        "plt.show()"
      ],
      "execution_count": 10,
      "outputs": [
        {
          "output_type": "display_data",
          "data": {
            "image/png": "[encoded data removed]",
            "text/plain": [
              "<Figure size 432x288 with 1 Axes>"
            ]
          },
          "metadata": {
            "tags": []
          }
        },
        {
          "output_type": "display_data",
          "data": {
            "image/png": "[encoded data removed]",
            "text/plain": [
              "<Figure size 432x288 with 1 Axes>"
            ]
          },
          "metadata": {
            "tags": []
          }
        }
      ]
    },
    {
      "cell_type": "markdown",
      "metadata": {
        "id": "yKAoZGdPme4h",
        "colab_type": "text"
      },
      "source": [
        "## Work\n",
        "1. 請自行定義一個 loss function, 為 0.3 * focal loss + 0.7 cross-entropy，訓練並比較結果\n"
      ]
    }
  ]
}
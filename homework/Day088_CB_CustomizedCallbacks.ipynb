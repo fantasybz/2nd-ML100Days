{
  "nbformat": 4,
  "nbformat_minor": 0,
  "metadata": {
    "kernelspec": {
      "name": "python3",
      "display_name": "Python 3"
    },
    "language_info": {
      "codemirror_mode": {
        "name": "ipython",
        "version": 3
      },
      "file_extension": ".py",
      "mimetype": "text/x-python",
      "name": "python",
      "nbconvert_exporter": "python",
      "pygments_lexer": "ipython3",
      "version": "3.6.5"
    },
    "colab": {
      "name": "Day088_CB_CustomizedCallbacks.ipynb",
      "version": "0.3.2",
      "provenance": []
    },
    "accelerator": "TPU"
  },
  "cells": [
    {
      "cell_type": "markdown",
      "metadata": {
        "id": "sKzAJ2gIblsg",
        "colab_type": "text"
      },
      "source": [
        "## 範例重點\n",
        "* 學習如何在 keras 中加入自定義的 callbacks\n",
        "* 知道 callback function 可以動作的時機"
      ]
    },
    {
      "cell_type": "code",
      "metadata": {
        "id": "OxSemUqnblsh",
        "colab_type": "code",
        "colab": {
          "base_uri": "https://localhost:8080/",
          "height": 34
        },
        "outputId": "2dfee26d-e72f-49e6-b46d-ea1ad7d8f387"
      },
      "source": [
        "import os\n",
        "import keras\n",
        "\n",
        "# 本範例不需使用 GPU, 將 GPU 設定為 \"無\"\n",
        "#os.environ[\"CUDA_VISIBLE_DEVICES\"] = \"\""
      ],
      "execution_count": 1,
      "outputs": [
        {
          "output_type": "stream",
          "text": [
            "Using TensorFlow backend.\n"
          ],
          "name": "stderr"
        }
      ]
    },
    {
      "cell_type": "code",
      "metadata": {
        "id": "PyWO6qg2blsm",
        "colab_type": "code",
        "colab": {
          "base_uri": "https://localhost:8080/",
          "height": 51
        },
        "outputId": "1e5f959d-d305-4907-ae3c-42c5e3be5696"
      },
      "source": [
        "train, test = keras.datasets.cifar10.load_data()"
      ],
      "execution_count": 2,
      "outputs": [
        {
          "output_type": "stream",
          "text": [
            "Downloading data from https://www.cs.toronto.edu/~kriz/cifar-10-python.tar.gz\n",
            "170500096/170498071 [==============================] - 2s 0us/step\n"
          ],
          "name": "stdout"
        }
      ]
    },
    {
      "cell_type": "code",
      "metadata": {
        "id": "i6VRZYATblsn",
        "colab_type": "code",
        "colab": {}
      },
      "source": [
        "## 資料前處理\n",
        "def preproc_x(x, flatten=True):\n",
        "    x = x / 255.\n",
        "    if flatten:\n",
        "        x = x.reshape((len(x), -1))\n",
        "    return x\n",
        "\n",
        "def preproc_y(y, num_classes=10):\n",
        "    if y.shape[-1] == 1:\n",
        "        y = keras.utils.to_categorical(y, num_classes)\n",
        "    return y    "
      ],
      "execution_count": 0,
      "outputs": []
    },
    {
      "cell_type": "code",
      "metadata": {
        "id": "XqUsJteGblsp",
        "colab_type": "code",
        "colab": {}
      },
      "source": [
        "x_train, y_train = train\n",
        "x_test, y_test = test\n",
        "\n",
        "# 資料前處理 - X 標準化\n",
        "x_train = preproc_x(x_train)\n",
        "x_test = preproc_x(x_test)\n",
        "\n",
        "# 資料前處理 -Y 轉成 onehot\n",
        "y_train = preproc_y(y_train)\n",
        "y_test = preproc_y(y_test)"
      ],
      "execution_count": 0,
      "outputs": []
    },
    {
      "cell_type": "code",
      "metadata": {
        "id": "633a9GIOblsr",
        "colab_type": "code",
        "colab": {}
      },
      "source": [
        "from keras.layers import BatchNormalization\n",
        "\n",
        "\"\"\"\n",
        "建立神經網路，並加入 BN layer\n",
        "\"\"\"\n",
        "def build_mlp(input_shape, output_units=10, num_neurons=[512, 256, 128]):\n",
        "    input_layer = keras.layers.Input(input_shape)\n",
        "    \n",
        "    for i, n_units in enumerate(num_neurons):\n",
        "        if i == 0:\n",
        "            x = keras.layers.Dense(units=n_units, \n",
        "                                   activation=\"relu\", \n",
        "                                   name=\"hidden_layer\"+str(i+1))(input_layer)\n",
        "            x = BatchNormalization()(x)\n",
        "        else:\n",
        "            x = keras.layers.Dense(units=n_units, \n",
        "                                   activation=\"relu\", \n",
        "                                   name=\"hidden_layer\"+str(i+1))(x)\n",
        "            x = BatchNormalization()(x)\n",
        "    \n",
        "    out = keras.layers.Dense(units=output_units, activation=\"softmax\", name=\"output\")(x)\n",
        "    \n",
        "    model = keras.models.Model(inputs=[input_layer], outputs=[out])\n",
        "    return model"
      ],
      "execution_count": 0,
      "outputs": []
    },
    {
      "cell_type": "code",
      "metadata": {
        "id": "mu9YDWrhblss",
        "colab_type": "code",
        "colab": {}
      },
      "source": [
        "## 超參數設定\n",
        "LEARNING_RATE = 1e-3\n",
        "EPOCHS = 50\n",
        "BATCH_SIZE = 1024\n",
        "MOMENTUM = 0.95"
      ],
      "execution_count": 0,
      "outputs": []
    },
    {
      "cell_type": "code",
      "metadata": {
        "id": "-GndJs68blsu",
        "colab_type": "code",
        "colab": {}
      },
      "source": [
        "\"\"\"\n",
        "# 載入 Callbacks，撰寫一個 f1 score 的 callback function\n",
        "\"\"\"\n",
        "\n",
        "from keras.callbacks import Callback\n",
        "from sklearn.metrics import f1_score\n",
        "\n",
        "class f1sc(Callback):\n",
        "    def on_train_begin(self, epoch, logs = {}):\n",
        "        logs = logs or {}\n",
        "        record_items = [\"val_auc\", \"val_f1sc\", \"val_fp\", \"val_fn\", \"val_tp\", \"val_tn\"]\n",
        "        for i in record_items:\n",
        "            if i not in self.params['metrics']:\n",
        "                self.params['metrics'].append(i)\n",
        "    \n",
        "    def on_epoch_end(self, epoch, logs = {}, thres=0.5):\n",
        "        logs = logs or {}\n",
        "        y_true = self.validation_data[1].argmax(axis = 1)\n",
        "        y_pred = self.model.predict(self.validation_data[0])\n",
        "        y_pred = (y_pred[:, 1] >= thres) * 1\n",
        "        \n",
        "        logs[\"val_f1sc\"] = f1_score(y_true = y_true, y_pred = y_pred, average=\"weighted\")\n",
        "        \n",
        "log_f1sc = f1sc()"
      ],
      "execution_count": 0,
      "outputs": []
    },
    {
      "cell_type": "code",
      "metadata": {
        "scrolled": true,
        "id": "XiZkMvoPblsw",
        "colab_type": "code",
        "colab": {
          "base_uri": "https://localhost:8080/",
          "height": 1000
        },
        "outputId": "73f8f1ca-135a-4a27-9a0f-7125d2acd0fe"
      },
      "source": [
        "model = build_mlp(input_shape=x_train.shape[1:])\n",
        "model.summary()\n",
        "optimizer = keras.optimizers.SGD(lr=LEARNING_RATE, nesterov=True, momentum=MOMENTUM)\n",
        "model.compile(loss=\"categorical_crossentropy\", metrics=[\"accuracy\"], optimizer=optimizer)\n",
        "\n",
        "model.fit(x_train, y_train, \n",
        "          epochs=EPOCHS, \n",
        "          batch_size=BATCH_SIZE, \n",
        "          validation_data=(x_test, y_test), \n",
        "          shuffle=True,\n",
        "          callbacks=[log_f1sc]\n",
        "         )\n",
        "\n",
        "# Collect results\n",
        "train_loss = model.history.history[\"loss\"]\n",
        "valid_loss = model.history.history[\"val_loss\"]\n",
        "train_acc = model.history.history[\"acc\"]\n",
        "valid_acc = model.history.history[\"val_acc\"]\n",
        "\n",
        "# 在訓練後，將 f1sc 紀錄調出\n",
        "valid_f1sc = model.history.history['val_f1sc']"
      ],
      "execution_count": 8,
      "outputs": [
        {
          "output_type": "stream",
          "text": [
            "WARNING: Logging before flag parsing goes to stderr.\n",
            "W0803 17:05:02.663852 140323004852096 deprecation_wrapper.py:119] From /usr/local/lib/python3.6/dist-packages/keras/backend/tensorflow_backend.py:74: The name tf.get_default_graph is deprecated. Please use tf.compat.v1.get_default_graph instead.\n",
            "\n",
            "W0803 17:05:02.706919 140323004852096 deprecation_wrapper.py:119] From /usr/local/lib/python3.6/dist-packages/keras/backend/tensorflow_backend.py:517: The name tf.placeholder is deprecated. Please use tf.compat.v1.placeholder instead.\n",
            "\n",
            "W0803 17:05:02.716723 140323004852096 deprecation_wrapper.py:119] From /usr/local/lib/python3.6/dist-packages/keras/backend/tensorflow_backend.py:4138: The name tf.random_uniform is deprecated. Please use tf.random.uniform instead.\n",
            "\n",
            "W0803 17:05:02.839298 140323004852096 deprecation_wrapper.py:119] From /usr/local/lib/python3.6/dist-packages/keras/backend/tensorflow_backend.py:133: The name tf.placeholder_with_default is deprecated. Please use tf.compat.v1.placeholder_with_default instead.\n",
            "\n",
            "W0803 17:05:03.082604 140323004852096 deprecation_wrapper.py:119] From /usr/local/lib/python3.6/dist-packages/keras/optimizers.py:790: The name tf.train.Optimizer is deprecated. Please use tf.compat.v1.train.Optimizer instead.\n",
            "\n",
            "W0803 17:05:03.093136 140323004852096 deprecation_wrapper.py:119] From /usr/local/lib/python3.6/dist-packages/keras/backend/tensorflow_backend.py:3295: The name tf.log is deprecated. Please use tf.math.log instead.\n",
            "\n",
            "W0803 17:05:03.210738 140323004852096 deprecation.py:323] From /usr/local/lib/python3.6/dist-packages/tensorflow/python/ops/math_grad.py:1250: add_dispatch_support.<locals>.wrapper (from tensorflow.python.ops.array_ops) is deprecated and will be removed in a future version.\n",
            "Instructions for updating:\n",
            "Use tf.where in 2.0, which has the same broadcast rule as np.where\n"
          ],
          "name": "stderr"
        },
        {
          "output_type": "stream",
          "text": [
            "_________________________________________________________________\n",
            "Layer (type)                 Output Shape              Param #   \n",
            "=================================================================\n",
            "input_1 (InputLayer)         (None, 3072)              0         \n",
            "_________________________________________________________________\n",
            "hidden_layer1 (Dense)        (None, 512)               1573376   \n",
            "_________________________________________________________________\n",
            "batch_normalization_1 (Batch (None, 512)               2048      \n",
            "_________________________________________________________________\n",
            "hidden_layer2 (Dense)        (None, 256)               131328    \n",
            "_________________________________________________________________\n",
            "batch_normalization_2 (Batch (None, 256)               1024      \n",
            "_________________________________________________________________\n",
            "hidden_layer3 (Dense)        (None, 128)               32896     \n",
            "_________________________________________________________________\n",
            "batch_normalization_3 (Batch (None, 128)               512       \n",
            "_________________________________________________________________\n",
            "output (Dense)               (None, 10)                1290      \n",
            "=================================================================\n",
            "Total params: 1,742,474\n",
            "Trainable params: 1,740,682\n",
            "Non-trainable params: 1,792\n",
            "_________________________________________________________________\n",
            "Train on 50000 samples, validate on 10000 samples\n",
            "Epoch 1/50\n",
            "50000/50000 [==============================] - 10s 210us/step - loss: 2.1848 - acc: 0.2721 - val_loss: 2.2263 - val_acc: 0.3021\n",
            "Epoch 2/50\n",
            " 1024/50000 [..............................] - ETA: 8s - loss: 1.7960 - acc: 0.3779"
          ],
          "name": "stdout"
        },
        {
          "output_type": "stream",
          "text": [
            "/usr/local/lib/python3.6/dist-packages/sklearn/metrics/classification.py:1437: UndefinedMetricWarning: F-score is ill-defined and being set to 0.0 in labels with no predicted samples.\n",
            "  'precision', 'predicted', average, warn_for)\n"
          ],
          "name": "stderr"
        },
        {
          "output_type": "stream",
          "text": [
            "50000/50000 [==============================] - 9s 187us/step - loss: 1.7360 - acc: 0.3931 - val_loss: 1.8101 - val_acc: 0.3761\n",
            "Epoch 3/50\n",
            "50000/50000 [==============================] - 9s 188us/step - loss: 1.6111 - acc: 0.4337 - val_loss: 1.6871 - val_acc: 0.4085\n",
            "Epoch 4/50\n",
            "50000/50000 [==============================] - 9s 186us/step - loss: 1.5390 - acc: 0.4597 - val_loss: 1.6280 - val_acc: 0.4256\n",
            "Epoch 5/50\n",
            "50000/50000 [==============================] - 9s 183us/step - loss: 1.4817 - acc: 0.4795 - val_loss: 1.5828 - val_acc: 0.4374\n",
            "Epoch 6/50\n",
            "50000/50000 [==============================] - 9s 182us/step - loss: 1.4354 - acc: 0.4992 - val_loss: 1.5651 - val_acc: 0.4446\n",
            "Epoch 7/50\n",
            "50000/50000 [==============================] - 9s 181us/step - loss: 1.3972 - acc: 0.5091 - val_loss: 1.5304 - val_acc: 0.4597\n",
            "Epoch 8/50\n",
            "50000/50000 [==============================] - 9s 184us/step - loss: 1.3613 - acc: 0.5244 - val_loss: 1.5159 - val_acc: 0.4663\n",
            "Epoch 9/50\n",
            "50000/50000 [==============================] - 9s 184us/step - loss: 1.3286 - acc: 0.5364 - val_loss: 1.5039 - val_acc: 0.4734\n",
            "Epoch 10/50\n",
            "50000/50000 [==============================] - 9s 184us/step - loss: 1.3002 - acc: 0.5459 - val_loss: 1.4922 - val_acc: 0.4749\n",
            "Epoch 11/50\n",
            "50000/50000 [==============================] - 9s 183us/step - loss: 1.2696 - acc: 0.5594 - val_loss: 1.4820 - val_acc: 0.4800\n",
            "Epoch 12/50\n",
            "50000/50000 [==============================] - 9s 183us/step - loss: 1.2431 - acc: 0.5677 - val_loss: 1.4783 - val_acc: 0.4821\n",
            "Epoch 13/50\n",
            "50000/50000 [==============================] - 9s 185us/step - loss: 1.2175 - acc: 0.5779 - val_loss: 1.4611 - val_acc: 0.4824\n",
            "Epoch 14/50\n",
            "50000/50000 [==============================] - 9s 185us/step - loss: 1.1935 - acc: 0.5858 - val_loss: 1.4619 - val_acc: 0.4873\n",
            "Epoch 15/50\n",
            "50000/50000 [==============================] - 9s 187us/step - loss: 1.1702 - acc: 0.5967 - val_loss: 1.4577 - val_acc: 0.4849\n",
            "Epoch 16/50\n",
            "50000/50000 [==============================] - 9s 186us/step - loss: 1.1468 - acc: 0.6050 - val_loss: 1.4561 - val_acc: 0.4872\n",
            "Epoch 17/50\n",
            "50000/50000 [==============================] - 9s 183us/step - loss: 1.1237 - acc: 0.6143 - val_loss: 1.4504 - val_acc: 0.4896\n",
            "Epoch 18/50\n",
            "50000/50000 [==============================] - 9s 183us/step - loss: 1.1008 - acc: 0.6235 - val_loss: 1.4626 - val_acc: 0.4892\n",
            "Epoch 19/50\n",
            "50000/50000 [==============================] - 9s 185us/step - loss: 1.0773 - acc: 0.6293 - val_loss: 1.4519 - val_acc: 0.4924\n",
            "Epoch 20/50\n",
            "50000/50000 [==============================] - 9s 185us/step - loss: 1.0567 - acc: 0.6391 - val_loss: 1.4672 - val_acc: 0.4889\n",
            "Epoch 21/50\n",
            "50000/50000 [==============================] - 9s 184us/step - loss: 1.0352 - acc: 0.6488 - val_loss: 1.4569 - val_acc: 0.4966\n",
            "Epoch 22/50\n",
            "50000/50000 [==============================] - 9s 185us/step - loss: 1.0141 - acc: 0.6557 - val_loss: 1.4472 - val_acc: 0.4960\n",
            "Epoch 23/50\n",
            "50000/50000 [==============================] - 9s 186us/step - loss: 0.9915 - acc: 0.6630 - val_loss: 1.4456 - val_acc: 0.4986\n",
            "Epoch 24/50\n",
            "50000/50000 [==============================] - 9s 182us/step - loss: 0.9695 - acc: 0.6737 - val_loss: 1.4562 - val_acc: 0.5015\n",
            "Epoch 25/50\n",
            "50000/50000 [==============================] - 9s 183us/step - loss: 0.9482 - acc: 0.6811 - val_loss: 1.4682 - val_acc: 0.4960\n",
            "Epoch 26/50\n",
            "50000/50000 [==============================] - 9s 183us/step - loss: 0.9307 - acc: 0.6871 - val_loss: 1.4740 - val_acc: 0.4935\n",
            "Epoch 27/50\n",
            "50000/50000 [==============================] - 9s 182us/step - loss: 0.9083 - acc: 0.6966 - val_loss: 1.4645 - val_acc: 0.4971\n",
            "Epoch 28/50\n",
            "50000/50000 [==============================] - 9s 187us/step - loss: 0.8868 - acc: 0.7060 - val_loss: 1.4710 - val_acc: 0.5000\n",
            "Epoch 29/50\n",
            "50000/50000 [==============================] - 9s 184us/step - loss: 0.8681 - acc: 0.7122 - val_loss: 1.4761 - val_acc: 0.5018\n",
            "Epoch 30/50\n",
            "50000/50000 [==============================] - 9s 182us/step - loss: 0.8489 - acc: 0.7208 - val_loss: 1.4755 - val_acc: 0.4985\n",
            "Epoch 31/50\n",
            "50000/50000 [==============================] - 9s 184us/step - loss: 0.8284 - acc: 0.7279 - val_loss: 1.4951 - val_acc: 0.4919\n",
            "Epoch 32/50\n",
            "50000/50000 [==============================] - 9s 185us/step - loss: 0.8082 - acc: 0.7356 - val_loss: 1.5136 - val_acc: 0.4961\n",
            "Epoch 33/50\n",
            "50000/50000 [==============================] - 9s 185us/step - loss: 0.7876 - acc: 0.7438 - val_loss: 1.5067 - val_acc: 0.4945\n",
            "Epoch 34/50\n",
            "50000/50000 [==============================] - 9s 183us/step - loss: 0.7697 - acc: 0.7514 - val_loss: 1.5115 - val_acc: 0.4947\n",
            "Epoch 35/50\n",
            "50000/50000 [==============================] - 9s 183us/step - loss: 0.7517 - acc: 0.7578 - val_loss: 1.5133 - val_acc: 0.4972\n",
            "Epoch 36/50\n",
            "50000/50000 [==============================] - 9s 183us/step - loss: 0.7315 - acc: 0.7676 - val_loss: 1.5174 - val_acc: 0.5012\n",
            "Epoch 37/50\n",
            "50000/50000 [==============================] - 9s 184us/step - loss: 0.7116 - acc: 0.7750 - val_loss: 1.5272 - val_acc: 0.5041\n",
            "Epoch 38/50\n",
            "50000/50000 [==============================] - 9s 183us/step - loss: 0.6934 - acc: 0.7829 - val_loss: 1.5438 - val_acc: 0.4986\n",
            "Epoch 39/50\n",
            "50000/50000 [==============================] - 9s 184us/step - loss: 0.6749 - acc: 0.7888 - val_loss: 1.5691 - val_acc: 0.4961\n",
            "Epoch 40/50\n",
            "50000/50000 [==============================] - 9s 185us/step - loss: 0.6573 - acc: 0.7960 - val_loss: 1.5746 - val_acc: 0.4914\n",
            "Epoch 41/50\n",
            "50000/50000 [==============================] - 9s 185us/step - loss: 0.6390 - acc: 0.8042 - val_loss: 1.5680 - val_acc: 0.5007\n",
            "Epoch 42/50\n",
            "50000/50000 [==============================] - 9s 185us/step - loss: 0.6194 - acc: 0.8128 - val_loss: 1.5917 - val_acc: 0.4958\n",
            "Epoch 43/50\n",
            "50000/50000 [==============================] - 9s 185us/step - loss: 0.6014 - acc: 0.8187 - val_loss: 1.6056 - val_acc: 0.4995\n",
            "Epoch 44/50\n",
            "50000/50000 [==============================] - 9s 184us/step - loss: 0.5857 - acc: 0.8245 - val_loss: 1.6186 - val_acc: 0.4924\n",
            "Epoch 45/50\n",
            "50000/50000 [==============================] - 9s 184us/step - loss: 0.5681 - acc: 0.8329 - val_loss: 1.6158 - val_acc: 0.4984\n",
            "Epoch 46/50\n",
            "50000/50000 [==============================] - 9s 183us/step - loss: 0.5504 - acc: 0.8397 - val_loss: 1.6564 - val_acc: 0.4958\n",
            "Epoch 47/50\n",
            "50000/50000 [==============================] - 9s 184us/step - loss: 0.5333 - acc: 0.8462 - val_loss: 1.6385 - val_acc: 0.4943\n",
            "Epoch 48/50\n",
            "50000/50000 [==============================] - 9s 184us/step - loss: 0.5176 - acc: 0.8518 - val_loss: 1.6709 - val_acc: 0.4973\n",
            "Epoch 49/50\n",
            "50000/50000 [==============================] - 9s 185us/step - loss: 0.5016 - acc: 0.8603 - val_loss: 1.6641 - val_acc: 0.4930\n",
            "Epoch 50/50\n",
            "50000/50000 [==============================] - 9s 184us/step - loss: 0.4843 - acc: 0.8656 - val_loss: 1.6924 - val_acc: 0.4870\n"
          ],
          "name": "stdout"
        }
      ]
    },
    {
      "cell_type": "code",
      "metadata": {
        "id": "aaDMd8uZblsy",
        "colab_type": "code",
        "colab": {
          "base_uri": "https://localhost:8080/",
          "height": 809
        },
        "outputId": "5107bd1d-7102-4e0d-c833-013d7e5261b2"
      },
      "source": [
        "import matplotlib.pyplot as plt\n",
        "%matplotlib inline\n",
        "\n",
        "plt.plot(range(len(train_loss)), train_loss, label=\"train loss\")\n",
        "plt.plot(range(len(valid_loss)), valid_loss, label=\"valid loss\")\n",
        "plt.legend()\n",
        "plt.title(\"Loss\")\n",
        "plt.show()\n",
        "\n",
        "plt.plot(range(len(train_acc)), train_acc, label=\"train accuracy\")\n",
        "plt.plot(range(len(valid_acc)), valid_acc, label=\"valid accuracy\")\n",
        "plt.legend()\n",
        "plt.title(\"Accuracy\")\n",
        "plt.show()\n",
        "\n",
        "plt.plot(range(len(valid_f1sc)), valid_f1sc, label=\"valid f1-score\")\n",
        "plt.legend()\n",
        "plt.title(\"F1-score\")\n",
        "plt.show()\n"
      ],
      "execution_count": 9,
      "outputs": [
        {
          "output_type": "display_data",
          "data": {
            "image/png": "[encoded data removed]",
            "text/plain": [
              "<Figure size 432x288 with 1 Axes>"
            ]
          },
          "metadata": {
            "tags": []
          }
        },
        {
          "output_type": "display_data",
          "data": {
            "image/png": "[encoded data removed]",
            "text/plain": [
              "<Figure size 432x288 with 1 Axes>"
            ]
          },
          "metadata": {
            "tags": []
          }
        },
        {
          "output_type": "display_data",
          "data": {
            "image/png": "[encoded data removed]",
            "text/plain": [
              "<Figure size 432x288 with 1 Axes>"
            ]
          },
          "metadata": {
            "tags": []
          }
        }
      ]
    },
    {
      "cell_type": "markdown",
      "metadata": {
        "id": "cfkrc5WTbls0",
        "colab_type": "text"
      },
      "source": [
        "## Work\n",
        "1. 請嘗試寫一個 callback 用來記錄各類別在訓練過程中，對驗證集的 True Positive 與 True Negative"
      ]
    }
  ]
}
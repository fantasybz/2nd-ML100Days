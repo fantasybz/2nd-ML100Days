{
  "nbformat": 4,
  "nbformat_minor": 0,
  "metadata": {
    "kernelspec": {
      "name": "python3",
      "display_name": "Python 3"
    },
    "language_info": {
      "codemirror_mode": {
        "name": "ipython",
        "version": 3
      },
      "file_extension": ".py",
      "mimetype": "text/x-python",
      "name": "python",
      "nbconvert_exporter": "python",
      "pygments_lexer": "ipython3",
      "version": "3.6.2"
    },
    "colab": {
      "name": "Day097_Keras_CNN_vs_DNN.ipynb",
      "version": "0.3.2",
      "provenance": []
    },
    "accelerator": "GPU"
  },
  "cells": [
    {
      "cell_type": "code",
      "metadata": {
        "id": "ZZLbpGXJCJ1h",
        "colab_type": "code",
        "colab": {
          "base_uri": "https://localhost:8080/",
          "height": 34
        },
        "outputId": "513fe4b7-f348-409b-d47c-9b9489597adc"
      },
      "source": [
        "import keras\n",
        "from keras.datasets import cifar10\n",
        "from keras.preprocessing.image import ImageDataGenerator\n",
        "from keras.models import Sequential\n",
        "from keras.layers import Dense, Dropout, Activation, Flatten\n",
        "from keras.layers import Conv2D, MaxPooling2D\n",
        "from keras.optimizers import RMSprop, Adam\n",
        "import os"
      ],
      "execution_count": 1,
      "outputs": [
        {
          "output_type": "stream",
          "text": [
            "Using TensorFlow backend.\n"
          ],
          "name": "stderr"
        }
      ]
    },
    {
      "cell_type": "code",
      "metadata": {
        "id": "WTfxZ5jOCJ1l",
        "colab_type": "code",
        "colab": {
          "base_uri": "https://localhost:8080/",
          "height": 102
        },
        "outputId": "dbc480df-b1c3-4188-dc5a-a2bda87f0c99"
      },
      "source": [
        "batch_size = 128 # batch 的大小，如果出現 OOM error，請降低這個值\n",
        "num_classes = 10 # 類別的數量，Cifar 10 共有 10 個類別\n",
        "epochs = 10 # 訓練的 epochs 數量\n",
        "\n",
        "# 讀取資料並檢視\n",
        "(x_train, y_train), (x_test, y_test) = cifar10.load_data()\n",
        "print('x_train shape:', x_train.shape)\n",
        "print(x_train.shape[0], 'train samples')\n",
        "print(x_test.shape[0], 'test samples')\n",
        "\n",
        "# 對 label 進行 one-hot encoding (y_trian 原本是純數字)\n",
        "y_train = keras.utils.to_categorical(y_train, num_classes)\n",
        "y_test = keras.utils.to_categorical(y_test, num_classes)"
      ],
      "execution_count": 2,
      "outputs": [
        {
          "output_type": "stream",
          "text": [
            "Downloading data from https://www.cs.toronto.edu/~kriz/cifar-10-python.tar.gz\n",
            "170500096/170498071 [==============================] - 2s 0us/step\n",
            "x_train shape: (50000, 32, 32, 3)\n",
            "50000 train samples\n",
            "10000 test samples\n"
          ],
          "name": "stdout"
        }
      ]
    },
    {
      "cell_type": "markdown",
      "metadata": {
        "id": "s-4BPFEeCJ1n",
        "colab_type": "text"
      },
      "source": [
        "## 首先我們使用一般的 DNN (MLP) 來訓練\n",
        "由於 DNN 只能輸入一維的資料，我們要先將影像進行攤平，若 (50000, 32, 32, 3) 的影像，攤平後會變成 (50000, 32*32*3) = (50000, 3072)"
      ]
    },
    {
      "cell_type": "code",
      "metadata": {
        "id": "oo6wgelOCJ1n",
        "colab_type": "code",
        "colab": {
          "base_uri": "https://localhost:8080/",
          "height": 51
        },
        "outputId": "0273b0d5-702f-4944-a040-26b0f1ecdb75"
      },
      "source": [
        "# 將資料攤平成一維資料\n",
        "x_train = x_train.reshape(50000, 3072) \n",
        "x_test = x_test.reshape(10000, 3072)\n",
        "\n",
        "# 將資料變為 float32 並標準化\n",
        "x_train = x_train.astype('float32')\n",
        "x_test = x_test.astype('float32')\n",
        "x_train /= 255\n",
        "x_test /= 255\n",
        "print(x_train.shape[0], 'train samples')\n",
        "print(x_test.shape[0], 'test samples')"
      ],
      "execution_count": 3,
      "outputs": [
        {
          "output_type": "stream",
          "text": [
            "50000 train samples\n",
            "10000 test samples\n"
          ],
          "name": "stdout"
        }
      ]
    },
    {
      "cell_type": "code",
      "metadata": {
        "id": "1RhWknwECJ1p",
        "colab_type": "code",
        "colab": {
          "base_uri": "https://localhost:8080/",
          "height": 1000
        },
        "outputId": "9eb75a72-afe9-43a2-8c3f-2e50d4704b28"
      },
      "source": [
        "model = Sequential()\n",
        "model.add(Dense(512, activation='relu', input_shape=(3072,)))\n",
        "model.add(Dropout(0.2))\n",
        "model.add(Dense(512, activation='relu'))\n",
        "model.add(Dropout(0.2))\n",
        "model.add(Dense(num_classes, activation='softmax'))\n",
        "\n",
        "model.summary()\n",
        "\n",
        "model.compile(loss='categorical_crossentropy',\n",
        "              optimizer=RMSprop(),\n",
        "              metrics=['accuracy'])\n",
        "\n",
        "history = model.fit(x_train, y_train,\n",
        "                    batch_size=batch_size,\n",
        "                    epochs=epochs,\n",
        "                    verbose=1,\n",
        "                    validation_data=(x_test, y_test))\n",
        "score = model.evaluate(x_test, y_test, verbose=0)\n",
        "print('Test loss:', score[0])\n",
        "print('Test accuracy:', score[1])"
      ],
      "execution_count": 4,
      "outputs": [
        {
          "output_type": "stream",
          "text": [
            "WARNING: Logging before flag parsing goes to stderr.\n",
            "W0811 05:06:45.602845 140187834210176 deprecation_wrapper.py:119] From /usr/local/lib/python3.6/dist-packages/keras/backend/tensorflow_backend.py:74: The name tf.get_default_graph is deprecated. Please use tf.compat.v1.get_default_graph instead.\n",
            "\n",
            "W0811 05:06:45.655430 140187834210176 deprecation_wrapper.py:119] From /usr/local/lib/python3.6/dist-packages/keras/backend/tensorflow_backend.py:517: The name tf.placeholder is deprecated. Please use tf.compat.v1.placeholder instead.\n",
            "\n",
            "W0811 05:06:45.662428 140187834210176 deprecation_wrapper.py:119] From /usr/local/lib/python3.6/dist-packages/keras/backend/tensorflow_backend.py:4138: The name tf.random_uniform is deprecated. Please use tf.random.uniform instead.\n",
            "\n",
            "W0811 05:06:45.677362 140187834210176 deprecation_wrapper.py:119] From /usr/local/lib/python3.6/dist-packages/keras/backend/tensorflow_backend.py:133: The name tf.placeholder_with_default is deprecated. Please use tf.compat.v1.placeholder_with_default instead.\n",
            "\n",
            "W0811 05:06:45.685031 140187834210176 deprecation.py:506] From /usr/local/lib/python3.6/dist-packages/keras/backend/tensorflow_backend.py:3445: calling dropout (from tensorflow.python.ops.nn_ops) with keep_prob is deprecated and will be removed in a future version.\n",
            "Instructions for updating:\n",
            "Please use `rate` instead of `keep_prob`. Rate should be set to `rate = 1 - keep_prob`.\n",
            "W0811 05:06:45.750418 140187834210176 deprecation_wrapper.py:119] From /usr/local/lib/python3.6/dist-packages/keras/optimizers.py:790: The name tf.train.Optimizer is deprecated. Please use tf.compat.v1.train.Optimizer instead.\n",
            "\n",
            "W0811 05:06:45.762634 140187834210176 deprecation_wrapper.py:119] From /usr/local/lib/python3.6/dist-packages/keras/backend/tensorflow_backend.py:3295: The name tf.log is deprecated. Please use tf.math.log instead.\n",
            "\n",
            "W0811 05:06:45.882761 140187834210176 deprecation.py:323] From /usr/local/lib/python3.6/dist-packages/tensorflow/python/ops/math_grad.py:1250: add_dispatch_support.<locals>.wrapper (from tensorflow.python.ops.array_ops) is deprecated and will be removed in a future version.\n",
            "Instructions for updating:\n",
            "Use tf.where in 2.0, which has the same broadcast rule as np.where\n"
          ],
          "name": "stderr"
        },
        {
          "output_type": "stream",
          "text": [
            "_________________________________________________________________\n",
            "Layer (type)                 Output Shape              Param #   \n",
            "=================================================================\n",
            "dense_1 (Dense)              (None, 512)               1573376   \n",
            "_________________________________________________________________\n",
            "dropout_1 (Dropout)          (None, 512)               0         \n",
            "_________________________________________________________________\n",
            "dense_2 (Dense)              (None, 512)               262656    \n",
            "_________________________________________________________________\n",
            "dropout_2 (Dropout)          (None, 512)               0         \n",
            "_________________________________________________________________\n",
            "dense_3 (Dense)              (None, 10)                5130      \n",
            "=================================================================\n",
            "Total params: 1,841,162\n",
            "Trainable params: 1,841,162\n",
            "Non-trainable params: 0\n",
            "_________________________________________________________________\n",
            "Train on 50000 samples, validate on 10000 samples\n",
            "Epoch 1/10\n",
            "50000/50000 [==============================] - 6s 120us/step - loss: 2.1452 - acc: 0.2466 - val_loss: 1.8754 - val_acc: 0.3182\n",
            "Epoch 2/10\n",
            "50000/50000 [==============================] - 2s 41us/step - loss: 1.8596 - acc: 0.3275 - val_loss: 1.7442 - val_acc: 0.3634\n",
            "Epoch 3/10\n",
            "50000/50000 [==============================] - 2s 41us/step - loss: 1.7835 - acc: 0.3586 - val_loss: 1.8872 - val_acc: 0.3311\n",
            "Epoch 4/10\n",
            "50000/50000 [==============================] - 2s 41us/step - loss: 1.7343 - acc: 0.3747 - val_loss: 1.6783 - val_acc: 0.4062\n",
            "Epoch 5/10\n",
            "50000/50000 [==============================] - 2s 40us/step - loss: 1.6941 - acc: 0.3925 - val_loss: 1.6217 - val_acc: 0.4224\n",
            "Epoch 6/10\n",
            "50000/50000 [==============================] - 2s 40us/step - loss: 1.6649 - acc: 0.4031 - val_loss: 1.6186 - val_acc: 0.4356\n",
            "Epoch 7/10\n",
            "50000/50000 [==============================] - 2s 40us/step - loss: 1.6470 - acc: 0.4098 - val_loss: 1.5878 - val_acc: 0.4412\n",
            "Epoch 8/10\n",
            "50000/50000 [==============================] - 2s 41us/step - loss: 1.6274 - acc: 0.4173 - val_loss: 1.5687 - val_acc: 0.4569\n",
            "Epoch 9/10\n",
            "50000/50000 [==============================] - 2s 40us/step - loss: 1.6138 - acc: 0.4204 - val_loss: 1.6102 - val_acc: 0.4298\n",
            "Epoch 10/10\n",
            "50000/50000 [==============================] - 2s 40us/step - loss: 1.6005 - acc: 0.4277 - val_loss: 1.6020 - val_acc: 0.4186\n",
            "Test loss: 1.6019856616973878\n",
            "Test accuracy: 0.4186\n"
          ],
          "name": "stdout"
        }
      ]
    },
    {
      "cell_type": "markdown",
      "metadata": {
        "id": "6nuRb3L3CJ1r",
        "colab_type": "text"
      },
      "source": [
        "## 接下來我們使用 CNN 來訓練神經網路\n",
        "CNN 的原理非常適合處理影像類的資料，就讓我們來看看，同樣的訓練條件，CNN 是否顯著優於 DNN 呢?"
      ]
    },
    {
      "cell_type": "code",
      "metadata": {
        "id": "STeAe86xCJ1s",
        "colab_type": "code",
        "colab": {
          "base_uri": "https://localhost:8080/",
          "height": 68
        },
        "outputId": "4248ef55-4c7b-466f-8b37-c10fa4d826a8"
      },
      "source": [
        "(x_train, y_train), (x_test, y_test) = cifar10.load_data()\n",
        "print('x_train shape:', x_train.shape)\n",
        "print(x_train.shape[0], 'train samples')\n",
        "print(x_test.shape[0], 'test samples')\n",
        "x_train = x_train.astype('float32')\n",
        "x_test = x_test.astype('float32')\n",
        "x_train /= 255\n",
        "x_test /= 255\n",
        "\n",
        "# Convert class vectors to binary class matrices.\n",
        "y_train = keras.utils.to_categorical(y_train, num_classes)\n",
        "y_test = keras.utils.to_categorical(y_test, num_classes)"
      ],
      "execution_count": 23,
      "outputs": [
        {
          "output_type": "stream",
          "text": [
            "x_train shape: (50000, 32, 32, 3)\n",
            "50000 train samples\n",
            "10000 test samples\n"
          ],
          "name": "stdout"
        }
      ]
    },
    {
      "cell_type": "code",
      "metadata": {
        "id": "Kpq4jODFFxHm",
        "colab_type": "code",
        "colab": {}
      },
      "source": [
        "batch_size = 64 \n",
        "\n",
        "#change little batch size\n",
        "\n",
        "epochs = 20"
      ],
      "execution_count": 0,
      "outputs": []
    },
    {
      "cell_type": "code",
      "metadata": {
        "id": "5gOKIRv3CJ1t",
        "colab_type": "code",
        "colab": {
          "base_uri": "https://localhost:8080/",
          "height": 1000
        },
        "outputId": "f78157bc-4810-475c-ca38-50fe7a570f2c"
      },
      "source": [
        "model = Sequential()\n",
        "model.add(Conv2D(32, (3, 3), padding='same',\n",
        "                 input_shape=x_train.shape[1:]))\n",
        "model.add(Activation('relu'))\n",
        "model.add(Conv2D(32, (3, 3)))\n",
        "model.add(Activation('relu'))\n",
        "model.add(MaxPooling2D(pool_size=(2, 2)))\n",
        "model.add(Dropout(0.25))\n",
        "\n",
        "model.add(Conv2D(64, (3, 3), padding='same'))\n",
        "model.add(Activation('relu'))\n",
        "model.add(Conv2D(64, (3, 3)))\n",
        "model.add(Activation('relu'))\n",
        "model.add(MaxPooling2D(pool_size=(2, 2)))\n",
        "model.add(Dropout(0.25))\n",
        "\n",
        "#add more hidden layers\n",
        "model.add(Conv2D(128, (3, 3), padding='same'))\n",
        "model.add(Activation('relu'))\n",
        "model.add(Conv2D(128, (3, 3)))\n",
        "model.add(Activation('relu'))\n",
        "model.add(MaxPooling2D(pool_size=(2, 2)))\n",
        "model.add(Dropout(0.25))\n",
        "\n",
        "model.add(Flatten())\n",
        "model.add(Dense(512))\n",
        "model.add(Activation('relu'))\n",
        "model.add(Dropout(0.5))\n",
        "model.add(Dense(num_classes))\n",
        "model.add(Activation('softmax'))\n",
        "model.summary()\n",
        "\n",
        "#change Adam\n",
        "adam = keras.optimizers.Adam(lr = 0.001)\n",
        "\n",
        "model.compile(loss='categorical_crossentropy',\n",
        "              optimizer=adam,\n",
        "              metrics=['accuracy'])\n",
        "\n",
        "history = model.fit(x_train, y_train,\n",
        "                    batch_size=batch_size,\n",
        "                    epochs=epochs,\n",
        "                    verbose=1,\n",
        "                    validation_data=(x_test, y_test))\n",
        "score = model.evaluate(x_test, y_test, verbose=0)\n",
        "print('Test loss:', score[0])\n",
        "print('Test accuracy:', score[1])"
      ],
      "execution_count": 25,
      "outputs": [
        {
          "output_type": "stream",
          "text": [
            "_________________________________________________________________\n",
            "Layer (type)                 Output Shape              Param #   \n",
            "=================================================================\n",
            "conv2d_59 (Conv2D)           (None, 32, 32, 32)        896       \n",
            "_________________________________________________________________\n",
            "activation_68 (Activation)   (None, 32, 32, 32)        0         \n",
            "_________________________________________________________________\n",
            "conv2d_60 (Conv2D)           (None, 30, 30, 32)        9248      \n",
            "_________________________________________________________________\n",
            "activation_69 (Activation)   (None, 30, 30, 32)        0         \n",
            "_________________________________________________________________\n",
            "max_pooling2d_27 (MaxPooling (None, 15, 15, 32)        0         \n",
            "_________________________________________________________________\n",
            "dropout_35 (Dropout)         (None, 15, 15, 32)        0         \n",
            "_________________________________________________________________\n",
            "conv2d_61 (Conv2D)           (None, 15, 15, 64)        18496     \n",
            "_________________________________________________________________\n",
            "activation_70 (Activation)   (None, 15, 15, 64)        0         \n",
            "_________________________________________________________________\n",
            "conv2d_62 (Conv2D)           (None, 13, 13, 64)        36928     \n",
            "_________________________________________________________________\n",
            "activation_71 (Activation)   (None, 13, 13, 64)        0         \n",
            "_________________________________________________________________\n",
            "max_pooling2d_28 (MaxPooling (None, 6, 6, 64)          0         \n",
            "_________________________________________________________________\n",
            "dropout_36 (Dropout)         (None, 6, 6, 64)          0         \n",
            "_________________________________________________________________\n",
            "conv2d_63 (Conv2D)           (None, 6, 6, 128)         73856     \n",
            "_________________________________________________________________\n",
            "activation_72 (Activation)   (None, 6, 6, 128)         0         \n",
            "_________________________________________________________________\n",
            "conv2d_64 (Conv2D)           (None, 4, 4, 128)         147584    \n",
            "_________________________________________________________________\n",
            "activation_73 (Activation)   (None, 4, 4, 128)         0         \n",
            "_________________________________________________________________\n",
            "max_pooling2d_29 (MaxPooling (None, 2, 2, 128)         0         \n",
            "_________________________________________________________________\n",
            "dropout_37 (Dropout)         (None, 2, 2, 128)         0         \n",
            "_________________________________________________________________\n",
            "flatten_7 (Flatten)          (None, 512)               0         \n",
            "_________________________________________________________________\n",
            "dense_18 (Dense)             (None, 512)               262656    \n",
            "_________________________________________________________________\n",
            "activation_74 (Activation)   (None, 512)               0         \n",
            "_________________________________________________________________\n",
            "dropout_38 (Dropout)         (None, 512)               0         \n",
            "_________________________________________________________________\n",
            "dense_19 (Dense)             (None, 10)                5130      \n",
            "_________________________________________________________________\n",
            "activation_75 (Activation)   (None, 10)                0         \n",
            "=================================================================\n",
            "Total params: 554,794\n",
            "Trainable params: 554,794\n",
            "Non-trainable params: 0\n",
            "_________________________________________________________________\n",
            "Train on 50000 samples, validate on 10000 samples\n",
            "Epoch 1/20\n",
            "50000/50000 [==============================] - 10s 196us/step - loss: 1.6819 - acc: 0.3680 - val_loss: 1.2802 - val_acc: 0.5291\n",
            "Epoch 2/20\n",
            "50000/50000 [==============================] - 8s 164us/step - loss: 1.2331 - acc: 0.5568 - val_loss: 1.0562 - val_acc: 0.6230\n",
            "Epoch 3/20\n",
            "50000/50000 [==============================] - 8s 166us/step - loss: 1.0383 - acc: 0.6319 - val_loss: 0.8858 - val_acc: 0.6871\n",
            "Epoch 4/20\n",
            "50000/50000 [==============================] - 8s 166us/step - loss: 0.9210 - acc: 0.6773 - val_loss: 0.8313 - val_acc: 0.7160\n",
            "Epoch 5/20\n",
            "50000/50000 [==============================] - 8s 166us/step - loss: 0.8389 - acc: 0.7086 - val_loss: 0.7803 - val_acc: 0.7282\n",
            "Epoch 6/20\n",
            "50000/50000 [==============================] - 8s 170us/step - loss: 0.7835 - acc: 0.7261 - val_loss: 0.7387 - val_acc: 0.7439\n",
            "Epoch 7/20\n",
            "50000/50000 [==============================] - 8s 167us/step - loss: 0.7396 - acc: 0.7416 - val_loss: 0.7005 - val_acc: 0.7562\n",
            "Epoch 8/20\n",
            "50000/50000 [==============================] - 8s 166us/step - loss: 0.7090 - acc: 0.7542 - val_loss: 0.6893 - val_acc: 0.7652\n",
            "Epoch 9/20\n",
            "50000/50000 [==============================] - 8s 168us/step - loss: 0.6808 - acc: 0.7645 - val_loss: 0.6922 - val_acc: 0.7636\n",
            "Epoch 10/20\n",
            "50000/50000 [==============================] - 8s 166us/step - loss: 0.6637 - acc: 0.7684 - val_loss: 0.6459 - val_acc: 0.7772\n",
            "Epoch 11/20\n",
            "50000/50000 [==============================] - 8s 165us/step - loss: 0.6359 - acc: 0.7773 - val_loss: 0.6487 - val_acc: 0.7808\n",
            "Epoch 12/20\n",
            "50000/50000 [==============================] - 8s 166us/step - loss: 0.6179 - acc: 0.7852 - val_loss: 0.6392 - val_acc: 0.7796\n",
            "Epoch 13/20\n",
            "50000/50000 [==============================] - 8s 168us/step - loss: 0.6152 - acc: 0.7881 - val_loss: 0.6414 - val_acc: 0.7812\n",
            "Epoch 14/20\n",
            "50000/50000 [==============================] - 8s 167us/step - loss: 0.5968 - acc: 0.7926 - val_loss: 0.5944 - val_acc: 0.7968\n",
            "Epoch 15/20\n",
            "50000/50000 [==============================] - 8s 165us/step - loss: 0.5818 - acc: 0.7971 - val_loss: 0.6082 - val_acc: 0.7985\n",
            "Epoch 16/20\n",
            "50000/50000 [==============================] - 8s 166us/step - loss: 0.5702 - acc: 0.8008 - val_loss: 0.6123 - val_acc: 0.7968\n",
            "Epoch 17/20\n",
            "50000/50000 [==============================] - 8s 165us/step - loss: 0.5621 - acc: 0.8043 - val_loss: 0.6159 - val_acc: 0.7939\n",
            "Epoch 18/20\n",
            "50000/50000 [==============================] - 8s 166us/step - loss: 0.5551 - acc: 0.8048 - val_loss: 0.6235 - val_acc: 0.7910\n",
            "Epoch 19/20\n",
            "50000/50000 [==============================] - 8s 167us/step - loss: 0.5419 - acc: 0.8123 - val_loss: 0.6006 - val_acc: 0.7976\n",
            "Epoch 20/20\n",
            "50000/50000 [==============================] - 8s 165us/step - loss: 0.5408 - acc: 0.8110 - val_loss: 0.5999 - val_acc: 0.7957\n",
            "Test loss: 0.5999171855926514\n",
            "Test accuracy: 0.7957\n"
          ],
          "name": "stdout"
        }
      ]
    },
    {
      "cell_type": "code",
      "metadata": {
        "id": "D79FFm-_Kb10",
        "colab_type": "code",
        "colab": {
          "base_uri": "https://localhost:8080/",
          "height": 624
        },
        "outputId": "03ed830a-23da-4da3-8232-c1296422e607"
      },
      "source": [
        "import matplotlib.pyplot as plt\n",
        "score = model.evaluate(x_test,y_test)\n",
        "print(f'cnn loss : {score[0]}')\n",
        "print(f'cnn acc : {score[1]}')\n",
        "\n",
        "#plt.subplot(1,2,1)\n",
        "plt.plot(history.history['acc'], '-', label = 'train_acc', color = 'g')\n",
        "plt.plot(history.history['val_acc'],'--', label = 'valid_acc', color = 'r')\n",
        "plt.title('accuracy')\n",
        "plt.xlabel('epochs')\n",
        "plt.ylabel('accuracy')\n",
        "plt.show()\n",
        "\n",
        "\n",
        "#plt.subplot(1,2,2)\n",
        "plt.plot(history.history['loss'], '-', label = 'train_loss', color = 'g')\n",
        "plt.plot(history.history['val_loss'],'--', label = 'valid_loss', color = 'r')\n",
        "plt.title('loss')\n",
        "plt.xlabel('epochs')\n",
        "plt.ylabel('loss')\n",
        "plt.show()"
      ],
      "execution_count": 30,
      "outputs": [
        {
          "output_type": "stream",
          "text": [
            "10000/10000 [==============================] - 1s 109us/step\n",
            "cnn loss : 0.5999171855926514\n",
            "cnn acc : 0.7957\n"
          ],
          "name": "stdout"
        },
        {
          "output_type": "display_data",
          "data": {
            "image/png": "[encoded data removed]",
            "text/plain": [
              "<Figure size 432x288 with 1 Axes>"
            ]
          },
          "metadata": {
            "tags": []
          }
        },
        {
          "output_type": "display_data",
          "data": {
            "image/png": "[encoded data removed]",
            "text/plain": [
              "<Figure size 432x288 with 1 Axes>"
            ]
          },
          "metadata": {
            "tags": []
          }
        }
      ]
    },
    {
      "cell_type": "markdown",
      "metadata": {
        "id": "QuvFEI-GCJ1v",
        "colab_type": "text"
      },
      "source": [
        "## 同樣運算 10 個 epochs，但 CNN 在 test data 的準確率顯著優於 DNN!"
      ]
    },
    {
      "cell_type": "markdown",
      "metadata": {
        "id": "DDl2YvuSCJ1w",
        "colab_type": "text"
      },
      "source": [
        "## 作業\n",
        "1. 請試著調整各個超參數，並說明那些超參數對於結果有明顯的影響?\n",
        "2. CNN 與 DNN 哪個模型的參數數量比較多? 造成參數的數量不同的原因在哪?"
      ]
    },
    {
      "cell_type": "markdown",
      "metadata": {
        "id": "I2cJZPLuFgjP",
        "colab_type": "text"
      },
      "source": [
        "BatchSize :  \n",
        "small batch size might will have much stable training process and it will have large chane to convergence. But the minimal you found might would have large chane that it is local minimal. In contrast, big batch size will make the training unstable, since your weight was updated everytime after a large amount of data. So we need to find a good batch size for our training which wont make our training drop into local minimal too esay and the weight updating will be much stabler.\n",
        "\n",
        "\n",
        "filter number in Conv2D:  \n",
        "More filters means more weights(parameters) in our NN, it might make the training time longer and the model more complex. But this means our model can learn more detail of our data, but the generalization ability will be worse.\n",
        "\n",
        "\n",
        "Number of hidden layers:  \n",
        "At the first few times of training, it might be good idea we can add the hidden as much as we can until the testing loss or testing accuracy is not improving. But the training effort(time) will be big.\n",
        "\n",
        "Dropout :  \n",
        "Normally, 0.5 will be a good start to setting our dropout rate. Dropout can make our model has better generalizatiob ability. But too big dropout rate might resut in underfitting, since most of the parameters didnt have much chance to be updated.\n",
        "\n"
      ]
    },
    {
      "cell_type": "markdown",
      "metadata": {
        "id": "Ibftn2LtFl_Q",
        "colab_type": "text"
      },
      "source": [
        "DNN will have much more parameters, since every pixel in the the image will have one weight in one neuron. If our image size is 32323 and the dense unit is 512. Then the total parameters would be 1572864(weights) + 512(bias)."
      ]
    }
  ]
}
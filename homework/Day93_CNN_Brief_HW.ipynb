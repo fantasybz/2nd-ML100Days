{
  "nbformat": 4,
  "nbformat_minor": 0,
  "metadata": {
    "kernelspec": {
      "display_name": "Python 3",
      "language": "python",
      "name": "python3"
    },
    "language_info": {
      "codemirror_mode": {
        "name": "ipython",
        "version": 3
      },
      "file_extension": ".py",
      "mimetype": "text/x-python",
      "name": "python",
      "nbconvert_exporter": "python",
      "pygments_lexer": "ipython3",
      "version": "3.6.8"
    },
    "colab": {
      "name": "Day93-CNN_Brief_HW.ipynb",
      "version": "0.3.2",
      "provenance": []
    }
  },
  "cells": [
    {
      "cell_type": "markdown",
      "metadata": {
        "id": "E8hiPne5OvxL",
        "colab_type": "text"
      },
      "source": [
        "# 作業目標:\n",
        "    運用 Keras 模組建構CNN, 了解 CNN 的架構\n",
        "    \n",
        "    "
      ]
    },
    {
      "cell_type": "markdown",
      "metadata": {
        "id": "8UqA9kKwOvxM",
        "colab_type": "text"
      },
      "source": [
        "# 作業重點\n",
        "(1)嘗試比對 Dense 與 layers.Conv2D 架構NN 的差異\n",
        "\n",
        "(2) 有沒有Pooling layer, 對於參數量的差異\n",
        "\n",
        "注意: input_shape 請勿修改"
      ]
    },
    {
      "cell_type": "code",
      "metadata": {
        "id": "5pRkE0x4OvxN",
        "colab_type": "code",
        "colab": {
          "base_uri": "https://localhost:8080/",
          "height": 51
        },
        "outputId": "34ade8c1-96a6-42cb-e944-8fd5a6cacc6c"
      },
      "source": [
        "#導入相關模組\n",
        "import keras\n",
        "from keras import layers\n",
        "from keras import models\n",
        "from keras.models import Sequential\n",
        "from keras.layers import Conv2D, Activation, MaxPooling2D, Flatten, Dense\n",
        "\n",
        "#確認keras 版本\n",
        "print(keras.__version__)"
      ],
      "execution_count": 2,
      "outputs": [
        {
          "output_type": "stream",
          "text": [
            "Using TensorFlow backend.\n"
          ],
          "name": "stderr"
        },
        {
          "output_type": "stream",
          "text": [
            "2.2.4\n"
          ],
          "name": "stdout"
        }
      ]
    },
    {
      "cell_type": "code",
      "metadata": {
        "id": "CvIoz0vmOvxP",
        "colab_type": "code",
        "colab": {
          "base_uri": "https://localhost:8080/",
          "height": 442
        },
        "outputId": "75cf5042-d0cd-45a3-c986-fee7032372bf"
      },
      "source": [
        "'''\n",
        "model = Sequential([\n",
        "    Dense(xxx),\n",
        "    Activation(xxx),\n",
        "    Dense(xxx),\n",
        "    Activation(xxx),\n",
        "])\n",
        "'''\n",
        "\n",
        "input_shape2 = (784,1)\n",
        "input_layer2 =  layers.Input(input_shape2)\n",
        "\n",
        "x = Dense(units = 100)(input_layer2)\n",
        "x = Activation('relu')(x)\n",
        "\n",
        "\n",
        "x = Dense(units = 50)(x)\n",
        "x = Activation('relu')(x)\n",
        "\n",
        "x = Dense(units = 25)(x)\n",
        "x = Activation('relu')(x)\n",
        "\n",
        "x = Dense(units = 10)(x)\n",
        "output_layer2 = Activation('softmax')(x)\n",
        "\n",
        "model2 = models.Model(inputs = [input_layer2], outputs = [output_layer2])\n",
        "model2.summary()\n"
      ],
      "execution_count": 6,
      "outputs": [
        {
          "output_type": "stream",
          "text": [
            "_________________________________________________________________\n",
            "Layer (type)                 Output Shape              Param #   \n",
            "=================================================================\n",
            "input_4 (InputLayer)         (None, 784, 1)            0         \n",
            "_________________________________________________________________\n",
            "dense_9 (Dense)              (None, 784, 100)          200       \n",
            "_________________________________________________________________\n",
            "activation_9 (Activation)    (None, 784, 100)          0         \n",
            "_________________________________________________________________\n",
            "dense_10 (Dense)             (None, 784, 50)           5050      \n",
            "_________________________________________________________________\n",
            "activation_10 (Activation)   (None, 784, 50)           0         \n",
            "_________________________________________________________________\n",
            "dense_11 (Dense)             (None, 784, 25)           1275      \n",
            "_________________________________________________________________\n",
            "activation_11 (Activation)   (None, 784, 25)           0         \n",
            "_________________________________________________________________\n",
            "dense_12 (Dense)             (None, 784, 10)           260       \n",
            "_________________________________________________________________\n",
            "activation_12 (Activation)   (None, 784, 10)           0         \n",
            "=================================================================\n",
            "Total params: 6,785\n",
            "Trainable params: 6,785\n",
            "Non-trainable params: 0\n",
            "_________________________________________________________________\n"
          ],
          "name": "stdout"
        }
      ]
    },
    {
      "cell_type": "markdown",
      "metadata": {
        "id": "j3d13a3hOvxR",
        "colab_type": "text"
      },
      "source": [
        "# layers.Conv2D 模型, 用作比對\n",
        "\n",
        "![CNN_Model.png](attachment:CNN_Model.png)\n",
        "\n"
      ]
    },
    {
      "cell_type": "code",
      "metadata": {
        "id": "_KCErdjmOvxS",
        "colab_type": "code",
        "colab": {
          "base_uri": "https://localhost:8080/",
          "height": 408
        },
        "outputId": "0d08ceed-c3c7-4a9d-e5ed-922454a55928"
      },
      "source": [
        "'''\n",
        "#建立一個序列模型\n",
        "model = models.Sequential()\n",
        "#建立兩個卷績層, 32 個內核, 內核大小 3x3, \n",
        "#輸入影像大小 28x28x1\n",
        "\n",
        "#建立一個全連接層\n",
        "model.add(Dense(units=100))\n",
        "model.add(Activation('relu'))\n",
        "\n",
        "#建立一個輸出層, 並採用softmax\n",
        "model.add(Dense(units=10))\n",
        "model.add(Activation('softmax'))\n",
        "'''\n",
        "input_shape3 = (28,28,1)\n",
        "input_layer3 = layers.Input(input_shape3)\n",
        "x = Conv2D(filters = 32, kernel_size = (3,3)) (input_layer3)\n",
        "x = Conv2D(filters = 25, kernel_size = (3,3))(x)\n",
        "\n",
        "x = Flatten()(x)\n",
        "\n",
        "x = Dense(units = 100)(x)\n",
        "x = Activation('relu')(x)\n",
        "\n",
        "x = Dense(units = 10)(x)\n",
        "output_layer3 = Activation('softmax')(x)\n",
        "\n",
        "model = models.Model(inputs = [input_layer3], outputs = [output_layer3])\n",
        "model.summary()"
      ],
      "execution_count": 4,
      "outputs": [
        {
          "output_type": "stream",
          "text": [
            "_________________________________________________________________\n",
            "Layer (type)                 Output Shape              Param #   \n",
            "=================================================================\n",
            "input_2 (InputLayer)         (None, 28, 28, 1)         0         \n",
            "_________________________________________________________________\n",
            "conv2d_1 (Conv2D)            (None, 26, 26, 32)        320       \n",
            "_________________________________________________________________\n",
            "conv2d_2 (Conv2D)            (None, 24, 24, 25)        7225      \n",
            "_________________________________________________________________\n",
            "flatten_1 (Flatten)          (None, 14400)             0         \n",
            "_________________________________________________________________\n",
            "dense_5 (Dense)              (None, 100)               1440100   \n",
            "_________________________________________________________________\n",
            "activation_5 (Activation)    (None, 100)               0         \n",
            "_________________________________________________________________\n",
            "dense_6 (Dense)              (None, 10)                1010      \n",
            "_________________________________________________________________\n",
            "activation_6 (Activation)    (None, 10)                0         \n",
            "=================================================================\n",
            "Total params: 1,448,655\n",
            "Trainable params: 1,448,655\n",
            "Non-trainable params: 0\n",
            "_________________________________________________________________\n"
          ],
          "name": "stdout"
        }
      ]
    },
    {
      "cell_type": "code",
      "metadata": {
        "colab_type": "code",
        "outputId": "8fefc179-d537-4b6c-d7cb-9f9d8b3e7f01",
        "id": "Y3dn0UI_Rd88",
        "colab": {
          "base_uri": "https://localhost:8080/",
          "height": 530
        }
      },
      "source": [
        "'''\n",
        "#建立一個序列模型\n",
        "model = models.Sequential()\n",
        "#建立兩個卷績層, 32 個內核, 內核大小 3x3, \n",
        "#輸入影像大小 28x28x1\n",
        "\n",
        "#建立一個全連接層\n",
        "model.add(Dense(units=100))\n",
        "model.add(Activation('relu'))\n",
        "\n",
        "#建立一個輸出層, 並採用softmax\n",
        "model.add(Dense(units=10))\n",
        "model.add(Activation('softmax'))\n",
        "'''\n",
        "input_shape4 = (28,28,1)\n",
        "input_layer4 = layers.Input(input_shape4)\n",
        "x = Conv2D(filters = 32, kernel_size = (3,3)) (input_layer4)\n",
        "x = MaxPooling2D(2,2)(x)\n",
        "\n",
        "x = Conv2D(filters = 25, kernel_size = (3,3))(x)\n",
        "x = MaxPooling2D(2,2)(x)\n",
        "\n",
        "x = Flatten()(x)\n",
        "\n",
        "x = Dense(units = 100)(x)\n",
        "x = Activation('relu')(x)\n",
        "\n",
        "x = Dense(units = 10)(x)\n",
        "output_layer4 = Activation('softmax')(x)\n",
        "\n",
        "model = models.Model(inputs = [input_layer4], outputs = [output_layer4])\n",
        "model.summary()"
      ],
      "execution_count": 5,
      "outputs": [
        {
          "output_type": "stream",
          "text": [
            "W0810 16:06:58.182461 140145500551040 deprecation_wrapper.py:119] From /usr/local/lib/python3.6/dist-packages/keras/backend/tensorflow_backend.py:3976: The name tf.nn.max_pool is deprecated. Please use tf.nn.max_pool2d instead.\n",
            "\n"
          ],
          "name": "stderr"
        },
        {
          "output_type": "stream",
          "text": [
            "_________________________________________________________________\n",
            "Layer (type)                 Output Shape              Param #   \n",
            "=================================================================\n",
            "input_3 (InputLayer)         (None, 28, 28, 1)         0         \n",
            "_________________________________________________________________\n",
            "conv2d_3 (Conv2D)            (None, 26, 26, 32)        320       \n",
            "_________________________________________________________________\n",
            "max_pooling2d_1 (MaxPooling2 (None, 13, 13, 32)        0         \n",
            "_________________________________________________________________\n",
            "conv2d_4 (Conv2D)            (None, 11, 11, 25)        7225      \n",
            "_________________________________________________________________\n",
            "max_pooling2d_2 (MaxPooling2 (None, 5, 5, 25)          0         \n",
            "_________________________________________________________________\n",
            "flatten_2 (Flatten)          (None, 625)               0         \n",
            "_________________________________________________________________\n",
            "dense_7 (Dense)              (None, 100)               62600     \n",
            "_________________________________________________________________\n",
            "activation_7 (Activation)    (None, 100)               0         \n",
            "_________________________________________________________________\n",
            "dense_8 (Dense)              (None, 10)                1010      \n",
            "_________________________________________________________________\n",
            "activation_8 (Activation)    (None, 10)                0         \n",
            "=================================================================\n",
            "Total params: 71,155\n",
            "Trainable params: 71,155\n",
            "Non-trainable params: 0\n",
            "_________________________________________________________________\n"
          ],
          "name": "stdout"
        }
      ]
    },
    {
      "cell_type": "code",
      "metadata": {
        "id": "UpsqcC_cRACu",
        "colab_type": "code",
        "colab": {}
      },
      "source": [
        ""
      ],
      "execution_count": 0,
      "outputs": []
    }
  ]
}
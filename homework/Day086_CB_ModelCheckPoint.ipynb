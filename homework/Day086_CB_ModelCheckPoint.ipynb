{
  "nbformat": 4,
  "nbformat_minor": 0,
  "metadata": {
    "kernelspec": {
      "name": "python3",
      "display_name": "Python 3"
    },
    "language_info": {
      "codemirror_mode": {
        "name": "ipython",
        "version": 3
      },
      "file_extension": ".py",
      "mimetype": "text/x-python",
      "name": "python",
      "nbconvert_exporter": "python",
      "pygments_lexer": "ipython3",
      "version": "3.6.5"
    },
    "colab": {
      "name": "Day086_CB_ModelCheckPoint.ipynb",
      "version": "0.3.2",
      "provenance": []
    },
    "accelerator": "GPU"
  },
  "cells": [
    {
      "cell_type": "markdown",
      "metadata": {
        "id": "u9xmv7HTC7e_",
        "colab_type": "text"
      },
      "source": [
        "## 範例重點\n",
        "* 學習如何在 keras 中加入 model checkpoint\n",
        "* 知道如何設定監控目標\n",
        "* 比較使用最佳與非最佳參數時的 performance"
      ]
    },
    {
      "cell_type": "code",
      "metadata": {
        "id": "08o8YC9QC7fA",
        "colab_type": "code",
        "colab": {
          "base_uri": "https://localhost:8080/",
          "height": 34
        },
        "outputId": "23bbc1bf-7671-4ec7-da73-8ecb3e74c5a9"
      },
      "source": [
        "import os\n",
        "import keras\n",
        "\n",
        "# 本範例不需使用 GPU, 將 GPU 設定為 \"無\"\n",
        "#os.environ[\"CUDA_VISIBLE_DEVICES\"] = \"\""
      ],
      "execution_count": 1,
      "outputs": [
        {
          "output_type": "stream",
          "text": [
            "Using TensorFlow backend.\n"
          ],
          "name": "stderr"
        }
      ]
    },
    {
      "cell_type": "code",
      "metadata": {
        "id": "1gCh4D-IC7fE",
        "colab_type": "code",
        "colab": {}
      },
      "source": [
        "train, test = keras.datasets.cifar10.load_data()"
      ],
      "execution_count": 0,
      "outputs": []
    },
    {
      "cell_type": "code",
      "metadata": {
        "id": "nE9IZb8OC7fG",
        "colab_type": "code",
        "colab": {}
      },
      "source": [
        "## 資料前處理\n",
        "def preproc_x(x, flatten=True):\n",
        "    x = x / 255.\n",
        "    if flatten:\n",
        "        x = x.reshape((len(x), -1))\n",
        "    return x\n",
        "\n",
        "def preproc_y(y, num_classes=10):\n",
        "    if y.shape[-1] == 1:\n",
        "        y = keras.utils.to_categorical(y, num_classes)\n",
        "    return y    "
      ],
      "execution_count": 0,
      "outputs": []
    },
    {
      "cell_type": "code",
      "metadata": {
        "id": "3cAZagjXC7fH",
        "colab_type": "code",
        "colab": {}
      },
      "source": [
        "x_train, y_train = train\n",
        "x_test, y_test = test\n",
        "\n",
        "# 資料前處理 - X 標準化\n",
        "x_train = preproc_x(x_train)\n",
        "x_test = preproc_x(x_test)\n",
        "\n",
        "# 資料前處理 -Y 轉成 onehot\n",
        "y_train = preproc_y(y_train)\n",
        "y_test = preproc_y(y_test)"
      ],
      "execution_count": 0,
      "outputs": []
    },
    {
      "cell_type": "code",
      "metadata": {
        "id": "9CkCob8vC7fJ",
        "colab_type": "code",
        "colab": {}
      },
      "source": [
        "from keras.layers import BatchNormalization\n",
        "\n",
        "\"\"\"\n",
        "建立神經網路，並加入 BN layer\n",
        "\"\"\"\n",
        "def build_mlp(input_shape, output_units=10, num_neurons=[512, 256, 128]):\n",
        "    input_layer = keras.layers.Input(input_shape)\n",
        "    \n",
        "    for i, n_units in enumerate(num_neurons):\n",
        "        if i == 0:\n",
        "            x = keras.layers.Dense(units=n_units, \n",
        "                                   activation=\"relu\", \n",
        "                                   name=\"hidden_layer\"+str(i+1))(input_layer)\n",
        "            x = BatchNormalization()(x)\n",
        "        else:\n",
        "            x = keras.layers.Dense(units=n_units, \n",
        "                                   activation=\"relu\", \n",
        "                                   name=\"hidden_layer\"+str(i+1))(x)\n",
        "            x = BatchNormalization()(x)\n",
        "    \n",
        "    out = keras.layers.Dense(units=output_units, activation=\"softmax\", name=\"output\")(x)\n",
        "    \n",
        "    model = keras.models.Model(inputs=[input_layer], outputs=[out])\n",
        "    return model"
      ],
      "execution_count": 0,
      "outputs": []
    },
    {
      "cell_type": "code",
      "metadata": {
        "id": "vkc0HBB4C7fL",
        "colab_type": "code",
        "colab": {}
      },
      "source": [
        "## 超參數設定\n",
        "LEARNING_RATE = 1e-3\n",
        "EPOCHS = 50\n",
        "BATCH_SIZE = 1024\n",
        "MOMENTUM = 0.95"
      ],
      "execution_count": 0,
      "outputs": []
    },
    {
      "cell_type": "code",
      "metadata": {
        "id": "RoULicp9C7fN",
        "colab_type": "code",
        "colab": {}
      },
      "source": [
        "\"\"\"\n",
        "# 載入 Callbacks, 並將監控目標設為 validation loss, 且只存最佳參數時的模型\n",
        "\"\"\"\n",
        "from keras.callbacks import ModelCheckpoint\n",
        "\n",
        "model_ckpt = ModelCheckpoint(filepath=\"./tmp.h5\", \n",
        "                             monitor=\"val_loss\", \n",
        "                             save_best_only=True)"
      ],
      "execution_count": 0,
      "outputs": []
    },
    {
      "cell_type": "code",
      "metadata": {
        "scrolled": true,
        "id": "Zx5cppreC7fO",
        "colab_type": "code",
        "colab": {
          "base_uri": "https://localhost:8080/",
          "height": 1000
        },
        "outputId": "7bdc9528-4cf1-4159-f368-a5da53ac08b1"
      },
      "source": [
        "model = build_mlp(input_shape=x_train.shape[1:])\n",
        "model.summary()\n",
        "optimizer = keras.optimizers.SGD(lr=LEARNING_RATE, nesterov=True, momentum=MOMENTUM)\n",
        "model.compile(loss=\"categorical_crossentropy\", metrics=[\"accuracy\"], optimizer=optimizer)\n",
        "\n",
        "model.fit(x_train, y_train, \n",
        "          epochs=EPOCHS, \n",
        "          batch_size=BATCH_SIZE, \n",
        "          validation_data=(x_test, y_test), \n",
        "          shuffle=True,\n",
        "          callbacks=[model_ckpt]\n",
        "         )\n",
        "\n",
        "# Collect results\n",
        "train_loss = model.history.history[\"loss\"]\n",
        "valid_loss = model.history.history[\"val_loss\"]\n",
        "train_acc = model.history.history[\"acc\"]\n",
        "valid_acc = model.history.history[\"val_acc\"]\n",
        "\n",
        "# Load back\n",
        "model = keras.models.load_model(\"./tmp.h5\")\n",
        "loss_loadback, acc_loadback = model.evaluate(x_test, y_test)"
      ],
      "execution_count": 8,
      "outputs": [
        {
          "output_type": "stream",
          "text": [
            "WARNING: Logging before flag parsing goes to stderr.\n",
            "W0803 15:18:47.334361 140126886897536 deprecation_wrapper.py:119] From /usr/local/lib/python3.6/dist-packages/keras/backend/tensorflow_backend.py:74: The name tf.get_default_graph is deprecated. Please use tf.compat.v1.get_default_graph instead.\n",
            "\n",
            "W0803 15:18:47.348401 140126886897536 deprecation_wrapper.py:119] From /usr/local/lib/python3.6/dist-packages/keras/backend/tensorflow_backend.py:517: The name tf.placeholder is deprecated. Please use tf.compat.v1.placeholder instead.\n",
            "\n",
            "W0803 15:18:47.353781 140126886897536 deprecation_wrapper.py:119] From /usr/local/lib/python3.6/dist-packages/keras/backend/tensorflow_backend.py:4138: The name tf.random_uniform is deprecated. Please use tf.random.uniform instead.\n",
            "\n",
            "W0803 15:18:47.425315 140126886897536 deprecation_wrapper.py:119] From /usr/local/lib/python3.6/dist-packages/keras/backend/tensorflow_backend.py:133: The name tf.placeholder_with_default is deprecated. Please use tf.compat.v1.placeholder_with_default instead.\n",
            "\n",
            "W0803 15:18:47.723528 140126886897536 deprecation_wrapper.py:119] From /usr/local/lib/python3.6/dist-packages/keras/optimizers.py:790: The name tf.train.Optimizer is deprecated. Please use tf.compat.v1.train.Optimizer instead.\n",
            "\n",
            "W0803 15:18:47.731150 140126886897536 deprecation_wrapper.py:119] From /usr/local/lib/python3.6/dist-packages/keras/backend/tensorflow_backend.py:3295: The name tf.log is deprecated. Please use tf.math.log instead.\n",
            "\n"
          ],
          "name": "stderr"
        },
        {
          "output_type": "stream",
          "text": [
            "_________________________________________________________________\n",
            "Layer (type)                 Output Shape              Param #   \n",
            "=================================================================\n",
            "input_1 (InputLayer)         (None, 3072)              0         \n",
            "_________________________________________________________________\n",
            "hidden_layer1 (Dense)        (None, 512)               1573376   \n",
            "_________________________________________________________________\n",
            "batch_normalization_1 (Batch (None, 512)               2048      \n",
            "_________________________________________________________________\n",
            "hidden_layer2 (Dense)        (None, 256)               131328    \n",
            "_________________________________________________________________\n",
            "batch_normalization_2 (Batch (None, 256)               1024      \n",
            "_________________________________________________________________\n",
            "hidden_layer3 (Dense)        (None, 128)               32896     \n",
            "_________________________________________________________________\n",
            "batch_normalization_3 (Batch (None, 128)               512       \n",
            "_________________________________________________________________\n",
            "output (Dense)               (None, 10)                1290      \n",
            "=================================================================\n",
            "Total params: 1,742,474\n",
            "Trainable params: 1,740,682\n",
            "Non-trainable params: 1,792\n",
            "_________________________________________________________________\n"
          ],
          "name": "stdout"
        },
        {
          "output_type": "stream",
          "text": [
            "W0803 15:18:47.825769 140126886897536 deprecation.py:323] From /usr/local/lib/python3.6/dist-packages/tensorflow/python/ops/math_grad.py:1250: add_dispatch_support.<locals>.wrapper (from tensorflow.python.ops.array_ops) is deprecated and will be removed in a future version.\n",
            "Instructions for updating:\n",
            "Use tf.where in 2.0, which has the same broadcast rule as np.where\n"
          ],
          "name": "stderr"
        },
        {
          "output_type": "stream",
          "text": [
            "Train on 50000 samples, validate on 10000 samples\n",
            "Epoch 1/50\n",
            "50000/50000 [==============================] - 3s 58us/step - loss: 2.2151 - acc: 0.2727 - val_loss: 2.0734 - val_acc: 0.3342\n",
            "Epoch 2/50\n",
            "50000/50000 [==============================] - 1s 30us/step - loss: 1.7528 - acc: 0.3883 - val_loss: 1.8155 - val_acc: 0.3775\n",
            "Epoch 3/50\n",
            "50000/50000 [==============================] - 1s 29us/step - loss: 1.6272 - acc: 0.4312 - val_loss: 1.7012 - val_acc: 0.4034\n",
            "Epoch 4/50\n",
            "50000/50000 [==============================] - 1s 29us/step - loss: 1.5553 - acc: 0.4553 - val_loss: 1.6423 - val_acc: 0.4289\n",
            "Epoch 5/50\n",
            "50000/50000 [==============================] - 1s 30us/step - loss: 1.5009 - acc: 0.4751 - val_loss: 1.6119 - val_acc: 0.4337\n",
            "Epoch 6/50\n",
            "50000/50000 [==============================] - 1s 30us/step - loss: 1.4552 - acc: 0.4921 - val_loss: 1.5797 - val_acc: 0.4457\n",
            "Epoch 7/50\n",
            "50000/50000 [==============================] - 1s 29us/step - loss: 1.4144 - acc: 0.5079 - val_loss: 1.5745 - val_acc: 0.4484\n",
            "Epoch 8/50\n",
            "50000/50000 [==============================] - 1s 30us/step - loss: 1.3801 - acc: 0.5187 - val_loss: 1.5408 - val_acc: 0.4592\n",
            "Epoch 9/50\n",
            "50000/50000 [==============================] - 1s 30us/step - loss: 1.3473 - acc: 0.5309 - val_loss: 1.5245 - val_acc: 0.4635\n",
            "Epoch 10/50\n",
            "50000/50000 [==============================] - 1s 30us/step - loss: 1.3177 - acc: 0.5432 - val_loss: 1.5105 - val_acc: 0.4665\n",
            "Epoch 11/50\n",
            "50000/50000 [==============================] - 1s 29us/step - loss: 1.2887 - acc: 0.5552 - val_loss: 1.5037 - val_acc: 0.4701\n",
            "Epoch 12/50\n",
            "50000/50000 [==============================] - 1s 29us/step - loss: 1.2618 - acc: 0.5635 - val_loss: 1.5004 - val_acc: 0.4728\n",
            "Epoch 13/50\n",
            "50000/50000 [==============================] - 1s 30us/step - loss: 1.2365 - acc: 0.5745 - val_loss: 1.4915 - val_acc: 0.4764\n",
            "Epoch 14/50\n",
            "50000/50000 [==============================] - 1s 30us/step - loss: 1.2125 - acc: 0.5826 - val_loss: 1.4929 - val_acc: 0.4762\n",
            "Epoch 15/50\n",
            "50000/50000 [==============================] - 1s 29us/step - loss: 1.1855 - acc: 0.5918 - val_loss: 1.4730 - val_acc: 0.4812\n",
            "Epoch 16/50\n",
            "50000/50000 [==============================] - 1s 30us/step - loss: 1.1618 - acc: 0.6018 - val_loss: 1.4678 - val_acc: 0.4860\n",
            "Epoch 17/50\n",
            "50000/50000 [==============================] - 1s 29us/step - loss: 1.1393 - acc: 0.6099 - val_loss: 1.4728 - val_acc: 0.4863\n",
            "Epoch 18/50\n",
            "50000/50000 [==============================] - 1s 29us/step - loss: 1.1163 - acc: 0.6186 - val_loss: 1.4607 - val_acc: 0.4855\n",
            "Epoch 19/50\n",
            "50000/50000 [==============================] - 1s 29us/step - loss: 1.0941 - acc: 0.6266 - val_loss: 1.4779 - val_acc: 0.4862\n",
            "Epoch 20/50\n",
            "50000/50000 [==============================] - 1s 29us/step - loss: 1.0719 - acc: 0.6362 - val_loss: 1.4715 - val_acc: 0.4883\n",
            "Epoch 21/50\n",
            "50000/50000 [==============================] - 1s 30us/step - loss: 1.0500 - acc: 0.6435 - val_loss: 1.4739 - val_acc: 0.4842\n",
            "Epoch 22/50\n",
            "50000/50000 [==============================] - 1s 29us/step - loss: 1.0291 - acc: 0.6505 - val_loss: 1.4639 - val_acc: 0.4901\n",
            "Epoch 23/50\n",
            "50000/50000 [==============================] - 1s 29us/step - loss: 1.0076 - acc: 0.6598 - val_loss: 1.4633 - val_acc: 0.4901\n",
            "Epoch 24/50\n",
            "50000/50000 [==============================] - 1s 29us/step - loss: 0.9873 - acc: 0.6682 - val_loss: 1.4707 - val_acc: 0.4901\n",
            "Epoch 25/50\n",
            "50000/50000 [==============================] - 1s 30us/step - loss: 0.9669 - acc: 0.6747 - val_loss: 1.4726 - val_acc: 0.4910\n",
            "Epoch 26/50\n",
            "50000/50000 [==============================] - 1s 30us/step - loss: 0.9459 - acc: 0.6838 - val_loss: 1.4823 - val_acc: 0.4904\n",
            "Epoch 27/50\n",
            "50000/50000 [==============================] - 1s 30us/step - loss: 0.9253 - acc: 0.6907 - val_loss: 1.4771 - val_acc: 0.4917\n",
            "Epoch 28/50\n",
            "50000/50000 [==============================] - 1s 30us/step - loss: 0.9044 - acc: 0.7004 - val_loss: 1.4893 - val_acc: 0.4870\n",
            "Epoch 29/50\n",
            "50000/50000 [==============================] - 1s 30us/step - loss: 0.8837 - acc: 0.7083 - val_loss: 1.4847 - val_acc: 0.4924\n",
            "Epoch 30/50\n",
            "50000/50000 [==============================] - 1s 30us/step - loss: 0.8659 - acc: 0.7160 - val_loss: 1.4808 - val_acc: 0.4979\n",
            "Epoch 31/50\n",
            "50000/50000 [==============================] - 1s 30us/step - loss: 0.8466 - acc: 0.7221 - val_loss: 1.5063 - val_acc: 0.4929\n",
            "Epoch 32/50\n",
            "50000/50000 [==============================] - 1s 30us/step - loss: 0.8298 - acc: 0.7290 - val_loss: 1.5049 - val_acc: 0.4946\n",
            "Epoch 33/50\n",
            "50000/50000 [==============================] - 1s 29us/step - loss: 0.8071 - acc: 0.7392 - val_loss: 1.5191 - val_acc: 0.4915\n",
            "Epoch 34/50\n",
            "50000/50000 [==============================] - 1s 30us/step - loss: 0.7878 - acc: 0.7469 - val_loss: 1.5197 - val_acc: 0.4947\n",
            "Epoch 35/50\n",
            "50000/50000 [==============================] - 1s 29us/step - loss: 0.7684 - acc: 0.7546 - val_loss: 1.5209 - val_acc: 0.4883\n",
            "Epoch 36/50\n",
            "50000/50000 [==============================] - 1s 30us/step - loss: 0.7492 - acc: 0.7613 - val_loss: 1.5378 - val_acc: 0.4915\n",
            "Epoch 37/50\n",
            "50000/50000 [==============================] - 1s 29us/step - loss: 0.7298 - acc: 0.7679 - val_loss: 1.5502 - val_acc: 0.4886\n",
            "Epoch 38/50\n",
            "50000/50000 [==============================] - 1s 29us/step - loss: 0.7130 - acc: 0.7764 - val_loss: 1.5452 - val_acc: 0.4872\n",
            "Epoch 39/50\n",
            "50000/50000 [==============================] - 1s 30us/step - loss: 0.6935 - acc: 0.7839 - val_loss: 1.5685 - val_acc: 0.4888\n",
            "Epoch 40/50\n",
            "50000/50000 [==============================] - 1s 30us/step - loss: 0.6759 - acc: 0.7903 - val_loss: 1.5772 - val_acc: 0.4906\n",
            "Epoch 41/50\n",
            "50000/50000 [==============================] - 1s 29us/step - loss: 0.6558 - acc: 0.7989 - val_loss: 1.5808 - val_acc: 0.4912\n",
            "Epoch 42/50\n",
            "50000/50000 [==============================] - 1s 30us/step - loss: 0.6373 - acc: 0.8055 - val_loss: 1.5906 - val_acc: 0.4867\n",
            "Epoch 43/50\n",
            "50000/50000 [==============================] - 1s 30us/step - loss: 0.6198 - acc: 0.8128 - val_loss: 1.6086 - val_acc: 0.4873\n",
            "Epoch 44/50\n",
            "50000/50000 [==============================] - 1s 30us/step - loss: 0.6007 - acc: 0.8214 - val_loss: 1.6143 - val_acc: 0.4888\n",
            "Epoch 45/50\n",
            "50000/50000 [==============================] - 1s 30us/step - loss: 0.5848 - acc: 0.8278 - val_loss: 1.6328 - val_acc: 0.4884\n",
            "Epoch 46/50\n",
            "50000/50000 [==============================] - 1s 30us/step - loss: 0.5706 - acc: 0.8327 - val_loss: 1.6421 - val_acc: 0.4849\n",
            "Epoch 47/50\n",
            "50000/50000 [==============================] - 1s 30us/step - loss: 0.5530 - acc: 0.8394 - val_loss: 1.6627 - val_acc: 0.4843\n",
            "Epoch 48/50\n",
            "50000/50000 [==============================] - 1s 30us/step - loss: 0.5331 - acc: 0.8458 - val_loss: 1.6743 - val_acc: 0.4907\n",
            "Epoch 49/50\n",
            "50000/50000 [==============================] - 1s 30us/step - loss: 0.5176 - acc: 0.8533 - val_loss: 1.6778 - val_acc: 0.4832\n",
            "Epoch 50/50\n",
            "50000/50000 [==============================] - 1s 30us/step - loss: 0.5014 - acc: 0.8592 - val_loss: 1.7302 - val_acc: 0.4785\n",
            "10000/10000 [==============================] - 1s 80us/step\n"
          ],
          "name": "stdout"
        }
      ]
    },
    {
      "cell_type": "code",
      "metadata": {
        "id": "Y-wXrWH7C7fQ",
        "colab_type": "code",
        "colab": {
          "base_uri": "https://localhost:8080/",
          "height": 545
        },
        "outputId": "69a1d3bd-9297-442a-e563-ac4642a37bc3"
      },
      "source": [
        "import matplotlib.pyplot as plt\n",
        "%matplotlib inline\n",
        "\n",
        "plt.plot(range(len(train_loss)), train_loss, label=\"train loss\")\n",
        "plt.plot(range(len(valid_loss)), valid_loss, label=\"valid loss\")\n",
        "plt.hlines(y=loss_loadback, xmin=0, xmax=len(train_loss), colors='r', linestyles='--')\n",
        "plt.legend()\n",
        "plt.title(\"Loss\")\n",
        "plt.show()\n",
        "\n",
        "plt.plot(range(len(train_acc)), train_acc, label=\"train accuracy\")\n",
        "plt.plot(range(len(valid_acc)), valid_acc, label=\"valid accuracy\")\n",
        "plt.hlines(y=acc_loadback, xmin=0, xmax=len(train_loss), colors='r', linestyles='--')\n",
        "plt.legend()\n",
        "plt.title(\"Accuracy\")\n",
        "plt.show()"
      ],
      "execution_count": 9,
      "outputs": [
        {
          "output_type": "display_data",
          "data": {
            "image/png": "[encoded data removed]",
            "text/plain": [
              "<Figure size 432x288 with 1 Axes>"
            ]
          },
          "metadata": {
            "tags": []
          }
        },
        {
          "output_type": "display_data",
          "data": {
            "image/png": "[encoded data removed]",
            "text/plain": [
              "<Figure size 432x288 with 1 Axes>"
            ]
          },
          "metadata": {
            "tags": []
          }
        }
      ]
    },
    {
      "cell_type": "markdown",
      "metadata": {
        "id": "jg11WdKwC7fT",
        "colab_type": "text"
      },
      "source": [
        "## Work\n",
        "1. 試比較 save_best_only 與否的差異\n",
        "2. 請僅存入將 save_weights_only 設定為 True, 並嘗試 reset ipynb 並將模型與權重重新建回並預測 x_test"
      ]
    }
  ]
}
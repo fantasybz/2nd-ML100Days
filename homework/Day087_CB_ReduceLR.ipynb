{
  "nbformat": 4,
  "nbformat_minor": 0,
  "metadata": {
    "kernelspec": {
      "name": "python3",
      "display_name": "Python 3"
    },
    "language_info": {
      "codemirror_mode": {
        "name": "ipython",
        "version": 3
      },
      "file_extension": ".py",
      "mimetype": "text/x-python",
      "name": "python",
      "nbconvert_exporter": "python",
      "pygments_lexer": "ipython3",
      "version": "3.6.5"
    },
    "colab": {
      "name": "Day087_CB_ReduceLR.ipynb",
      "version": "0.3.2",
      "provenance": []
    },
    "accelerator": "GPU"
  },
  "cells": [
    {
      "cell_type": "markdown",
      "metadata": {
        "id": "24FztCbXOA4p",
        "colab_type": "text"
      },
      "source": [
        "## 範例重點\n",
        "* 學習如何在 keras 中加入 reduce learning rate\n",
        "* 知道如何設定 reduce_lr 的監控目標\n",
        "* 比較使用有無使用 reduce_lr 時的 performance"
      ]
    },
    {
      "cell_type": "code",
      "metadata": {
        "id": "xSoh64sUOA4q",
        "colab_type": "code",
        "colab": {
          "base_uri": "https://localhost:8080/",
          "height": 34
        },
        "outputId": "20ccc03a-72f9-480a-d170-6855dd440b56"
      },
      "source": [
        "import os\n",
        "import keras\n",
        "\n",
        "# 本範例不需使用 GPU, 將 GPU 設定為 \"無\"\n",
        "#os.environ[\"CUDA_VISIBLE_DEVICES\"] = \"\""
      ],
      "execution_count": 1,
      "outputs": [
        {
          "output_type": "stream",
          "text": [
            "Using TensorFlow backend.\n"
          ],
          "name": "stderr"
        }
      ]
    },
    {
      "cell_type": "code",
      "metadata": {
        "id": "Q-TBvHZJOA4s",
        "colab_type": "code",
        "colab": {}
      },
      "source": [
        "train, test = keras.datasets.cifar10.load_data()"
      ],
      "execution_count": 0,
      "outputs": []
    },
    {
      "cell_type": "code",
      "metadata": {
        "id": "ICWzKzM6OA4u",
        "colab_type": "code",
        "colab": {}
      },
      "source": [
        "## 資料前處理\n",
        "def preproc_x(x, flatten=True):\n",
        "    x = x / 255.\n",
        "    if flatten:\n",
        "        x = x.reshape((len(x), -1))\n",
        "    return x\n",
        "\n",
        "def preproc_y(y, num_classes=10):\n",
        "    if y.shape[-1] == 1:\n",
        "        y = keras.utils.to_categorical(y, num_classes)\n",
        "    return y    "
      ],
      "execution_count": 0,
      "outputs": []
    },
    {
      "cell_type": "code",
      "metadata": {
        "id": "Cc2hipQpOA4w",
        "colab_type": "code",
        "colab": {}
      },
      "source": [
        "x_train, y_train = train\n",
        "x_test, y_test = test\n",
        "\n",
        "# 資料前處理 - X 標準化\n",
        "x_train = preproc_x(x_train)\n",
        "x_test = preproc_x(x_test)\n",
        "\n",
        "# 資料前處理 -Y 轉成 onehot\n",
        "y_train = preproc_y(y_train)\n",
        "y_test = preproc_y(y_test)"
      ],
      "execution_count": 0,
      "outputs": []
    },
    {
      "cell_type": "code",
      "metadata": {
        "id": "ObHl23zxOA4x",
        "colab_type": "code",
        "colab": {}
      },
      "source": [
        "from keras.layers import BatchNormalization\n",
        "\n",
        "\"\"\"\n",
        "建立神經網路，並加入 BN layer\n",
        "\"\"\"\n",
        "def build_mlp(input_shape, output_units=10, num_neurons=[512, 256, 128]):\n",
        "    input_layer = keras.layers.Input(input_shape)\n",
        "    \n",
        "    for i, n_units in enumerate(num_neurons):\n",
        "        if i == 0:\n",
        "            x = keras.layers.Dense(units=n_units, \n",
        "                                   activation=\"relu\", \n",
        "                                   name=\"hidden_layer\"+str(i+1))(input_layer)\n",
        "            x = BatchNormalization()(x)\n",
        "        else:\n",
        "            x = keras.layers.Dense(units=n_units, \n",
        "                                   activation=\"relu\", \n",
        "                                   name=\"hidden_layer\"+str(i+1))(x)\n",
        "            x = BatchNormalization()(x)\n",
        "    \n",
        "    out = keras.layers.Dense(units=output_units, activation=\"softmax\", name=\"output\")(x)\n",
        "    \n",
        "    model = keras.models.Model(inputs=[input_layer], outputs=[out])\n",
        "    return model"
      ],
      "execution_count": 0,
      "outputs": []
    },
    {
      "cell_type": "code",
      "metadata": {
        "id": "EG3WmvNkOA4z",
        "colab_type": "code",
        "colab": {}
      },
      "source": [
        "## 超參數設定\n",
        "LEARNING_RATE = 1e-3\n",
        "EPOCHS = 50\n",
        "BATCH_SIZE = 1024\n",
        "MOMENTUM = 0.95"
      ],
      "execution_count": 0,
      "outputs": []
    },
    {
      "cell_type": "code",
      "metadata": {
        "id": "qJYz2ZErOA41",
        "colab_type": "code",
        "colab": {}
      },
      "source": [
        "\"\"\"\n",
        "# 載入 Callbacks, 並設定監控目標為 validation loss\n",
        "\"\"\"\n",
        "from keras.callbacks import ReduceLROnPlateau\n",
        "\n",
        "reduce_lr = ReduceLROnPlateau(factor=0.5, \n",
        "                              min_lr=1e-12, \n",
        "                              monitor='val_loss', \n",
        "                              patience=5, \n",
        "                              verbose=1)"
      ],
      "execution_count": 0,
      "outputs": []
    },
    {
      "cell_type": "code",
      "metadata": {
        "scrolled": true,
        "id": "Hfs3Z2csOA42",
        "colab_type": "code",
        "colab": {
          "base_uri": "https://localhost:8080/",
          "height": 1000
        },
        "outputId": "1706be48-78ce-4dd2-8f4d-d2d2ef48440d"
      },
      "source": [
        "model = build_mlp(input_shape=x_train.shape[1:])\n",
        "model.summary()\n",
        "optimizer = keras.optimizers.SGD(lr=LEARNING_RATE, nesterov=True, momentum=MOMENTUM)\n",
        "model.compile(loss=\"categorical_crossentropy\", metrics=[\"accuracy\"], optimizer=optimizer)\n",
        "\n",
        "model.fit(x_train, y_train, \n",
        "          epochs=EPOCHS, \n",
        "          batch_size=BATCH_SIZE, \n",
        "          validation_data=(x_test, y_test), \n",
        "          shuffle=True,\n",
        "          callbacks=[reduce_lr]\n",
        "         )\n",
        "\n",
        "# Collect results\n",
        "train_loss = model.history.history[\"loss\"]\n",
        "valid_loss = model.history.history[\"val_loss\"]\n",
        "train_acc = model.history.history[\"acc\"]\n",
        "valid_acc = model.history.history[\"val_acc\"]"
      ],
      "execution_count": 8,
      "outputs": [
        {
          "output_type": "stream",
          "text": [
            "WARNING: Logging before flag parsing goes to stderr.\n",
            "W0803 16:03:43.032725 140542968772480 deprecation_wrapper.py:119] From /usr/local/lib/python3.6/dist-packages/keras/backend/tensorflow_backend.py:74: The name tf.get_default_graph is deprecated. Please use tf.compat.v1.get_default_graph instead.\n",
            "\n",
            "W0803 16:03:43.050144 140542968772480 deprecation_wrapper.py:119] From /usr/local/lib/python3.6/dist-packages/keras/backend/tensorflow_backend.py:517: The name tf.placeholder is deprecated. Please use tf.compat.v1.placeholder instead.\n",
            "\n",
            "W0803 16:03:43.055778 140542968772480 deprecation_wrapper.py:119] From /usr/local/lib/python3.6/dist-packages/keras/backend/tensorflow_backend.py:4138: The name tf.random_uniform is deprecated. Please use tf.random.uniform instead.\n",
            "\n",
            "W0803 16:03:43.136571 140542968772480 deprecation_wrapper.py:119] From /usr/local/lib/python3.6/dist-packages/keras/backend/tensorflow_backend.py:133: The name tf.placeholder_with_default is deprecated. Please use tf.compat.v1.placeholder_with_default instead.\n",
            "\n",
            "W0803 16:03:43.452457 140542968772480 deprecation_wrapper.py:119] From /usr/local/lib/python3.6/dist-packages/keras/optimizers.py:790: The name tf.train.Optimizer is deprecated. Please use tf.compat.v1.train.Optimizer instead.\n",
            "\n",
            "W0803 16:03:43.462877 140542968772480 deprecation_wrapper.py:119] From /usr/local/lib/python3.6/dist-packages/keras/backend/tensorflow_backend.py:3295: The name tf.log is deprecated. Please use tf.math.log instead.\n",
            "\n"
          ],
          "name": "stderr"
        },
        {
          "output_type": "stream",
          "text": [
            "_________________________________________________________________\n",
            "Layer (type)                 Output Shape              Param #   \n",
            "=================================================================\n",
            "input_1 (InputLayer)         (None, 3072)              0         \n",
            "_________________________________________________________________\n",
            "hidden_layer1 (Dense)        (None, 512)               1573376   \n",
            "_________________________________________________________________\n",
            "batch_normalization_1 (Batch (None, 512)               2048      \n",
            "_________________________________________________________________\n",
            "hidden_layer2 (Dense)        (None, 256)               131328    \n",
            "_________________________________________________________________\n",
            "batch_normalization_2 (Batch (None, 256)               1024      \n",
            "_________________________________________________________________\n",
            "hidden_layer3 (Dense)        (None, 128)               32896     \n",
            "_________________________________________________________________\n",
            "batch_normalization_3 (Batch (None, 128)               512       \n",
            "_________________________________________________________________\n",
            "output (Dense)               (None, 10)                1290      \n",
            "=================================================================\n",
            "Total params: 1,742,474\n",
            "Trainable params: 1,740,682\n",
            "Non-trainable params: 1,792\n",
            "_________________________________________________________________\n"
          ],
          "name": "stdout"
        },
        {
          "output_type": "stream",
          "text": [
            "W0803 16:03:43.558485 140542968772480 deprecation.py:323] From /usr/local/lib/python3.6/dist-packages/tensorflow/python/ops/math_grad.py:1250: add_dispatch_support.<locals>.wrapper (from tensorflow.python.ops.array_ops) is deprecated and will be removed in a future version.\n",
            "Instructions for updating:\n",
            "Use tf.where in 2.0, which has the same broadcast rule as np.where\n"
          ],
          "name": "stderr"
        },
        {
          "output_type": "stream",
          "text": [
            "Train on 50000 samples, validate on 10000 samples\n",
            "Epoch 1/50\n",
            "50000/50000 [==============================] - 3s 59us/step - loss: 2.2176 - acc: 0.2731 - val_loss: 2.0636 - val_acc: 0.3200\n",
            "Epoch 2/50\n",
            "50000/50000 [==============================] - 1s 30us/step - loss: 1.7397 - acc: 0.3954 - val_loss: 1.7860 - val_acc: 0.3793\n",
            "Epoch 3/50\n",
            "50000/50000 [==============================] - 1s 30us/step - loss: 1.6180 - acc: 0.4377 - val_loss: 1.6760 - val_acc: 0.4141\n",
            "Epoch 4/50\n",
            "50000/50000 [==============================] - 1s 30us/step - loss: 1.5444 - acc: 0.4618 - val_loss: 1.6166 - val_acc: 0.4342\n",
            "Epoch 5/50\n",
            "50000/50000 [==============================] - 1s 30us/step - loss: 1.4900 - acc: 0.4804 - val_loss: 1.5789 - val_acc: 0.4433\n",
            "Epoch 6/50\n",
            "50000/50000 [==============================] - 1s 30us/step - loss: 1.4458 - acc: 0.4952 - val_loss: 1.5647 - val_acc: 0.4509\n",
            "Epoch 7/50\n",
            "50000/50000 [==============================] - 2s 30us/step - loss: 1.4082 - acc: 0.5091 - val_loss: 1.5508 - val_acc: 0.4558\n",
            "Epoch 8/50\n",
            "50000/50000 [==============================] - 1s 29us/step - loss: 1.3736 - acc: 0.5224 - val_loss: 1.5176 - val_acc: 0.4700\n",
            "Epoch 9/50\n",
            "50000/50000 [==============================] - 1s 29us/step - loss: 1.3404 - acc: 0.5350 - val_loss: 1.5079 - val_acc: 0.4696\n",
            "Epoch 10/50\n",
            "50000/50000 [==============================] - 1s 29us/step - loss: 1.3097 - acc: 0.5443 - val_loss: 1.4972 - val_acc: 0.4742\n",
            "Epoch 11/50\n",
            "50000/50000 [==============================] - 1s 30us/step - loss: 1.2819 - acc: 0.5532 - val_loss: 1.4961 - val_acc: 0.4745\n",
            "Epoch 12/50\n",
            "50000/50000 [==============================] - 1s 29us/step - loss: 1.2559 - acc: 0.5635 - val_loss: 1.4835 - val_acc: 0.4765\n",
            "Epoch 13/50\n",
            "50000/50000 [==============================] - 1s 30us/step - loss: 1.2298 - acc: 0.5738 - val_loss: 1.4907 - val_acc: 0.4806\n",
            "Epoch 14/50\n",
            "50000/50000 [==============================] - 1s 29us/step - loss: 1.2074 - acc: 0.5830 - val_loss: 1.4750 - val_acc: 0.4800\n",
            "Epoch 15/50\n",
            "50000/50000 [==============================] - 1s 29us/step - loss: 1.1831 - acc: 0.5922 - val_loss: 1.4723 - val_acc: 0.4821\n",
            "Epoch 16/50\n",
            "50000/50000 [==============================] - 1s 30us/step - loss: 1.1596 - acc: 0.6015 - val_loss: 1.4585 - val_acc: 0.4867\n",
            "Epoch 17/50\n",
            "50000/50000 [==============================] - 1s 30us/step - loss: 1.1342 - acc: 0.6103 - val_loss: 1.4666 - val_acc: 0.4884\n",
            "Epoch 18/50\n",
            "50000/50000 [==============================] - 1s 29us/step - loss: 1.1147 - acc: 0.6164 - val_loss: 1.4534 - val_acc: 0.4935\n",
            "Epoch 19/50\n",
            "50000/50000 [==============================] - 1s 30us/step - loss: 1.0917 - acc: 0.6273 - val_loss: 1.4556 - val_acc: 0.4897\n",
            "Epoch 20/50\n",
            "50000/50000 [==============================] - 1s 29us/step - loss: 1.0706 - acc: 0.6349 - val_loss: 1.4588 - val_acc: 0.4908\n",
            "Epoch 21/50\n",
            "50000/50000 [==============================] - 1s 29us/step - loss: 1.0484 - acc: 0.6420 - val_loss: 1.4534 - val_acc: 0.4965\n",
            "Epoch 22/50\n",
            "50000/50000 [==============================] - 1s 29us/step - loss: 1.0306 - acc: 0.6496 - val_loss: 1.4496 - val_acc: 0.4931\n",
            "Epoch 23/50\n",
            "50000/50000 [==============================] - 1s 30us/step - loss: 1.0102 - acc: 0.6572 - val_loss: 1.4700 - val_acc: 0.4895\n",
            "Epoch 24/50\n",
            "50000/50000 [==============================] - 1s 29us/step - loss: 0.9898 - acc: 0.6652 - val_loss: 1.4560 - val_acc: 0.4971\n",
            "Epoch 25/50\n",
            "50000/50000 [==============================] - 1s 30us/step - loss: 0.9675 - acc: 0.6753 - val_loss: 1.4595 - val_acc: 0.4948\n",
            "Epoch 26/50\n",
            "50000/50000 [==============================] - 1s 29us/step - loss: 0.9472 - acc: 0.6826 - val_loss: 1.4704 - val_acc: 0.4962\n",
            "Epoch 27/50\n",
            "50000/50000 [==============================] - 1s 29us/step - loss: 0.9271 - acc: 0.6891 - val_loss: 1.4623 - val_acc: 0.5027\n",
            "\n",
            "Epoch 00027: ReduceLROnPlateau reducing learning rate to 0.0005000000237487257.\n",
            "Epoch 28/50\n",
            "50000/50000 [==============================] - 1s 29us/step - loss: 0.9006 - acc: 0.7014 - val_loss: 1.4629 - val_acc: 0.5033\n",
            "Epoch 29/50\n",
            "50000/50000 [==============================] - 1s 29us/step - loss: 0.8801 - acc: 0.7107 - val_loss: 1.4632 - val_acc: 0.4999\n",
            "Epoch 30/50\n",
            "50000/50000 [==============================] - 1s 29us/step - loss: 0.8688 - acc: 0.7150 - val_loss: 1.4661 - val_acc: 0.5010\n",
            "Epoch 31/50\n",
            "50000/50000 [==============================] - 1s 30us/step - loss: 0.8583 - acc: 0.7187 - val_loss: 1.4626 - val_acc: 0.4996\n",
            "Epoch 32/50\n",
            "50000/50000 [==============================] - 1s 29us/step - loss: 0.8477 - acc: 0.7215 - val_loss: 1.4708 - val_acc: 0.5017\n",
            "\n",
            "Epoch 00032: ReduceLROnPlateau reducing learning rate to 0.0002500000118743628.\n",
            "Epoch 33/50\n",
            "50000/50000 [==============================] - 1s 29us/step - loss: 0.8320 - acc: 0.7299 - val_loss: 1.4682 - val_acc: 0.5066\n",
            "Epoch 34/50\n",
            "50000/50000 [==============================] - 1s 29us/step - loss: 0.8230 - acc: 0.7324 - val_loss: 1.4647 - val_acc: 0.5069\n",
            "Epoch 35/50\n",
            "50000/50000 [==============================] - 1s 29us/step - loss: 0.8171 - acc: 0.7345 - val_loss: 1.4739 - val_acc: 0.5053\n",
            "Epoch 36/50\n",
            "50000/50000 [==============================] - 1s 29us/step - loss: 0.8119 - acc: 0.7387 - val_loss: 1.4732 - val_acc: 0.5009\n",
            "Epoch 37/50\n",
            "50000/50000 [==============================] - 1s 29us/step - loss: 0.8060 - acc: 0.7395 - val_loss: 1.4771 - val_acc: 0.5038\n",
            "\n",
            "Epoch 00037: ReduceLROnPlateau reducing learning rate to 0.0001250000059371814.\n",
            "Epoch 38/50\n",
            "50000/50000 [==============================] - 1s 29us/step - loss: 0.7978 - acc: 0.7436 - val_loss: 1.4732 - val_acc: 0.5043\n",
            "Epoch 39/50\n",
            "50000/50000 [==============================] - 1s 29us/step - loss: 0.7932 - acc: 0.7450 - val_loss: 1.4727 - val_acc: 0.5050\n",
            "Epoch 40/50\n",
            "50000/50000 [==============================] - 1s 29us/step - loss: 0.7907 - acc: 0.7460 - val_loss: 1.4753 - val_acc: 0.5065\n",
            "Epoch 41/50\n",
            "50000/50000 [==============================] - 1s 29us/step - loss: 0.7874 - acc: 0.7479 - val_loss: 1.4783 - val_acc: 0.5033\n",
            "Epoch 42/50\n",
            "50000/50000 [==============================] - 1s 29us/step - loss: 0.7844 - acc: 0.7497 - val_loss: 1.4768 - val_acc: 0.5045\n",
            "\n",
            "Epoch 00042: ReduceLROnPlateau reducing learning rate to 6.25000029685907e-05.\n",
            "Epoch 43/50\n",
            "50000/50000 [==============================] - 1s 29us/step - loss: 0.7806 - acc: 0.7506 - val_loss: 1.4797 - val_acc: 0.5026\n",
            "Epoch 44/50\n",
            "50000/50000 [==============================] - 1s 30us/step - loss: 0.7784 - acc: 0.7516 - val_loss: 1.4794 - val_acc: 0.5079\n",
            "Epoch 45/50\n",
            "50000/50000 [==============================] - 1s 29us/step - loss: 0.7768 - acc: 0.7521 - val_loss: 1.4796 - val_acc: 0.5058\n",
            "Epoch 46/50\n",
            "50000/50000 [==============================] - 1s 29us/step - loss: 0.7747 - acc: 0.7534 - val_loss: 1.4788 - val_acc: 0.5065\n",
            "Epoch 47/50\n",
            "50000/50000 [==============================] - 1s 29us/step - loss: 0.7744 - acc: 0.7541 - val_loss: 1.4811 - val_acc: 0.5052\n",
            "\n",
            "Epoch 00047: ReduceLROnPlateau reducing learning rate to 3.125000148429535e-05.\n",
            "Epoch 48/50\n",
            "50000/50000 [==============================] - 1s 29us/step - loss: 0.7717 - acc: 0.7548 - val_loss: 1.4810 - val_acc: 0.5062\n",
            "Epoch 49/50\n",
            "50000/50000 [==============================] - 1s 29us/step - loss: 0.7699 - acc: 0.7549 - val_loss: 1.4807 - val_acc: 0.5060\n",
            "Epoch 50/50\n",
            "50000/50000 [==============================] - 1s 29us/step - loss: 0.7694 - acc: 0.7559 - val_loss: 1.4815 - val_acc: 0.5054\n"
          ],
          "name": "stdout"
        }
      ]
    },
    {
      "cell_type": "code",
      "metadata": {
        "id": "wORyNdRpOA45",
        "colab_type": "code",
        "colab": {
          "base_uri": "https://localhost:8080/",
          "height": 545
        },
        "outputId": "c310662c-941f-4f6f-d68c-441ba5c7a01d"
      },
      "source": [
        "import matplotlib.pyplot as plt\n",
        "%matplotlib inline\n",
        "\n",
        "plt.plot(range(len(train_loss)), train_loss, label=\"train loss\")\n",
        "plt.plot(range(len(valid_loss)), valid_loss, label=\"valid loss\")\n",
        "plt.legend()\n",
        "plt.title(\"Loss\")\n",
        "plt.show()\n",
        "\n",
        "plt.plot(range(len(train_acc)), train_acc, label=\"train accuracy\")\n",
        "plt.plot(range(len(valid_acc)), valid_acc, label=\"valid accuracy\")\n",
        "plt.legend()\n",
        "plt.title(\"Accuracy\")\n",
        "plt.show()"
      ],
      "execution_count": 9,
      "outputs": [
        {
          "output_type": "display_data",
          "data": {
            "image/png": "[encoded data removed]",
            "text/plain": [
              "<Figure size 432x288 with 1 Axes>"
            ]
          },
          "metadata": {
            "tags": []
          }
        },
        {
          "output_type": "display_data",
          "data": {
            "image/png": "[encoded data removed]",
            "text/plain": [
              "<Figure size 432x288 with 1 Axes>"
            ]
          },
          "metadata": {
            "tags": []
          }
        }
      ]
    },
    {
      "cell_type": "markdown",
      "metadata": {
        "id": "aWINws32OA47",
        "colab_type": "text"
      },
      "source": [
        "## Work\n",
        "1. 請改變 reduce_lr 的 patience 和 factor 並比較不同設定下，對訓練/驗證集的影響\n",
        "2. 請將 optimizer 換成 Adam、RMSprop 搭配 reduce_lr 並比較訓練結果"
      ]
    }
  ]
}
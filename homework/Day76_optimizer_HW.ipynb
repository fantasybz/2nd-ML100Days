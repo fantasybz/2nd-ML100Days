{
 "cells": [
  {
   "cell_type": "markdown",
   "metadata": {},
   "source": [
    "# 作業重點:\n",
    "\n",
    "(1)以, Adam, 為例, 調整 batch_size, epoch , 觀察accurancy, loss 的變化\n",
    "\n",
    "(2)以同一模型, 分別驗證 SGD, Adam, Rmsprop 的 accurancy"
   ]
  },
  {
   "cell_type": "markdown",
   "metadata": {},
   "source": [
    "# 作業目標:\n",
    "    \n",
    "    取得各種優化器的運算結果"
   ]
  },
  {
   "cell_type": "code",
   "execution_count": 1,
   "metadata": {},
   "outputs": [
    {
     "name": "stderr",
     "output_type": "stream",
     "text": [
      "Using TensorFlow backend.\n"
     ]
    }
   ],
   "source": [
    "from __future__ import print_function\n",
    "import keras\n",
    "from keras.datasets import cifar10\n",
    "from keras.preprocessing.image import ImageDataGenerator\n",
    "from keras.models import Sequential\n",
    "from keras.layers import Dense, Dropout, Activation, Flatten\n",
    "from keras.layers import Conv2D, MaxPooling2D\n",
    "import os\n",
    "os.environ[\"KMP_DUPLICATE_LIB_OK\"]=\"TRUE\"\n",
    "from keras import optimizers\n"
   ]
  },
  {
   "cell_type": "code",
   "execution_count": 2,
   "metadata": {},
   "outputs": [],
   "source": [
    "def build_model(opt):\n",
    "    model = Sequential()\n",
    "\n",
    "    model.add(Conv2D(32, (3, 3), padding='same',\n",
    "                 input_shape=x_train.shape[1:]))\n",
    "    model.add(Activation('relu'))\n",
    "    model.add(Conv2D(32, (3, 3)))\n",
    "    model.add(Activation('relu'))\n",
    "    model.add(MaxPooling2D(pool_size=(2, 2)))\n",
    "    model.add(Dropout(0.25))\n",
    "\n",
    "    model.add(Conv2D(64, (3, 3), padding='same'))\n",
    "    model.add(Activation('relu'))\n",
    "    model.add(Conv2D(64, (3, 3)))\n",
    "    model.add(Activation('relu'))\n",
    "    model.add(MaxPooling2D(pool_size=(2, 2)))\n",
    "    model.add(Dropout(0.25))\n",
    "\n",
    "    model.add(Flatten())\n",
    "    model.add(Dense(512))\n",
    "    model.add(Activation('relu'))\n",
    "    model.add(Dropout(0.5))\n",
    "\n",
    "    model.add(Dense( 10)) # 輸出結果是10個類別，所以維度是10   \n",
    "    model.add(Activation('softmax')) # 最後一層用softmax作為激活函數\n",
    "    model.compile(optimizer = opt, loss = 'binary_crossentropy', metrics = ['accuracy'])\n",
    "\n",
    "    return model"
   ]
  },
  {
   "cell_type": "code",
   "execution_count": 3,
   "metadata": {},
   "outputs": [
    {
     "name": "stdout",
     "output_type": "stream",
     "text": [
      "WARNING:tensorflow:From /anaconda3/envs/notebook/lib/python3.7/site-packages/tensorflow/python/framework/op_def_library.py:263: colocate_with (from tensorflow.python.framework.ops) is deprecated and will be removed in a future version.\n",
      "Instructions for updating:\n",
      "Colocations handled automatically by placer.\n"
     ]
    }
   ],
   "source": [
    "sgd = optimizers.SGD(lr = 0.01, momentum = 0.95, decay = 5e-5, nesterov = False)\n",
    "rmsprop = optimizers.RMSprop(lr = 0.1, rho = 0.95)\n",
    "adam = optimizers.adam(lr = 0.1, beta_1 = 0.95, beta_2 = 0.999)\n",
    "\n",
    "opts = [sgd, rmsprop, adam]\n",
    "_optimizers = ['SGD', 'RMSprop', 'Adam']"
   ]
  },
  {
   "cell_type": "code",
   "execution_count": 4,
   "metadata": {},
   "outputs": [],
   "source": [
    "batch_size = [128,512]\n",
    "epochs = [5,10]"
   ]
  },
  {
   "cell_type": "code",
   "execution_count": 5,
   "metadata": {},
   "outputs": [
    {
     "name": "stdout",
     "output_type": "stream",
     "text": [
      "x_train shape: (50000, 32, 32, 3)\n",
      "50000 train samples\n",
      "10000 test samples\n"
     ]
    }
   ],
   "source": [
    "from keras.utils import to_categorical\n",
    "(x_train, y_train), (x_test, y_test) = cifar10.load_data()\n",
    "print('x_train shape:', x_train.shape)\n",
    "print(x_train.shape[0], 'train samples')\n",
    "print(x_test.shape[0], 'test samples')\n",
    "\n",
    "num_classes = 10\n",
    "\n",
    "# Convert class vectors to binary class matrices.\n",
    "y_train = keras.utils.to_categorical(y_train, num_classes)\n",
    "y_test = keras.utils.to_categorical(y_test, num_classes)"
   ]
  },
  {
   "cell_type": "code",
   "execution_count": 6,
   "metadata": {},
   "outputs": [
    {
     "name": "stdout",
     "output_type": "stream",
     "text": [
      "WARNING:tensorflow:From /anaconda3/envs/notebook/lib/python3.7/site-packages/keras/backend/tensorflow_backend.py:3445: calling dropout (from tensorflow.python.ops.nn_ops) with keep_prob is deprecated and will be removed in a future version.\n",
      "Instructions for updating:\n",
      "Please use `rate` instead of `keep_prob`. Rate should be set to `rate = 1 - keep_prob`.\n",
      " Adam optimizer with batch size : 128, epochs : 5\n",
      "WARNING:tensorflow:From /anaconda3/envs/notebook/lib/python3.7/site-packages/tensorflow/python/ops/math_ops.py:3066: to_int32 (from tensorflow.python.ops.math_ops) is deprecated and will be removed in a future version.\n",
      "Instructions for updating:\n",
      "Use tf.cast instead.\n",
      "Train on 40000 samples, validate on 10000 samples\n",
      "Epoch 1/5\n",
      "40000/40000 [==============================] - 111s 3ms/step - loss: 2.8782 - acc: 0.8204 - val_loss: 2.9008 - val_acc: 0.8190\n",
      "Epoch 2/5\n",
      "40000/40000 [==============================] - 113s 3ms/step - loss: 2.8826 - acc: 0.8202 - val_loss: 2.9008 - val_acc: 0.8190\n",
      "Epoch 3/5\n",
      "40000/40000 [==============================] - 116s 3ms/step - loss: 2.8834 - acc: 0.8201 - val_loss: 2.9008 - val_acc: 0.8190\n",
      "Epoch 4/5\n",
      "40000/40000 [==============================] - 110s 3ms/step - loss: 2.8816 - acc: 0.8202 - val_loss: 2.9008 - val_acc: 0.8190\n",
      "Epoch 5/5\n",
      "40000/40000 [==============================] - 112s 3ms/step - loss: 2.8827 - acc: 0.8202 - val_loss: 2.9008 - val_acc: 0.8190\n",
      "10000/10000 [==============================] - 10s 957us/step\n",
      "-----validation loss : 2.8854426040649415,validation accuracy : 0.8199998023986816--------\n",
      " Adam optimizer with batch size : 128, epochs : 10\n",
      "Train on 40000 samples, validate on 10000 samples\n",
      "Epoch 1/10\n",
      "40000/40000 [==============================] - 116s 3ms/step - loss: 2.8785 - acc: 0.8203 - val_loss: 2.8919 - val_acc: 0.8196\n",
      "Epoch 2/10\n",
      "40000/40000 [==============================] - 115s 3ms/step - loss: 2.8846 - acc: 0.8201 - val_loss: 2.8919 - val_acc: 0.8196\n",
      "Epoch 3/10\n",
      "40000/40000 [==============================] - 164s 4ms/step - loss: 2.8866 - acc: 0.8199 - val_loss: 2.8919 - val_acc: 0.8196\n",
      "Epoch 4/10\n",
      "40000/40000 [==============================] - 245s 6ms/step - loss: 2.8835 - acc: 0.8201 - val_loss: 2.8919 - val_acc: 0.8196\n",
      "Epoch 5/10\n",
      "40000/40000 [==============================] - 353s 9ms/step - loss: 2.8846 - acc: 0.8201 - val_loss: 2.8919 - val_acc: 0.8196\n",
      "Epoch 6/10\n",
      "40000/40000 [==============================] - 433s 11ms/step - loss: 2.8855 - acc: 0.8200 - val_loss: 2.8919 - val_acc: 0.8196\n",
      "Epoch 7/10\n",
      "40000/40000 [==============================] - 410s 10ms/step - loss: 2.8877 - acc: 0.8199 - val_loss: 2.8919 - val_acc: 0.8196\n",
      "Epoch 8/10\n",
      "40000/40000 [==============================] - 530s 13ms/step - loss: 2.8900 - acc: 0.8197 - val_loss: 2.8919 - val_acc: 0.8196\n",
      "Epoch 9/10\n",
      "40000/40000 [==============================] - 635s 16ms/step - loss: 2.8872 - acc: 0.8199 - val_loss: 2.8919 - val_acc: 0.8196\n",
      "Epoch 10/10\n",
      "40000/40000 [==============================] - 875s 22ms/step - loss: 2.8779 - acc: 0.8205 - val_loss: 2.8919 - val_acc: 0.8196\n",
      "10000/10000 [==============================] - 95s 9ms/step\n",
      "-----validation loss : 2.8854425853729246,validation accuracy : 0.8199998036384583--------\n",
      " Adam optimizer with batch size : 512, epochs : 5\n",
      "Train on 40000 samples, validate on 10000 samples\n",
      "Epoch 1/5\n",
      "40000/40000 [==============================] - 814s 20ms/step - loss: 2.8814 - acc: 0.8199 - val_loss: 2.8803 - val_acc: 0.8203\n",
      "Epoch 2/5\n",
      "40000/40000 [==============================] - 659s 16ms/step - loss: 2.8867 - acc: 0.8199 - val_loss: 2.8803 - val_acc: 0.8203\n",
      "Epoch 3/5\n",
      "40000/40000 [==============================] - 668s 17ms/step - loss: 2.8866 - acc: 0.8199 - val_loss: 2.8803 - val_acc: 0.8203\n",
      "Epoch 4/5\n",
      "40000/40000 [==============================] - 509s 13ms/step - loss: 2.8866 - acc: 0.8199 - val_loss: 2.8803 - val_acc: 0.8203\n",
      "Epoch 5/5\n",
      "40000/40000 [==============================] - 415s 10ms/step - loss: 2.8867 - acc: 0.8199 - val_loss: 2.8803 - val_acc: 0.8203\n",
      "10000/10000 [==============================] - 40s 4ms/step\n",
      "-----validation loss : 2.8854425842285156,validation accuracy : 0.8199998037338256--------\n",
      " Adam optimizer with batch size : 512, epochs : 10\n",
      "Train on 40000 samples, validate on 10000 samples\n",
      "Epoch 1/10\n",
      "40000/40000 [==============================] - 489s 12ms/step - loss: 2.8782 - acc: 0.8201 - val_loss: 2.8919 - val_acc: 0.8196\n",
      "Epoch 2/10\n",
      "40000/40000 [==============================] - 351s 9ms/step - loss: 2.8838 - acc: 0.8201 - val_loss: 2.8919 - val_acc: 0.8196\n",
      "Epoch 3/10\n",
      "40000/40000 [==============================] - 316s 8ms/step - loss: 2.8838 - acc: 0.8201 - val_loss: 2.8919 - val_acc: 0.8196\n",
      "Epoch 4/10\n",
      "40000/40000 [==============================] - 270s 7ms/step - loss: 2.8838 - acc: 0.8201 - val_loss: 2.8919 - val_acc: 0.8196\n",
      "Epoch 5/10\n",
      "40000/40000 [==============================] - 295s 7ms/step - loss: 2.8838 - acc: 0.8201 - val_loss: 2.8919 - val_acc: 0.8196\n",
      "Epoch 6/10\n",
      "40000/40000 [==============================] - 290s 7ms/step - loss: 2.8838 - acc: 0.8201 - val_loss: 2.8919 - val_acc: 0.8196\n",
      "Epoch 7/10\n",
      "40000/40000 [==============================] - 285s 7ms/step - loss: 2.8838 - acc: 0.8201 - val_loss: 2.8919 - val_acc: 0.8196\n",
      "Epoch 8/10\n",
      "40000/40000 [==============================] - 223s 6ms/step - loss: 2.8837 - acc: 0.8201 - val_loss: 2.8919 - val_acc: 0.8196\n",
      "Epoch 9/10\n",
      "40000/40000 [==============================] - 218s 5ms/step - loss: 2.8838 - acc: 0.8201 - val_loss: 2.8919 - val_acc: 0.8196\n",
      "Epoch 10/10\n",
      "40000/40000 [==============================] - 195s 5ms/step - loss: 2.8838 - acc: 0.8201 - val_loss: 2.8919 - val_acc: 0.8196\n",
      "10000/10000 [==============================] - 16s 2ms/step\n",
      "-----validation loss : 2.8854425853729246,validation accuracy : 0.8199998036384583--------\n"
     ]
    }
   ],
   "source": [
    "for b in batch_size:\n",
    "    for e in epochs:\n",
    "        model = build_model(adam)\n",
    "        print(f' Adam optimizer with batch size : {b}, epochs : {e}')\n",
    "        history = model.fit(x_train, y_train, batch_size = b, epochs = e, validation_split = 0.2, verbose = 1, shuffle = True)\n",
    "        loss, acc = model.evaluate(x_test,y_test, batch_size = 128, verbose = 1)\n",
    "        print(f'-----validation loss : {loss},validation accuracy : {acc}--------')"
   ]
  },
  {
   "cell_type": "code",
   "execution_count": 12,
   "metadata": {},
   "outputs": [
    {
     "name": "stdout",
     "output_type": "stream",
     "text": [
      " Current Optimizer : SGD\n"
     ]
    },
    {
     "data": {
      "image/png": "[encoded data removed]",
      "text/plain": [
       "<Figure size 1440x1440 with 2 Axes>"
      ]
     },
     "metadata": {
      "needs_background": "light"
     },
     "output_type": "display_data"
    },
    {
     "name": "stdout",
     "output_type": "stream",
     "text": [
      " Current Optimizer : RMSprop\n"
     ]
    },
    {
     "data": {
      "image/png": "[encoded data removed]",
      "text/plain": [
       "<Figure size 432x288 with 2 Axes>"
      ]
     },
     "metadata": {
      "needs_background": "light"
     },
     "output_type": "display_data"
    },
    {
     "name": "stdout",
     "output_type": "stream",
     "text": [
      " Current Optimizer : Adam\n"
     ]
    },
    {
     "data": {
      "image/png": "[encoded data removed]",
      "text/plain": [
       "<Figure size 432x288 with 2 Axes>"
      ]
     },
     "metadata": {
      "needs_background": "light"
     },
     "output_type": "display_data"
    }
   ],
   "source": [
    "import matplotlib.pyplot as plt\n",
    "%matplotlib inline\n",
    "\n",
    "plt.figure(figsize = (20,20))\n",
    "\n",
    "\n",
    "plot_num = 1\n",
    "for opt in opts:\n",
    "    model = build_model(opt)\n",
    "    print(f' Current Optimizer : {_optimizers[plot_num-1]}')\n",
    "    history = model.fit(x_train, y_train, batch_size = 128, epochs = 5, validation_split = 0.2, verbose = 0, shuffle = True)\n",
    "    plt.subplot(3,2,plot_num*2 -1)\n",
    "    plt.plot(history.history['acc'])\n",
    "    plt.plot(history.history['val_acc'])\n",
    "    plt.title('accuracy')\n",
    "    plt.xlabel('epochs')\n",
    "    plt.ylabel('accuracy')\n",
    "    plt.legend(['train','test'], loc = 'upper left')\n",
    "    \n",
    "    plt.subplot(3,2,plot_num*2)\n",
    "    plt.plot(history.history['loss'])\n",
    "    plt.plot(history.history['val_loss'])\n",
    "    plt.title('loss')\n",
    "    plt.xlabel('epochs')\n",
    "    plt.ylabel('loss')\n",
    "    plt.legend(['train','test'], loc = 'upper left')\n",
    "    \n",
    "    plt.show()\n",
    "    plot_num += 1"
   ]
  },
  {
   "cell_type": "code",
   "execution_count": null,
   "metadata": {},
   "outputs": [],
   "source": []
  }
 ],
 "metadata": {
  "kernelspec": {
   "display_name": "Python 3",
   "language": "python",
   "name": "python3"
  },
  "language_info": {
   "codemirror_mode": {
    "name": "ipython",
    "version": 3
   },
   "file_extension": ".py",
   "mimetype": "text/x-python",
   "name": "python",
   "nbconvert_exporter": "python",
   "pygments_lexer": "ipython3",
   "version": "3.7.3"
  }
 },
 "nbformat": 4,
 "nbformat_minor": 2
}

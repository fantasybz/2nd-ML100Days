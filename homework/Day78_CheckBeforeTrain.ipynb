{
 "cells": [
  {
   "cell_type": "markdown",
   "metadata": {},
   "source": [
    "## 範例重點\n",
    "### 學習在模型開始前檢查各個環節\n",
    "1. 是否有 GPU 資源\n",
    "2. 將前處理轉為函式，統一處理訓練、驗證與測試集\n",
    "3. 將超參數變數化，易於重複使用函式、模型等"
   ]
  },
  {
   "cell_type": "code",
   "execution_count": 1,
   "metadata": {},
   "outputs": [
    {
     "name": "stdout",
     "output_type": "stream",
     "text": [
      "/bin/sh: nvidia-smi: command not found\r\n"
     ]
    }
   ],
   "source": [
    "## 確認硬體資源 (如果你是在 Linux, 若是在 Windows, 請參考 https://blog.csdn.net/idwtwt/article/details/78017565)\n",
    "!nvidia-smi"
   ]
  },
  {
   "cell_type": "code",
   "execution_count": 6,
   "metadata": {},
   "outputs": [],
   "source": [
    "import os\n",
    "import keras\n",
    "os.environ[\"KMP_DUPLICATE_LIB_OK\"]=\"TRUE\"\n",
    "\n",
    "# 本範例不需使用 GPU, 將 GPU 設定為 \"無\"\n",
    "os.environ[\"CUDA_VISIBLE_DEVICES\"] = \"\""
   ]
  },
  {
   "cell_type": "code",
   "execution_count": 7,
   "metadata": {},
   "outputs": [],
   "source": [
    "# 從 Keras 的內建功能中，取得 train 與 test 資料集\n",
    "train, test = keras.datasets.cifar10.load_data()"
   ]
  },
  {
   "cell_type": "code",
   "execution_count": 8,
   "metadata": {},
   "outputs": [],
   "source": [
    "## 資料前處理\n",
    "def preproc_x(x, flatten=True):\n",
    "    x = x / 255.\n",
    "    if flatten:\n",
    "        x = x.reshape((len(x), -1))\n",
    "    return x\n",
    "\n",
    "def preproc_y(y, num_classes=10):\n",
    "    if y.shape[-1] == 1:\n",
    "        y = keras.utils.to_categorical(y, num_classes)\n",
    "    return y    "
   ]
  },
  {
   "cell_type": "code",
   "execution_count": 9,
   "metadata": {},
   "outputs": [],
   "source": [
    "x_train, y_train = train\n",
    "x_test, y_test = test\n",
    "\n",
    "# 資料前處理 - X 標準化\n",
    "x_train = preproc_x(x_train)\n",
    "x_test = preproc_x(x_test)\n",
    "\n",
    "# 資料前處理 -Y 轉成 onehot\n",
    "y_train = preproc_y(y_train)\n",
    "y_test = preproc_y(y_test)"
   ]
  },
  {
   "cell_type": "code",
   "execution_count": 10,
   "metadata": {},
   "outputs": [],
   "source": [
    "def build_mlp(input_shape, output_units=10, num_neurons=[512, 256, 128]):\n",
    "    input_layer = keras.layers.Input(input_shape)\n",
    "    \n",
    "    for i, n_units in enumerate(num_neurons):\n",
    "        if i == 0:\n",
    "            x = keras.layers.Dense(units=n_units, activation=\"relu\", name=\"hidden_layer\"+str(i+1))(input_layer)\n",
    "        else:\n",
    "            x = keras.layers.Dense(units=n_units, activation=\"relu\", name=\"hidden_layer\"+str(i+1))(x)\n",
    "    \n",
    "    out = keras.layers.Dense(units=output_units, activation=\"softmax\", name=\"output\")(x)\n",
    "    \n",
    "    model = keras.models.Model(inputs=[input_layer], outputs=[out])\n",
    "    return model"
   ]
  },
  {
   "cell_type": "code",
   "execution_count": 11,
   "metadata": {},
   "outputs": [
    {
     "name": "stdout",
     "output_type": "stream",
     "text": [
      "WARNING:tensorflow:From /anaconda3/envs/notebook/lib/python3.7/site-packages/tensorflow/python/framework/op_def_library.py:263: colocate_with (from tensorflow.python.framework.ops) is deprecated and will be removed in a future version.\n",
      "Instructions for updating:\n",
      "Colocations handled automatically by placer.\n",
      "_________________________________________________________________\n",
      "Layer (type)                 Output Shape              Param #   \n",
      "=================================================================\n",
      "input_1 (InputLayer)         (None, 3072)              0         \n",
      "_________________________________________________________________\n",
      "hidden_layer1 (Dense)        (None, 512)               1573376   \n",
      "_________________________________________________________________\n",
      "hidden_layer2 (Dense)        (None, 256)               131328    \n",
      "_________________________________________________________________\n",
      "hidden_layer3 (Dense)        (None, 128)               32896     \n",
      "_________________________________________________________________\n",
      "output (Dense)               (None, 10)                1290      \n",
      "=================================================================\n",
      "Total params: 1,738,890\n",
      "Trainable params: 1,738,890\n",
      "Non-trainable params: 0\n",
      "_________________________________________________________________\n"
     ]
    }
   ],
   "source": [
    "model = build_mlp(input_shape=x_train.shape[1:])\n",
    "model.summary()"
   ]
  },
  {
   "cell_type": "code",
   "execution_count": 12,
   "metadata": {},
   "outputs": [],
   "source": [
    "## 超參數設定\n",
    "LEARNING_RATE = 0.001\n",
    "EPOCHS = 100\n",
    "BATCH_SIZE = 256"
   ]
  },
  {
   "cell_type": "code",
   "execution_count": 13,
   "metadata": {},
   "outputs": [],
   "source": [
    "optimizer = keras.optimizers.Adam(lr=LEARNING_RATE)\n",
    "model.compile(loss=\"categorical_crossentropy\", metrics=[\"accuracy\"], optimizer=optimizer)"
   ]
  },
  {
   "cell_type": "code",
   "execution_count": 14,
   "metadata": {},
   "outputs": [
    {
     "name": "stdout",
     "output_type": "stream",
     "text": [
      "WARNING:tensorflow:From /anaconda3/envs/notebook/lib/python3.7/site-packages/tensorflow/python/ops/math_ops.py:3066: to_int32 (from tensorflow.python.ops.math_ops) is deprecated and will be removed in a future version.\n",
      "Instructions for updating:\n",
      "Use tf.cast instead.\n",
      "Train on 50000 samples, validate on 10000 samples\n",
      "Epoch 1/100\n",
      "50000/50000 [==============================] - 55s 1ms/step - loss: 1.9452 - acc: 0.2962 - val_loss: 1.7378 - val_acc: 0.3853\n",
      "Epoch 2/100\n",
      "50000/50000 [==============================] - 43s 860us/step - loss: 1.7076 - acc: 0.3907 - val_loss: 1.6624 - val_acc: 0.4036\n",
      "Epoch 3/100\n",
      "50000/50000 [==============================] - 39s 779us/step - loss: 1.6252 - acc: 0.4203 - val_loss: 1.5852 - val_acc: 0.4325\n",
      "Epoch 4/100\n",
      "50000/50000 [==============================] - 43s 857us/step - loss: 1.5596 - acc: 0.4443 - val_loss: 1.5514 - val_acc: 0.4458\n",
      "Epoch 5/100\n",
      "50000/50000 [==============================] - 41s 819us/step - loss: 1.5137 - acc: 0.4601 - val_loss: 1.5265 - val_acc: 0.4499\n",
      "Epoch 6/100\n",
      "50000/50000 [==============================] - 41s 829us/step - loss: 1.4673 - acc: 0.4762 - val_loss: 1.4670 - val_acc: 0.4803\n",
      "Epoch 7/100\n",
      "50000/50000 [==============================] - 42s 836us/step - loss: 1.4409 - acc: 0.4858 - val_loss: 1.4608 - val_acc: 0.4766\n",
      "Epoch 8/100\n",
      "50000/50000 [==============================] - 40s 793us/step - loss: 1.4061 - acc: 0.4998 - val_loss: 1.4619 - val_acc: 0.4781\n",
      "Epoch 9/100\n",
      "50000/50000 [==============================] - 37s 740us/step - loss: 1.3772 - acc: 0.5091 - val_loss: 1.5467 - val_acc: 0.4521\n",
      "Epoch 10/100\n",
      "50000/50000 [==============================] - 39s 779us/step - loss: 1.3556 - acc: 0.5196 - val_loss: 1.4329 - val_acc: 0.4870\n",
      "Epoch 11/100\n",
      "50000/50000 [==============================] - 40s 796us/step - loss: 1.3365 - acc: 0.5229 - val_loss: 1.4717 - val_acc: 0.4779\n",
      "Epoch 12/100\n",
      "50000/50000 [==============================] - 39s 790us/step - loss: 1.3072 - acc: 0.5325 - val_loss: 1.3849 - val_acc: 0.5050\n",
      "Epoch 13/100\n",
      "50000/50000 [==============================] - 41s 819us/step - loss: 1.2887 - acc: 0.5414 - val_loss: 1.3945 - val_acc: 0.5110\n",
      "Epoch 14/100\n",
      "50000/50000 [==============================] - 41s 822us/step - loss: 1.2612 - acc: 0.5515 - val_loss: 1.3761 - val_acc: 0.5153\n",
      "Epoch 15/100\n",
      "50000/50000 [==============================] - 38s 756us/step - loss: 1.2404 - acc: 0.5583 - val_loss: 1.4026 - val_acc: 0.5091\n",
      "Epoch 16/100\n",
      "50000/50000 [==============================] - 37s 750us/step - loss: 1.2204 - acc: 0.5676 - val_loss: 1.3978 - val_acc: 0.5019\n",
      "Epoch 17/100\n",
      "50000/50000 [==============================] - 38s 760us/step - loss: 1.1896 - acc: 0.5779 - val_loss: 1.3768 - val_acc: 0.5185\n",
      "Epoch 18/100\n",
      "50000/50000 [==============================] - 40s 802us/step - loss: 1.1765 - acc: 0.5810 - val_loss: 1.3945 - val_acc: 0.5027\n",
      "Epoch 19/100\n",
      "50000/50000 [==============================] - 47s 938us/step - loss: 1.1618 - acc: 0.5876 - val_loss: 1.3623 - val_acc: 0.5249\n",
      "Epoch 20/100\n",
      "50000/50000 [==============================] - 43s 859us/step - loss: 1.1375 - acc: 0.5950 - val_loss: 1.3973 - val_acc: 0.5158\n",
      "Epoch 21/100\n",
      "50000/50000 [==============================] - 48s 964us/step - loss: 1.1181 - acc: 0.6019 - val_loss: 1.4113 - val_acc: 0.5179\n",
      "Epoch 22/100\n",
      "50000/50000 [==============================] - 50s 1ms/step - loss: 1.1033 - acc: 0.6066 - val_loss: 1.3682 - val_acc: 0.5228\n",
      "Epoch 23/100\n",
      "50000/50000 [==============================] - 49s 974us/step - loss: 1.0749 - acc: 0.6177 - val_loss: 1.3860 - val_acc: 0.5204\n",
      "Epoch 24/100\n",
      "50000/50000 [==============================] - 45s 895us/step - loss: 1.0550 - acc: 0.6228 - val_loss: 1.4045 - val_acc: 0.5173\n",
      "Epoch 25/100\n",
      "50000/50000 [==============================] - 49s 979us/step - loss: 1.0527 - acc: 0.6232 - val_loss: 1.3807 - val_acc: 0.5273\n",
      "Epoch 26/100\n",
      "50000/50000 [==============================] - 49s 977us/step - loss: 1.0251 - acc: 0.6341 - val_loss: 1.4065 - val_acc: 0.5188\n",
      "Epoch 27/100\n",
      "50000/50000 [==============================] - 49s 986us/step - loss: 1.0058 - acc: 0.6418 - val_loss: 1.4079 - val_acc: 0.5188\n",
      "Epoch 28/100\n",
      "50000/50000 [==============================] - 52s 1ms/step - loss: 0.9878 - acc: 0.6477 - val_loss: 1.4478 - val_acc: 0.5085\n",
      "Epoch 29/100\n",
      "50000/50000 [==============================] - 51s 1ms/step - loss: 0.9828 - acc: 0.6495 - val_loss: 1.4392 - val_acc: 0.5247\n",
      "Epoch 30/100\n",
      "50000/50000 [==============================] - 50s 998us/step - loss: 0.9521 - acc: 0.6592 - val_loss: 1.4864 - val_acc: 0.5033\n",
      "Epoch 31/100\n",
      "50000/50000 [==============================] - 47s 945us/step - loss: 0.9532 - acc: 0.6595 - val_loss: 1.4530 - val_acc: 0.5102\n",
      "Epoch 32/100\n",
      "50000/50000 [==============================] - 48s 970us/step - loss: 0.9163 - acc: 0.6744 - val_loss: 1.4659 - val_acc: 0.5206\n",
      "Epoch 33/100\n",
      "50000/50000 [==============================] - 50s 1ms/step - loss: 0.9034 - acc: 0.6785 - val_loss: 1.4885 - val_acc: 0.5186\n",
      "Epoch 34/100\n",
      "50000/50000 [==============================] - 50s 994us/step - loss: 0.8773 - acc: 0.6853 - val_loss: 1.4800 - val_acc: 0.5264\n",
      "Epoch 35/100\n",
      "50000/50000 [==============================] - 50s 1ms/step - loss: 0.8678 - acc: 0.6900 - val_loss: 1.4788 - val_acc: 0.5228\n",
      "Epoch 36/100\n",
      "50000/50000 [==============================] - 47s 947us/step - loss: 0.8575 - acc: 0.6923 - val_loss: 1.4792 - val_acc: 0.5267\n",
      "Epoch 37/100\n",
      "50000/50000 [==============================] - 50s 992us/step - loss: 0.8347 - acc: 0.7013 - val_loss: 1.5323 - val_acc: 0.5145\n",
      "Epoch 38/100\n",
      "50000/50000 [==============================] - 51s 1ms/step - loss: 0.8207 - acc: 0.7063 - val_loss: 1.5290 - val_acc: 0.5232\n",
      "Epoch 39/100\n",
      "50000/50000 [==============================] - 49s 986us/step - loss: 0.8048 - acc: 0.7134 - val_loss: 1.5306 - val_acc: 0.5268\n",
      "Epoch 40/100\n",
      "50000/50000 [==============================] - 51s 1ms/step - loss: 0.7847 - acc: 0.7200 - val_loss: 1.6041 - val_acc: 0.5136\n",
      "Epoch 41/100\n",
      "50000/50000 [==============================] - 51s 1ms/step - loss: 0.7686 - acc: 0.7258 - val_loss: 1.5645 - val_acc: 0.5229\n",
      "Epoch 42/100\n",
      "50000/50000 [==============================] - 50s 996us/step - loss: 0.7592 - acc: 0.7290 - val_loss: 1.5838 - val_acc: 0.5238\n",
      "Epoch 43/100\n",
      "50000/50000 [==============================] - 51s 1ms/step - loss: 0.7511 - acc: 0.7313 - val_loss: 1.6116 - val_acc: 0.5157\n",
      "Epoch 44/100\n",
      "50000/50000 [==============================] - 50s 1ms/step - loss: 0.7300 - acc: 0.7414 - val_loss: 1.6415 - val_acc: 0.5209\n",
      "Epoch 45/100\n",
      "50000/50000 [==============================] - 51s 1ms/step - loss: 0.7211 - acc: 0.7437 - val_loss: 1.6505 - val_acc: 0.5195\n",
      "Epoch 46/100\n",
      "50000/50000 [==============================] - 51s 1ms/step - loss: 0.7032 - acc: 0.7496 - val_loss: 1.6609 - val_acc: 0.5151\n",
      "Epoch 47/100\n",
      "50000/50000 [==============================] - 50s 1ms/step - loss: 0.6902 - acc: 0.7539 - val_loss: 1.7069 - val_acc: 0.5216\n",
      "Epoch 48/100\n",
      "50000/50000 [==============================] - 50s 1ms/step - loss: 0.6758 - acc: 0.7593 - val_loss: 1.6822 - val_acc: 0.5191\n",
      "Epoch 49/100\n",
      "50000/50000 [==============================] - 47s 931us/step - loss: 0.6547 - acc: 0.7668 - val_loss: 1.7310 - val_acc: 0.5214\n",
      "Epoch 50/100\n",
      "50000/50000 [==============================] - 42s 846us/step - loss: 0.6414 - acc: 0.7714 - val_loss: 1.8306 - val_acc: 0.5069\n",
      "Epoch 51/100\n",
      "50000/50000 [==============================] - 42s 848us/step - loss: 0.6328 - acc: 0.7719 - val_loss: 1.7965 - val_acc: 0.5177\n",
      "Epoch 52/100\n",
      "50000/50000 [==============================] - 42s 847us/step - loss: 0.6050 - acc: 0.7850 - val_loss: 1.8220 - val_acc: 0.5187\n",
      "Epoch 53/100\n",
      "50000/50000 [==============================] - 43s 857us/step - loss: 0.6113 - acc: 0.7810 - val_loss: 1.8432 - val_acc: 0.5111\n",
      "Epoch 54/100\n",
      "50000/50000 [==============================] - 39s 788us/step - loss: 0.5948 - acc: 0.7872 - val_loss: 1.8508 - val_acc: 0.5141\n",
      "Epoch 55/100\n",
      "50000/50000 [==============================] - 41s 817us/step - loss: 0.5908 - acc: 0.7890 - val_loss: 1.8867 - val_acc: 0.5178\n",
      "Epoch 56/100\n",
      "50000/50000 [==============================] - 42s 837us/step - loss: 0.5697 - acc: 0.7980 - val_loss: 1.9687 - val_acc: 0.5140\n",
      "Epoch 57/100\n"
     ]
    },
    {
     "name": "stdout",
     "output_type": "stream",
     "text": [
      "50000/50000 [==============================] - 42s 835us/step - loss: 0.5699 - acc: 0.7957 - val_loss: 1.9328 - val_acc: 0.5028\n",
      "Epoch 58/100\n",
      "50000/50000 [==============================] - 42s 834us/step - loss: 0.5564 - acc: 0.8025 - val_loss: 1.9350 - val_acc: 0.5125\n",
      "Epoch 59/100\n",
      "50000/50000 [==============================] - 42s 848us/step - loss: 0.5416 - acc: 0.8057 - val_loss: 2.0695 - val_acc: 0.5074\n",
      "Epoch 60/100\n",
      "50000/50000 [==============================] - 42s 838us/step - loss: 0.5510 - acc: 0.8022 - val_loss: 2.0386 - val_acc: 0.5001\n",
      "Epoch 61/100\n",
      "50000/50000 [==============================] - 42s 837us/step - loss: 0.5284 - acc: 0.8113 - val_loss: 2.0366 - val_acc: 0.5106\n",
      "Epoch 62/100\n",
      "50000/50000 [==============================] - 41s 817us/step - loss: 0.5057 - acc: 0.8192 - val_loss: 2.1211 - val_acc: 0.5100\n",
      "Epoch 63/100\n",
      "50000/50000 [==============================] - 42s 835us/step - loss: 0.5108 - acc: 0.8171 - val_loss: 2.1368 - val_acc: 0.5041\n",
      "Epoch 64/100\n",
      "50000/50000 [==============================] - 44s 880us/step - loss: 0.5037 - acc: 0.8188 - val_loss: 2.1456 - val_acc: 0.5080\n",
      "Epoch 65/100\n",
      "50000/50000 [==============================] - 44s 873us/step - loss: 0.4865 - acc: 0.8265 - val_loss: 2.2214 - val_acc: 0.5027\n",
      "Epoch 66/100\n",
      "50000/50000 [==============================] - 44s 881us/step - loss: 0.4722 - acc: 0.8314 - val_loss: 2.2050 - val_acc: 0.5021\n",
      "Epoch 67/100\n",
      "50000/50000 [==============================] - 39s 772us/step - loss: 0.4789 - acc: 0.8278 - val_loss: 2.2019 - val_acc: 0.5118\n",
      "Epoch 68/100\n",
      "50000/50000 [==============================] - 39s 775us/step - loss: 0.4693 - acc: 0.8322 - val_loss: 2.2646 - val_acc: 0.5073\n",
      "Epoch 69/100\n",
      "50000/50000 [==============================] - 36s 716us/step - loss: 0.4670 - acc: 0.8327 - val_loss: 2.3879 - val_acc: 0.4923\n",
      "Epoch 70/100\n",
      "50000/50000 [==============================] - 37s 747us/step - loss: 0.4705 - acc: 0.8319 - val_loss: 2.3118 - val_acc: 0.5092\n",
      "Epoch 71/100\n",
      "50000/50000 [==============================] - 38s 761us/step - loss: 0.4309 - acc: 0.8473 - val_loss: 2.3633 - val_acc: 0.5050\n",
      "Epoch 72/100\n",
      "50000/50000 [==============================] - 39s 789us/step - loss: 0.4405 - acc: 0.8423 - val_loss: 2.3452 - val_acc: 0.5064\n",
      "Epoch 73/100\n",
      "50000/50000 [==============================] - 41s 823us/step - loss: 0.4312 - acc: 0.8456 - val_loss: 2.3907 - val_acc: 0.5045\n",
      "Epoch 74/100\n",
      "50000/50000 [==============================] - 41s 815us/step - loss: 0.4047 - acc: 0.8547 - val_loss: 2.4587 - val_acc: 0.5032\n",
      "Epoch 75/100\n",
      "50000/50000 [==============================] - 38s 754us/step - loss: 0.4132 - acc: 0.8544 - val_loss: 2.4628 - val_acc: 0.5067\n",
      "Epoch 76/100\n",
      "50000/50000 [==============================] - 40s 797us/step - loss: 0.4175 - acc: 0.8513 - val_loss: 2.4835 - val_acc: 0.5030\n",
      "Epoch 77/100\n",
      "50000/50000 [==============================] - 41s 818us/step - loss: 0.4204 - acc: 0.8496 - val_loss: 2.4981 - val_acc: 0.4971\n",
      "Epoch 78/100\n",
      "50000/50000 [==============================] - 39s 787us/step - loss: 0.4062 - acc: 0.8550 - val_loss: 2.5189 - val_acc: 0.4952\n",
      "Epoch 79/100\n",
      "50000/50000 [==============================] - 39s 773us/step - loss: 0.3960 - acc: 0.8580 - val_loss: 2.5258 - val_acc: 0.5047\n",
      "Epoch 80/100\n",
      "50000/50000 [==============================] - 39s 781us/step - loss: 0.3834 - acc: 0.8630 - val_loss: 2.5152 - val_acc: 0.5064\n",
      "Epoch 81/100\n",
      "50000/50000 [==============================] - 42s 845us/step - loss: 0.3868 - acc: 0.8620 - val_loss: 2.5439 - val_acc: 0.4958\n",
      "Epoch 82/100\n",
      "50000/50000 [==============================] - 40s 800us/step - loss: 0.3820 - acc: 0.8607 - val_loss: 2.5971 - val_acc: 0.4996\n",
      "Epoch 83/100\n",
      "50000/50000 [==============================] - 37s 734us/step - loss: 0.3620 - acc: 0.8703 - val_loss: 2.7290 - val_acc: 0.4919\n",
      "Epoch 84/100\n",
      "50000/50000 [==============================] - 40s 802us/step - loss: 0.3471 - acc: 0.8771 - val_loss: 2.7108 - val_acc: 0.4911\n",
      "Epoch 85/100\n",
      "50000/50000 [==============================] - 39s 773us/step - loss: 0.3638 - acc: 0.8684 - val_loss: 2.7357 - val_acc: 0.5012\n",
      "Epoch 86/100\n",
      "50000/50000 [==============================] - 41s 811us/step - loss: 0.3571 - acc: 0.8716 - val_loss: 2.8342 - val_acc: 0.4975\n",
      "Epoch 87/100\n",
      "50000/50000 [==============================] - 40s 792us/step - loss: 0.3606 - acc: 0.8697 - val_loss: 2.7529 - val_acc: 0.5079\n",
      "Epoch 88/100\n",
      "50000/50000 [==============================] - 39s 785us/step - loss: 0.3471 - acc: 0.8748 - val_loss: 2.7357 - val_acc: 0.5075\n",
      "Epoch 89/100\n",
      "50000/50000 [==============================] - 42s 849us/step - loss: 0.3417 - acc: 0.8758 - val_loss: 2.8023 - val_acc: 0.5020\n",
      "Epoch 90/100\n",
      "50000/50000 [==============================] - 41s 819us/step - loss: 0.3259 - acc: 0.8833 - val_loss: 2.8145 - val_acc: 0.5032\n",
      "Epoch 91/100\n",
      "50000/50000 [==============================] - 40s 791us/step - loss: 0.3307 - acc: 0.8811 - val_loss: 2.8735 - val_acc: 0.4998\n",
      "Epoch 92/100\n",
      "50000/50000 [==============================] - 39s 772us/step - loss: 0.3297 - acc: 0.8816 - val_loss: 2.8340 - val_acc: 0.4922\n",
      "Epoch 93/100\n",
      "50000/50000 [==============================] - 40s 796us/step - loss: 0.3091 - acc: 0.8885 - val_loss: 2.9025 - val_acc: 0.5012\n",
      "Epoch 94/100\n",
      "50000/50000 [==============================] - 41s 822us/step - loss: 0.3244 - acc: 0.8841 - val_loss: 2.9293 - val_acc: 0.4988\n",
      "Epoch 95/100\n",
      "50000/50000 [==============================] - 39s 781us/step - loss: 0.3358 - acc: 0.8799 - val_loss: 2.9572 - val_acc: 0.4996\n",
      "Epoch 96/100\n",
      "50000/50000 [==============================] - 38s 762us/step - loss: 0.3065 - acc: 0.8899 - val_loss: 2.9340 - val_acc: 0.5050\n",
      "Epoch 97/100\n",
      "50000/50000 [==============================] - 36s 724us/step - loss: 0.3037 - acc: 0.8908 - val_loss: 3.0343 - val_acc: 0.4937\n",
      "Epoch 98/100\n",
      "50000/50000 [==============================] - 40s 801us/step - loss: 0.3211 - acc: 0.8842 - val_loss: 2.9445 - val_acc: 0.5039\n",
      "Epoch 99/100\n",
      "50000/50000 [==============================] - 39s 777us/step - loss: 0.2786 - acc: 0.9011 - val_loss: 3.0158 - val_acc: 0.5064\n",
      "Epoch 100/100\n",
      "50000/50000 [==============================] - 39s 778us/step - loss: 0.2854 - acc: 0.8972 - val_loss: 3.1111 - val_acc: 0.4957\n"
     ]
    },
    {
     "data": {
      "text/plain": [
       "<keras.callbacks.History at 0xb35781b38>"
      ]
     },
     "execution_count": 14,
     "metadata": {},
     "output_type": "execute_result"
    }
   ],
   "source": [
    "model.fit(x_train, y_train, \n",
    "          epochs=EPOCHS, \n",
    "          batch_size=BATCH_SIZE, \n",
    "          validation_data=(x_test, y_test), \n",
    "          shuffle=True)"
   ]
  },
  {
   "cell_type": "code",
   "execution_count": 16,
   "metadata": {},
   "outputs": [
    {
     "data": {
      "image/png": "[encoded data removed]",
      "text/plain": [
       "<Figure size 432x288 with 1 Axes>"
      ]
     },
     "metadata": {
      "needs_background": "light"
     },
     "output_type": "display_data"
    },
    {
     "data": {
      "image/png": "[encoded data removed]",
      "text/plain": [
       "<Figure size 432x288 with 1 Axes>"
      ]
     },
     "metadata": {
      "needs_background": "light"
     },
     "output_type": "display_data"
    }
   ],
   "source": [
    "# 訓練模型並檢視驗證集的結果\n",
    "import matplotlib.pyplot as plt\n",
    "\n",
    "train_loss = model.history.history[\"loss\"]\n",
    "valid_loss = model.history.history[\"val_loss\"]\n",
    "\n",
    "train_acc = model.history.history[\"acc\"]\n",
    "valid_acc = model.history.history[\"val_acc\"]\n",
    "\n",
    "plt.plot(range(len(train_loss)), train_loss, label=\"train loss\")\n",
    "plt.plot(range(len(valid_loss)), valid_loss, label=\"valid loss\")\n",
    "plt.legend()\n",
    "plt.title(\"Loss\")\n",
    "plt.show()\n",
    "\n",
    "plt.plot(range(len(train_acc)), train_acc, label=\"train accuracy\")\n",
    "plt.plot(range(len(valid_acc)), valid_acc, label=\"valid accuracy\")\n",
    "plt.legend()\n",
    "plt.title(\"Accuracy\")\n",
    "plt.show()"
   ]
  },
  {
   "cell_type": "markdown",
   "metadata": {},
   "source": [
    "## Work\n",
    "1. 請嘗試將 preproc_x 替換成以每筆資料的 min/max 進行標準化至 -1 ~ 1 間，再進行訓練\n",
    "2. 請嘗試將 mlp 疊更深 (e.g 5~10 層)，進行訓練後觀察 learning curve 的走勢\n",
    "3. (optional) 請改用 GPU 進行訓練 (如果你有 GPU 的話)，比較使用 CPU 與 GPU 的訓練速度"
   ]
  }
 ],
 "metadata": {
  "kernelspec": {
   "display_name": "Python 3",
   "language": "python",
   "name": "python3"
  },
  "language_info": {
   "codemirror_mode": {
    "name": "ipython",
    "version": 3
   },
   "file_extension": ".py",
   "mimetype": "text/x-python",
   "name": "python",
   "nbconvert_exporter": "python",
   "pygments_lexer": "ipython3",
   "version": "3.7.3"
  }
 },
 "nbformat": 4,
 "nbformat_minor": 2
}

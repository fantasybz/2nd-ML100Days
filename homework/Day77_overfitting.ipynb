{
 "cells": [
  {
   "cell_type": "markdown",
   "metadata": {},
   "source": [
    "## 範例重點\n",
    "* 學會從 Keras 內建函式取得資料\n",
    "* 能夠建立簡易的深度學習模型\n",
    "* 觀察並了解 Overfit 現象"
   ]
  },
  {
   "cell_type": "code",
   "execution_count": 1,
   "metadata": {},
   "outputs": [
    {
     "name": "stderr",
     "output_type": "stream",
     "text": [
      "Using TensorFlow backend.\n"
     ]
    }
   ],
   "source": [
    "import os\n",
    "import keras\n",
    "\n",
    "os.environ[\"KMP_DUPLICATE_LIB_OK\"]=\"TRUE\"\n",
    "# 本範例不需使用 GPU, 將 GPU 設定為 \"無\"\n",
    "os.environ[\"CUDA_VISIBLE_DEVICES\"] = \"\""
   ]
  },
  {
   "cell_type": "code",
   "execution_count": 2,
   "metadata": {},
   "outputs": [],
   "source": [
    "# 從 Keras 的內建功能中，取得 train 與 test 資料集\n",
    "train, test = keras.datasets.cifar10.load_data()"
   ]
  },
  {
   "cell_type": "code",
   "execution_count": 3,
   "metadata": {},
   "outputs": [],
   "source": [
    "# 將 X 與 Y 獨立放進變數\n",
    "x_train, y_train = train\n",
    "x_test, y_test = test\n",
    "# 資料前處理 - 標準化\n",
    "x_train = x_train / 255.\n",
    "x_test = x_test / 255.\n",
    "\n",
    "# 將資料從圖形 (RGB) 轉為向量 (Single Vector)\n",
    "x_train = x_train.reshape((len(x_train), -1))\n",
    "x_test = x_test.reshape((len(x_test), -1))\n",
    "\n",
    "# 將目標轉為 one-hot encoding\n",
    "y_train = keras.utils.to_categorical(y_train, num_classes=10)\n",
    "y_test = keras.utils.to_categorical(y_test, num_classes=10)"
   ]
  },
  {
   "cell_type": "code",
   "execution_count": 4,
   "metadata": {},
   "outputs": [],
   "source": [
    "# 建立一個有三層隱藏層之神經網路\n",
    "def build_mlp():\n",
    "    input_layer = keras.layers.Input([x_train.shape[-1]])\n",
    "    x = keras.layers.Dense(units=512, activation=\"relu\")(input_layer)\n",
    "    x = keras.layers.Dense(units=256, activation=\"relu\")(x)\n",
    "    x = keras.layers.Dense(units=128, activation=\"relu\")(x)\n",
    "    out = keras.layers.Dense(units=10, activation=\"softmax\")(x)\n",
    "    \n",
    "    model = keras.models.Model(inputs=[input_layer], outputs=[out])\n",
    "    return model"
   ]
  },
  {
   "cell_type": "code",
   "execution_count": 5,
   "metadata": {},
   "outputs": [
    {
     "name": "stdout",
     "output_type": "stream",
     "text": [
      "WARNING:tensorflow:From /anaconda3/envs/notebook/lib/python3.7/site-packages/tensorflow/python/framework/op_def_library.py:263: colocate_with (from tensorflow.python.framework.ops) is deprecated and will be removed in a future version.\n",
      "Instructions for updating:\n",
      "Colocations handled automatically by placer.\n",
      "_________________________________________________________________\n",
      "Layer (type)                 Output Shape              Param #   \n",
      "=================================================================\n",
      "input_1 (InputLayer)         (None, 3072)              0         \n",
      "_________________________________________________________________\n",
      "dense_1 (Dense)              (None, 512)               1573376   \n",
      "_________________________________________________________________\n",
      "dense_2 (Dense)              (None, 256)               131328    \n",
      "_________________________________________________________________\n",
      "dense_3 (Dense)              (None, 128)               32896     \n",
      "_________________________________________________________________\n",
      "dense_4 (Dense)              (None, 10)                1290      \n",
      "=================================================================\n",
      "Total params: 1,738,890\n",
      "Trainable params: 1,738,890\n",
      "Non-trainable params: 0\n",
      "_________________________________________________________________\n"
     ]
    }
   ],
   "source": [
    "model = build_mlp()\n",
    "# 用 Keras 內建方法檢視模型各層參數量\n",
    "model.summary()\n",
    "\n",
    "optimizer = keras.optimizers.Adam(lr=0.001)\n",
    "model.compile(loss=\"categorical_crossentropy\", metrics=[\"accuracy\"], optimizer=optimizer)"
   ]
  },
  {
   "cell_type": "code",
   "execution_count": 6,
   "metadata": {},
   "outputs": [
    {
     "name": "stdout",
     "output_type": "stream",
     "text": [
      "WARNING:tensorflow:From /anaconda3/envs/notebook/lib/python3.7/site-packages/tensorflow/python/ops/math_ops.py:3066: to_int32 (from tensorflow.python.ops.math_ops) is deprecated and will be removed in a future version.\n",
      "Instructions for updating:\n",
      "Use tf.cast instead.\n",
      "Train on 50000 samples, validate on 10000 samples\n",
      "Epoch 1/100\n",
      "50000/50000 [==============================] - 26s 514us/step - loss: 1.9188 - acc: 0.3098 - val_loss: 1.7772 - val_acc: 0.3516\n",
      "Epoch 2/100\n",
      "50000/50000 [==============================] - 21s 421us/step - loss: 1.7015 - acc: 0.3907 - val_loss: 1.6547 - val_acc: 0.4075\n",
      "Epoch 3/100\n",
      "50000/50000 [==============================] - 21s 425us/step - loss: 1.6113 - acc: 0.4247 - val_loss: 1.5705 - val_acc: 0.4417\n",
      "Epoch 4/100\n",
      "50000/50000 [==============================] - 18s 361us/step - loss: 1.5466 - acc: 0.4465 - val_loss: 1.5331 - val_acc: 0.4568\n",
      "Epoch 5/100\n",
      "50000/50000 [==============================] - 21s 421us/step - loss: 1.4954 - acc: 0.4646 - val_loss: 1.4611 - val_acc: 0.4798\n",
      "Epoch 6/100\n",
      "50000/50000 [==============================] - 21s 426us/step - loss: 1.4606 - acc: 0.4778 - val_loss: 1.4717 - val_acc: 0.4735\n",
      "Epoch 7/100\n",
      "50000/50000 [==============================] - 21s 425us/step - loss: 1.4270 - acc: 0.4904 - val_loss: 1.4415 - val_acc: 0.4872\n",
      "Epoch 8/100\n",
      "50000/50000 [==============================] - 21s 416us/step - loss: 1.4007 - acc: 0.4981 - val_loss: 1.4887 - val_acc: 0.4727\n",
      "Epoch 9/100\n",
      "50000/50000 [==============================] - 20s 404us/step - loss: 1.3670 - acc: 0.5144 - val_loss: 1.4468 - val_acc: 0.4835\n",
      "Epoch 10/100\n",
      "50000/50000 [==============================] - 22s 438us/step - loss: 1.3394 - acc: 0.5217 - val_loss: 1.4061 - val_acc: 0.5022\n",
      "Epoch 11/100\n",
      "50000/50000 [==============================] - 21s 423us/step - loss: 1.3070 - acc: 0.5371 - val_loss: 1.4035 - val_acc: 0.5024\n",
      "Epoch 12/100\n",
      "50000/50000 [==============================] - 22s 433us/step - loss: 1.2969 - acc: 0.5381 - val_loss: 1.4159 - val_acc: 0.5051\n",
      "Epoch 13/100\n",
      "50000/50000 [==============================] - 21s 428us/step - loss: 1.2822 - acc: 0.5468 - val_loss: 1.4020 - val_acc: 0.4989\n",
      "Epoch 14/100\n",
      "50000/50000 [==============================] - 24s 475us/step - loss: 1.2533 - acc: 0.5543 - val_loss: 1.4046 - val_acc: 0.5029\n",
      "Epoch 15/100\n",
      "50000/50000 [==============================] - 29s 588us/step - loss: 1.2280 - acc: 0.5634 - val_loss: 1.4038 - val_acc: 0.5055\n",
      "Epoch 16/100\n",
      "50000/50000 [==============================] - 31s 617us/step - loss: 1.2080 - acc: 0.5683 - val_loss: 1.4128 - val_acc: 0.5013\n",
      "Epoch 17/100\n",
      "50000/50000 [==============================] - 33s 660us/step - loss: 1.1789 - acc: 0.5797 - val_loss: 1.3957 - val_acc: 0.5057\n",
      "Epoch 18/100\n",
      "50000/50000 [==============================] - 35s 690us/step - loss: 1.1582 - acc: 0.5874 - val_loss: 1.3983 - val_acc: 0.5114\n",
      "Epoch 19/100\n",
      "50000/50000 [==============================] - 29s 574us/step - loss: 1.1426 - acc: 0.5921 - val_loss: 1.3825 - val_acc: 0.5106\n",
      "Epoch 20/100\n",
      "50000/50000 [==============================] - 32s 643us/step - loss: 1.1179 - acc: 0.6006 - val_loss: 1.3572 - val_acc: 0.5258\n",
      "Epoch 21/100\n",
      "50000/50000 [==============================] - 29s 590us/step - loss: 1.0928 - acc: 0.6100 - val_loss: 1.4245 - val_acc: 0.5150\n",
      "Epoch 22/100\n",
      "50000/50000 [==============================] - 31s 627us/step - loss: 1.0779 - acc: 0.6160 - val_loss: 1.3899 - val_acc: 0.5221\n",
      "Epoch 23/100\n",
      "50000/50000 [==============================] - 33s 654us/step - loss: 1.0513 - acc: 0.6246 - val_loss: 1.4143 - val_acc: 0.5159\n",
      "Epoch 24/100\n",
      "50000/50000 [==============================] - 32s 638us/step - loss: 1.0371 - acc: 0.6297 - val_loss: 1.3737 - val_acc: 0.5259\n",
      "Epoch 25/100\n",
      "50000/50000 [==============================] - 34s 679us/step - loss: 1.0154 - acc: 0.6385 - val_loss: 1.3785 - val_acc: 0.5267\n",
      "Epoch 26/100\n",
      "50000/50000 [==============================] - 34s 686us/step - loss: 0.9987 - acc: 0.6439 - val_loss: 1.4382 - val_acc: 0.5118\n",
      "Epoch 27/100\n",
      "50000/50000 [==============================] - 33s 656us/step - loss: 0.9819 - acc: 0.6496 - val_loss: 1.4340 - val_acc: 0.5126\n",
      "Epoch 28/100\n",
      "50000/50000 [==============================] - 35s 702us/step - loss: 0.9596 - acc: 0.6566 - val_loss: 1.4171 - val_acc: 0.5250\n",
      "Epoch 29/100\n",
      "50000/50000 [==============================] - 32s 643us/step - loss: 0.9458 - acc: 0.6625 - val_loss: 1.4597 - val_acc: 0.5100\n",
      "Epoch 30/100\n",
      "50000/50000 [==============================] - 33s 652us/step - loss: 0.9258 - acc: 0.6686 - val_loss: 1.4550 - val_acc: 0.5185\n",
      "Epoch 31/100\n",
      "50000/50000 [==============================] - 33s 652us/step - loss: 0.8990 - acc: 0.6795 - val_loss: 1.4704 - val_acc: 0.5201\n",
      "Epoch 32/100\n",
      "50000/50000 [==============================] - 32s 630us/step - loss: 0.8887 - acc: 0.6855 - val_loss: 1.4695 - val_acc: 0.5235\n",
      "Epoch 33/100\n",
      "50000/50000 [==============================] - 30s 596us/step - loss: 0.8567 - acc: 0.6937 - val_loss: 1.5239 - val_acc: 0.5143\n",
      "Epoch 34/100\n",
      "50000/50000 [==============================] - 33s 655us/step - loss: 0.8477 - acc: 0.6995 - val_loss: 1.5331 - val_acc: 0.5146\n",
      "Epoch 35/100\n",
      "50000/50000 [==============================] - 32s 639us/step - loss: 0.8319 - acc: 0.7031 - val_loss: 1.5355 - val_acc: 0.5129\n",
      "Epoch 36/100\n",
      "50000/50000 [==============================] - 31s 620us/step - loss: 0.8178 - acc: 0.7090 - val_loss: 1.6034 - val_acc: 0.5076\n",
      "Epoch 37/100\n",
      "50000/50000 [==============================] - 34s 689us/step - loss: 0.7974 - acc: 0.7154 - val_loss: 1.5614 - val_acc: 0.5234\n",
      "Epoch 38/100\n",
      "50000/50000 [==============================] - 34s 671us/step - loss: 0.7798 - acc: 0.7231 - val_loss: 1.5904 - val_acc: 0.5130\n",
      "Epoch 39/100\n",
      "50000/50000 [==============================] - 32s 637us/step - loss: 0.7664 - acc: 0.7281 - val_loss: 1.6130 - val_acc: 0.5125\n",
      "Epoch 40/100\n",
      "50000/50000 [==============================] - 33s 654us/step - loss: 0.7611 - acc: 0.7285 - val_loss: 1.6198 - val_acc: 0.5176\n",
      "Epoch 41/100\n",
      "50000/50000 [==============================] - 33s 652us/step - loss: 0.7344 - acc: 0.7403 - val_loss: 1.6135 - val_acc: 0.5218\n",
      "Epoch 42/100\n",
      "50000/50000 [==============================] - 32s 644us/step - loss: 0.7216 - acc: 0.7426 - val_loss: 1.6349 - val_acc: 0.5214\n",
      "Epoch 43/100\n",
      "50000/50000 [==============================] - 32s 637us/step - loss: 0.6970 - acc: 0.7511 - val_loss: 1.7582 - val_acc: 0.5015\n",
      "Epoch 44/100\n",
      "50000/50000 [==============================] - 33s 660us/step - loss: 0.7027 - acc: 0.7485 - val_loss: 1.7215 - val_acc: 0.5097\n",
      "Epoch 45/100\n",
      "50000/50000 [==============================] - 31s 629us/step - loss: 0.6778 - acc: 0.7595 - val_loss: 1.6966 - val_acc: 0.5201\n",
      "Epoch 46/100\n",
      "50000/50000 [==============================] - 31s 617us/step - loss: 0.6540 - acc: 0.7670 - val_loss: 1.7450 - val_acc: 0.5203\n",
      "Epoch 47/100\n",
      "50000/50000 [==============================] - 28s 551us/step - loss: 0.6502 - acc: 0.7692 - val_loss: 1.7729 - val_acc: 0.5105\n",
      "Epoch 48/100\n",
      "50000/50000 [==============================] - 30s 602us/step - loss: 0.6319 - acc: 0.7726 - val_loss: 1.8349 - val_acc: 0.5095\n",
      "Epoch 49/100\n",
      "50000/50000 [==============================] - 35s 710us/step - loss: 0.6267 - acc: 0.7754 - val_loss: 1.8226 - val_acc: 0.5106\n",
      "Epoch 50/100\n",
      "50000/50000 [==============================] - 32s 635us/step - loss: 0.6037 - acc: 0.7861 - val_loss: 1.8270 - val_acc: 0.5099\n",
      "Epoch 51/100\n",
      "50000/50000 [==============================] - 34s 681us/step - loss: 0.5862 - acc: 0.7913 - val_loss: 1.8691 - val_acc: 0.5086\n",
      "Epoch 52/100\n",
      "50000/50000 [==============================] - 34s 673us/step - loss: 0.5877 - acc: 0.7901 - val_loss: 1.8962 - val_acc: 0.5075\n",
      "Epoch 53/100\n",
      "50000/50000 [==============================] - 42s 836us/step - loss: 0.5689 - acc: 0.7963 - val_loss: 1.9193 - val_acc: 0.5107\n",
      "Epoch 54/100\n",
      "50000/50000 [==============================] - 42s 846us/step - loss: 0.5448 - acc: 0.8065 - val_loss: 1.9489 - val_acc: 0.5202\n",
      "Epoch 55/100\n",
      "50000/50000 [==============================] - 39s 789us/step - loss: 0.5488 - acc: 0.8041 - val_loss: 2.0699 - val_acc: 0.5001\n",
      "Epoch 56/100\n",
      "50000/50000 [==============================] - 43s 853us/step - loss: 0.5509 - acc: 0.8043 - val_loss: 1.9742 - val_acc: 0.5120\n"
     ]
    },
    {
     "name": "stdout",
     "output_type": "stream",
     "text": [
      "Epoch 57/100\n",
      "50000/50000 [==============================] - 41s 827us/step - loss: 0.5315 - acc: 0.8104 - val_loss: 2.1125 - val_acc: 0.5058\n",
      "Epoch 58/100\n",
      "50000/50000 [==============================] - 41s 818us/step - loss: 0.5161 - acc: 0.8145 - val_loss: 2.0380 - val_acc: 0.5082\n",
      "Epoch 59/100\n",
      "50000/50000 [==============================] - 42s 846us/step - loss: 0.5064 - acc: 0.8196 - val_loss: 2.1027 - val_acc: 0.5069\n",
      "Epoch 60/100\n",
      "50000/50000 [==============================] - 39s 779us/step - loss: 0.4956 - acc: 0.8218 - val_loss: 2.1445 - val_acc: 0.5074\n",
      "Epoch 61/100\n",
      "50000/50000 [==============================] - 37s 731us/step - loss: 0.4824 - acc: 0.8281 - val_loss: 2.0792 - val_acc: 0.5091\n",
      "Epoch 62/100\n",
      "50000/50000 [==============================] - 40s 796us/step - loss: 0.4897 - acc: 0.8257 - val_loss: 2.2234 - val_acc: 0.5027\n",
      "Epoch 63/100\n",
      "50000/50000 [==============================] - 40s 801us/step - loss: 0.4684 - acc: 0.8330 - val_loss: 2.1770 - val_acc: 0.5043\n",
      "Epoch 64/100\n",
      "50000/50000 [==============================] - 40s 805us/step - loss: 0.4701 - acc: 0.8312 - val_loss: 2.2402 - val_acc: 0.5089\n",
      "Epoch 65/100\n",
      "50000/50000 [==============================] - 40s 808us/step - loss: 0.4530 - acc: 0.8378 - val_loss: 2.2440 - val_acc: 0.5101\n",
      "Epoch 66/100\n",
      "50000/50000 [==============================] - 40s 803us/step - loss: 0.4315 - acc: 0.8465 - val_loss: 2.2306 - val_acc: 0.5058\n",
      "Epoch 67/100\n",
      "50000/50000 [==============================] - 38s 753us/step - loss: 0.4346 - acc: 0.8437 - val_loss: 2.2912 - val_acc: 0.5106\n",
      "Epoch 68/100\n",
      "50000/50000 [==============================] - 38s 752us/step - loss: 0.4362 - acc: 0.8422 - val_loss: 2.3490 - val_acc: 0.5087\n",
      "Epoch 69/100\n",
      "50000/50000 [==============================] - 38s 766us/step - loss: 0.4322 - acc: 0.8460 - val_loss: 2.4840 - val_acc: 0.4983\n",
      "Epoch 70/100\n",
      "50000/50000 [==============================] - 40s 808us/step - loss: 0.4224 - acc: 0.8477 - val_loss: 2.3792 - val_acc: 0.5017\n",
      "Epoch 71/100\n",
      "50000/50000 [==============================] - 51s 1ms/step - loss: 0.4067 - acc: 0.8534 - val_loss: 2.4131 - val_acc: 0.5094\n",
      "Epoch 72/100\n",
      "50000/50000 [==============================] - 50s 997us/step - loss: 0.3986 - acc: 0.8559 - val_loss: 2.3972 - val_acc: 0.5019\n",
      "Epoch 73/100\n",
      "50000/50000 [==============================] - 49s 977us/step - loss: 0.3779 - acc: 0.8655 - val_loss: 2.4404 - val_acc: 0.5014\n",
      "Epoch 74/100\n",
      "50000/50000 [==============================] - 52s 1ms/step - loss: 0.3815 - acc: 0.8649 - val_loss: 2.5767 - val_acc: 0.5022\n",
      "Epoch 75/100\n",
      "50000/50000 [==============================] - 47s 935us/step - loss: 0.3945 - acc: 0.8573 - val_loss: 2.5423 - val_acc: 0.5010\n",
      "Epoch 76/100\n",
      "50000/50000 [==============================] - 46s 925us/step - loss: 0.3819 - acc: 0.8643 - val_loss: 2.6303 - val_acc: 0.4974\n",
      "Epoch 77/100\n",
      "50000/50000 [==============================] - 49s 983us/step - loss: 0.3600 - acc: 0.8717 - val_loss: 2.5527 - val_acc: 0.5073\n",
      "Epoch 78/100\n",
      "50000/50000 [==============================] - 50s 990us/step - loss: 0.3654 - acc: 0.8686 - val_loss: 2.5698 - val_acc: 0.5029\n",
      "Epoch 79/100\n",
      "50000/50000 [==============================] - 51s 1ms/step - loss: 0.3653 - acc: 0.8683 - val_loss: 2.7149 - val_acc: 0.5022\n",
      "Epoch 80/100\n",
      "50000/50000 [==============================] - 51s 1ms/step - loss: 0.3604 - acc: 0.8698 - val_loss: 2.7304 - val_acc: 0.5036\n",
      "Epoch 81/100\n",
      "50000/50000 [==============================] - 51s 1ms/step - loss: 0.3433 - acc: 0.8771 - val_loss: 2.7166 - val_acc: 0.5065\n",
      "Epoch 82/100\n",
      "50000/50000 [==============================] - 49s 975us/step - loss: 0.3383 - acc: 0.8775 - val_loss: 2.8002 - val_acc: 0.4973\n",
      "Epoch 83/100\n",
      "50000/50000 [==============================] - 48s 967us/step - loss: 0.3560 - acc: 0.8707 - val_loss: 2.7514 - val_acc: 0.5017\n",
      "Epoch 84/100\n",
      "50000/50000 [==============================] - 50s 1ms/step - loss: 0.3210 - acc: 0.8849 - val_loss: 2.8173 - val_acc: 0.4983\n",
      "Epoch 85/100\n",
      "50000/50000 [==============================] - 51s 1ms/step - loss: 0.3340 - acc: 0.8794 - val_loss: 2.8590 - val_acc: 0.5022\n",
      "Epoch 86/100\n",
      "50000/50000 [==============================] - 49s 977us/step - loss: 0.3131 - acc: 0.8854 - val_loss: 2.8744 - val_acc: 0.4968\n",
      "Epoch 87/100\n",
      "50000/50000 [==============================] - 50s 1ms/step - loss: 0.3466 - acc: 0.8737 - val_loss: 2.7839 - val_acc: 0.5050\n",
      "Epoch 88/100\n",
      "50000/50000 [==============================] - 48s 968us/step - loss: 0.2925 - acc: 0.8948 - val_loss: 3.0170 - val_acc: 0.4982\n",
      "Epoch 89/100\n",
      "50000/50000 [==============================] - 49s 985us/step - loss: 0.3084 - acc: 0.8887 - val_loss: 3.0280 - val_acc: 0.4944\n",
      "Epoch 90/100\n",
      "50000/50000 [==============================] - 51s 1ms/step - loss: 0.3109 - acc: 0.8867 - val_loss: 2.9846 - val_acc: 0.4996\n",
      "Epoch 91/100\n",
      "50000/50000 [==============================] - 49s 980us/step - loss: 0.3103 - acc: 0.8887 - val_loss: 2.9522 - val_acc: 0.5049\n",
      "Epoch 92/100\n",
      "50000/50000 [==============================] - 53s 1ms/step - loss: 0.2975 - acc: 0.8923 - val_loss: 2.9758 - val_acc: 0.5016\n",
      "Epoch 93/100\n",
      "50000/50000 [==============================] - 51s 1ms/step - loss: 0.3124 - acc: 0.8878 - val_loss: 3.1087 - val_acc: 0.4868\n",
      "Epoch 94/100\n",
      "50000/50000 [==============================] - 51s 1ms/step - loss: 0.2905 - acc: 0.8957 - val_loss: 3.0402 - val_acc: 0.5030\n",
      "Epoch 95/100\n",
      "50000/50000 [==============================] - 50s 1000us/step - loss: 0.2840 - acc: 0.8973 - val_loss: 3.1000 - val_acc: 0.4975\n",
      "Epoch 96/100\n",
      "50000/50000 [==============================] - 49s 990us/step - loss: 0.2489 - acc: 0.9105 - val_loss: 3.1178 - val_acc: 0.4978\n",
      "Epoch 97/100\n",
      "50000/50000 [==============================] - 50s 999us/step - loss: 0.2644 - acc: 0.9048 - val_loss: 3.1218 - val_acc: 0.5007\n",
      "Epoch 98/100\n",
      "50000/50000 [==============================] - 51s 1ms/step - loss: 0.2976 - acc: 0.8931 - val_loss: 3.0915 - val_acc: 0.4915\n",
      "Epoch 99/100\n",
      "50000/50000 [==============================] - 51s 1ms/step - loss: 0.3068 - acc: 0.8899 - val_loss: 3.2048 - val_acc: 0.4911\n",
      "Epoch 100/100\n",
      "50000/50000 [==============================] - 51s 1ms/step - loss: 0.2628 - acc: 0.9042 - val_loss: 3.1680 - val_acc: 0.4964\n"
     ]
    },
    {
     "data": {
      "text/plain": [
       "<keras.callbacks.History at 0xb4de8b400>"
      ]
     },
     "execution_count": 6,
     "metadata": {},
     "output_type": "execute_result"
    }
   ],
   "source": [
    "# 訓練模型並檢視驗證集的結果\n",
    "model.fit(x_train, y_train, \n",
    "          epochs=100, \n",
    "          batch_size=256, \n",
    "          validation_data=(x_test, y_test), \n",
    "          shuffle=True)"
   ]
  },
  {
   "cell_type": "code",
   "execution_count": 8,
   "metadata": {},
   "outputs": [
    {
     "data": {
      "image/png": "[encoded data removed]",
      "text/plain": [
       "<Figure size 432x288 with 1 Axes>"
      ]
     },
     "metadata": {
      "needs_background": "light"
     },
     "output_type": "display_data"
    },
    {
     "data": {
      "image/png": "[encoded data removed]",
      "text/plain": [
       "<Figure size 432x288 with 1 Axes>"
      ]
     },
     "metadata": {
      "needs_background": "light"
     },
     "output_type": "display_data"
    }
   ],
   "source": [
    "# 以視覺畫方式檢視訓練過程\n",
    "import matplotlib.pyplot as plt\n",
    "train_loss = model.history.history[\"loss\"]\n",
    "valid_loss = model.history.history[\"val_loss\"]\n",
    "\n",
    "train_acc = model.history.history[\"acc\"]\n",
    "valid_acc = model.history.history[\"val_acc\"]\n",
    "\n",
    "plt.plot(range(len(train_loss)), train_loss, label=\"train loss\")\n",
    "plt.plot(range(len(valid_loss)), valid_loss, label=\"valid loss\")\n",
    "plt.legend()\n",
    "plt.title(\"Loss\")\n",
    "plt.show()\n",
    "\n",
    "plt.plot(range(len(train_acc)), train_acc, label=\"train accuracy\")\n",
    "plt.plot(range(len(valid_acc)), valid_acc, label=\"valid accuracy\")\n",
    "plt.legend()\n",
    "plt.title(\"Accuracy\")\n",
    "plt.show()"
   ]
  },
  {
   "cell_type": "markdown",
   "metadata": {},
   "source": [
    "## 作業\n",
    "1. 請將 Epoch 加到 500 個，並觀察 learning curve 的走勢\n",
    "2. 請將 Optimizer 換成 SGD，並觀察 learning curve 的走勢"
   ]
  }
 ],
 "metadata": {
  "kernelspec": {
   "display_name": "Python 3",
   "language": "python",
   "name": "python3"
  },
  "language_info": {
   "codemirror_mode": {
    "name": "ipython",
    "version": 3
   },
   "file_extension": ".py",
   "mimetype": "text/x-python",
   "name": "python",
   "nbconvert_exporter": "python",
   "pygments_lexer": "ipython3",
   "version": "3.7.3"
  }
 },
 "nbformat": 4,
 "nbformat_minor": 2
}
